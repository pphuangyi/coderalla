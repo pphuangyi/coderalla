{
 "cells": [
  {
   "cell_type": "code",
   "execution_count": 1,
   "metadata": {},
   "outputs": [],
   "source": [
    "import random"
   ]
  },
  {
   "cell_type": "code",
   "execution_count": null,
   "metadata": {},
   "outputs": [],
   "source": [
    "\n",
    "\n",
    "num_nodes = 10\n",
    "lower, upper = 0, 10\n",
    "unique = False\n",
    "\n",
    "values = []\n",
    "\n",
    "if unique:\n",
    "    S = set()\n",
    "\n",
    "count = 0\n",
    "while len(values) < num_nodes:\n",
    "    value = random.randint(lower, upper)\n",
    "    if unique:\n",
    "        if value in S:\n",
    "            continue\n",
    "        else:\n",
    "            S.add(value)\n",
    "            values.append(value)\n",
    "    else:\n",
    "        values.append(value)\n"
   ]
  },
  {
   "cell_type": "code",
   "execution_count": 3,
   "metadata": {},
   "outputs": [
    {
     "name": "stdout",
     "output_type": "stream",
     "text": [
      "[3, 6, 5, 0, 4, 7, 9, 1, 2, 8]\n"
     ]
    }
   ],
   "source": [
    "class TreeNode:\n",
    "    def __init__(self, val, left=None, right=None):\n",
    "        self.val = val\n",
    "        self.left = left\n",
    "        self.right = right\n",
    "\n",
    "def genRandomBiTree_range(num_nodes, range_start=0):\n",
    "    values = list(range(range_start, range_start + num_nodes))\n",
    "    random.shuffle(values)\n",
    "    \n",
    "    count = 0\n",
    "    head = TreeNode(values[0])\n",
    "    nodes = [head]\n",
    "    while count < num_nodes:\n",
    "        len(nodes)\n",
    "\n",
    "\n",
    "# genRandomBiTree_range(10)"
   ]
  },
  {
   "cell_type": "code",
   "execution_count": null,
   "metadata": {},
   "outputs": [],
   "source": []
  }
 ],
 "metadata": {
  "interpreter": {
   "hash": "4ad09f9fd21a1c2531abb4c3dadf7773a43b72e34365b59d6e5a1d67dfb327ce"
  },
  "kernelspec": {
   "display_name": "Python 3.9.2 64-bit",
   "name": "python3"
  },
  "language_info": {
   "codemirror_mode": {
    "name": "ipython",
    "version": 3
   },
   "file_extension": ".py",
   "mimetype": "text/x-python",
   "name": "python",
   "nbconvert_exporter": "python",
   "pygments_lexer": "ipython3",
   "version": "3.9.2"
  },
  "orig_nbformat": 4
 },
 "nbformat": 4,
 "nbformat_minor": 2
}
