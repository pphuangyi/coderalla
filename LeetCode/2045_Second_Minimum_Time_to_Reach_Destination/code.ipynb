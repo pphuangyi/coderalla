{
 "cells": [
  {
   "cell_type": "code",
   "execution_count": 15,
   "metadata": {},
   "outputs": [],
   "source": [
    "import random\n",
    "from collections import defaultdict"
   ]
  },
  {
   "cell_type": "code",
   "execution_count": 6,
   "metadata": {},
   "outputs": [],
   "source": [
    "def get_k(t, c):\n",
    "    \"\"\"\n",
    "    1. find smallest k such that k * t // c is an odd number\n",
    "    \"\"\"\n",
    "    q, r = t // c, t % c\n",
    "    if q % 2 == 0:\n",
    "        if r == 0:\n",
    "            return -1\n",
    "        return c // r + (c % r != 0)\n",
    "    else:\n",
    "        return 1\n",
    "\n",
    "def get_time(num, t, c):\n",
    "    \"\"\"\n",
    "    1. find smallest k such that k * t // c is an odd number\n",
    "    \"\"\"\n",
    "    k = get_k(t, c)\n",
    "    # print(k)\n",
    "    if k == -1:\n",
    "        return num * t\n",
    "    \n",
    "    q, r = num // k, num % k\n",
    "    if r == 0:\n",
    "        return (q - 1) * (k * t // c + 1) * c + k * t\n",
    "    else:\n",
    "        return q * (k * t // c + 1) * c + r * t\n",
    "     \n",
    "        \n",
    "def foo(num, t, c):\n",
    "    total_time = 0\n",
    "    for i in range(num):\n",
    "        total_time += t\n",
    "        if i < num - 1:\n",
    "            if (total_time // c) % 2 == 1:\n",
    "                total_time = ((total_time // c) + 1) * c\n",
    "                \n",
    "    return total_time\n",
    "\n",
    "\n",
    "# get_time is more complicated but is \n",
    "# about twice as fast as the more intuitive foo\n",
    "for _ in range(1000):\n",
    "    num = random.randint(1, 50)\n",
    "    t = random.randint(1, 10)\n",
    "    c = random.randint(1, 10)\n",
    "    \n",
    "    if foo(num, t, c) != get_time(num, t, c):\n",
    "        print(num, t, c)\n",
    "        print(foo(num, t, c))\n",
    "        print(get_time(num, t, c))\n",
    "        print()"
   ]
  },
  {
   "cell_type": "code",
   "execution_count": 27,
   "metadata": {},
   "outputs": [],
   "source": [
    "def process_input(fname):\n",
    "    with open(fname, 'r') as input:\n",
    "        n = int(input.readline())\n",
    "        edges = input.readline().strip()\n",
    "        time = int(input.readline())\n",
    "        change = int(input.readline())\n",
    "\n",
    "    edges = edges.replace('[[', '').replace(']]', '').split('],[')\n",
    "    edges = [list(map(int, e.split(','))) for e in edges]\n",
    "\n",
    "    return n, edges, time, change"
   ]
  },
  {
   "cell_type": "code",
   "execution_count": 23,
   "metadata": {},
   "outputs": [],
   "source": [
    "def get_adj(edges):\n",
    "    adj = defaultdict(list)\n",
    "    for f, t in edges:\n",
    "        adj[f].append(t)\n",
    "        adj[t].append(f)\n",
    "    return adj\n",
    "\n",
    "def find_second_shortest(adj, n):\n",
    "    nodes = [1]\n",
    "    found = False\n",
    "\n",
    "    step = 0\n",
    "    shortest = None\n",
    "    while True:\n",
    "        nodes_new = []\n",
    "        step += 1\n",
    "        for node in nodes:\n",
    "            for neighbor in adj[node]:\n",
    "                nodes_new.append(neighbor)\n",
    "                \n",
    "                if neighbor == n:\n",
    "                    if not found:\n",
    "                        found = True\n",
    "                        shortest = step\n",
    "                    else:\n",
    "                        if step > shortest:\n",
    "                            return step\n",
    "        nodes = nodes_new"
   ]
  },
  {
   "cell_type": "code",
   "execution_count": 29,
   "metadata": {},
   "outputs": [
    {
     "name": "stdout",
     "output_type": "stream",
     "text": [
      "12829\n"
     ]
    }
   ],
   "source": [
    "n, edges, time, change = process_input('data/input2')\n",
    "adj = get_adj(edges)\n",
    "num = find_second_shortest(adj, n)\n",
    "second_fast_time = get_time(num, time, change)\n",
    "print(second_fast_time)"
   ]
  },
  {
   "cell_type": "code",
   "execution_count": null,
   "metadata": {},
   "outputs": [],
   "source": []
  }
 ],
 "metadata": {
  "interpreter": {
   "hash": "4ad09f9fd21a1c2531abb4c3dadf7773a43b72e34365b59d6e5a1d67dfb327ce"
  },
  "kernelspec": {
   "display_name": "Python 3.9.2 64-bit",
   "name": "python3"
  },
  "language_info": {
   "codemirror_mode": {
    "name": "ipython",
    "version": 3
   },
   "file_extension": ".py",
   "mimetype": "text/x-python",
   "name": "python",
   "nbconvert_exporter": "python",
   "pygments_lexer": "ipython3",
   "version": "3.9.2"
  },
  "orig_nbformat": 4
 },
 "nbformat": 4,
 "nbformat_minor": 2
}
