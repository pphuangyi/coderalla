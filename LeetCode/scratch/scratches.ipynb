{
    "cells": [
        {
            "cell_type": "code",
            "execution_count": 1,
            "metadata": {},
            "outputs": [],
            "source": [
                "import matplotlib.pyplot as plt\n",
                "%matplotlib inline\n",
                "import numpy as np"
            ]
        },
        {
            "cell_type": "code",
            "execution_count": 2,
            "metadata": {},
            "outputs": [
                {
                    "name": "stdout",
                    "output_type": "stream",
                    "text": [
                        "case2: 3\n"
                    ]
                }
            ],
            "source": [
                "def singleNonDuplicate(nums):\n",
                "    f, t = 0, len(nums)\n",
                "    while f < t:\n",
                "        m = (f + t) // 2\n",
                "        if m == len(nums) - 1:\n",
                "            return nums[m]\n",
                "\n",
                "        if (\n",
                "            (m % 2 == 0 and nums[m] != nums[m + 1]) or\n",
                "            (m % 2 != 0 and nums[m] == nums[m + 1])\n",
                "        ):\n",
                "            print(f'case1: {m}')\n",
                "            input()\n",
                "            t = m\n",
                "        else:\n",
                "            print(f'case2: {m}')\n",
                "            input()\n",
                "            f = m + 1\n",
                "    return nums[f]\n",
                "\n",
                "nums = [3,3,7,7,10,11,11]\n",
                "\n",
                "singleNonDuplicate(nums)"
            ]
        },
        {
            "cell_type": "code",
            "execution_count": null,
            "metadata": {},
            "outputs": [],
            "source": [
                "def aeap(n, k):\n",
                "    q, r = n // k, n % k\n",
                "    return (q + 1)**r * q**(k - r)"
            ]
        },
        {
            "cell_type": "code",
            "execution_count": null,
            "metadata": {},
            "outputs": [],
            "source": [
                "for n in range(2, 200):\n",
                "    K = range(2, n + 1)\n",
                "    P = [aeap(n, k) for k in K]\n",
                "    idx = np.argmax(P)\n",
                "    A = [k for k, p in zip(K, P) if p == P[idx]]\n",
                "    # print(f'{n}: {A}, {[n / a for a in A]}')\n",
                "# plt.plot(K, P)"
            ]
        },
        {
            "cell_type": "code",
            "execution_count": null,
            "metadata": {},
            "outputs": [
                {
                    "name": "stdout",
                    "output_type": "stream",
                    "text": [
                        "[1, 1, 1, 0, 0, 0, 0, 0]\n"
                    ]
                }
            ],
            "source": [
                "a = [0] * 8\n",
                "a[0] = a[1] = a[2] = 1\n",
                "print(a)"
            ]
        },
        {
            "cell_type": "code",
            "execution_count": null,
            "metadata": {},
            "outputs": [
                {
                    "name": "stdout",
                    "output_type": "stream",
                    "text": [
                        "2: 1\n",
                        "3: 2\n",
                        "4: 4\n",
                        "5: 6\n",
                        "6: 9\n",
                        "7: 12\n",
                        "8: 18\n",
                        "9: 27\n",
                        "10: 36\n",
                        "11: 54\n",
                        "12: 81\n",
                        "13: 108\n",
                        "14: 162\n",
                        "15: 243\n",
                        "16: 324\n",
                        "17: 486\n",
                        "18: 729\n",
                        "19: 972\n",
                        "20: 1458\n",
                        "21: 2187\n",
                        "22: 2916\n",
                        "23: 4374\n",
                        "24: 6561\n",
                        "25: 8748\n",
                        "26: 13122\n",
                        "27: 19683\n",
                        "28: 26244\n",
                        "29: 39366\n",
                        "30: 59049\n"
                    ]
                }
            ],
            "source": [
                "memo = [0] * 59\n",
                "memo[0] = memo[1] = memo[2] = 1\n",
                "n = 30\n",
                "m = 2\n",
                "\n",
                "while m <= n:\n",
                "    vmax = ((m + 1) // 2) * (m // 2)\n",
                "    i = 2\n",
                "    while i <= m - i:\n",
                "        k = i * memo[m - i]\n",
                "        if k > vmax:\n",
                "            vmax = k\n",
                "            i += 1\n",
                "        else:\n",
                "            break\n",
                "    memo[m] = vmax\n",
                "    print(f'{m}: {memo[m]}')\n",
                "    m += 1"
            ]
        },
        {
            "cell_type": "code",
            "execution_count": null,
            "metadata": {},
            "outputs": [],
            "source": [
                "from collections import Counter, deque\n",
                "import heapq\n",
                "def leastInterval(tasks, n):\n",
                "    if n == 0:\n",
                "        return len(tasks)\n",
                "\n",
                "    counter = Counter(tasks)\n",
                "    dq = deque()\n",
                "    available = set(counter.keys())\n",
                "\n",
                "    num_idle, num_done_tasks = 0, 0\n",
                "    while num_done_tasks < len(tasks):\n",
                "        # get a task with the highest frequency that is not freezed\n",
                "        freq_max = 0\n",
                "        freq_max_key = None\n",
                "        for key in available:\n",
                "            if counter[key] > freq_max:\n",
                "                freq_max = counter[key]\n",
                "                freq_max_key = key\n",
                "        # print(freq_max_key)\n",
                "                \n",
                "        if freq_max_key is None:\n",
                "            # if there is no available task, add a idle unit to dq\n",
                "            num_idle += 1\n",
                "            dq.append('i')\n",
                "        else:\n",
                "            counter[freq_max_key] -= 1\n",
                "            num_done_tasks += 1\n",
                "            dq.append(freq_max_key)\n",
                "            available.remove(freq_max_key)\n",
                "\n",
                "        # if |deque| > n pop a element from the head of deque\n",
                "        if len(dq) > n:\n",
                "            task = dq.popleft()\n",
                "            # print(f'pop {task}')\n",
                "            if task.isupper():\n",
                "                available.add(task)\n",
                "        # print(available)\n",
                "    return len(tasks) + num_idle "
            ]
        },
        {
            "cell_type": "code",
            "execution_count": null,
            "metadata": {},
            "outputs": [],
            "source": [
                "\n",
                "def leastInterval(tasks, n):\n",
                "    if n == 0:\n",
                "        return len(tasks)\n",
                "    \n",
                "    counter = Counter(tasks)\n",
                "    available = set(counter.keys())\n",
                "    freq_heap = []\n",
                "    for task, freq in counter.items():\n",
                "        # use -freq as sorting key to get max heap\n",
                "        heapq.heappush(freq_heap, [-freq, task])\n",
                "    \n",
                "    dq = deque()\n",
                "    num_idle, num_done_tasks = 0, 0\n",
                "    while num_done_tasks < len(tasks): \n",
                "        if not available:\n",
                "            num_idle += 1\n",
                "            dq.append('i')\n",
                "        else:\n",
                "            # get an available task with the highest frequency\n",
                "            temp = []\n",
                "            successful = False\n",
                "            while freq_heap:\n",
                "                negFreq, task = heapq.heappop(freq_heap)\n",
                "                if task in available:\n",
                "                    # if there is an available task, add it to dq\n",
                "                    # decrease the its frequency in counter\n",
                "                    # remove it from available set\n",
                "                    negFreq += 1\n",
                "                    num_done_tasks += 1\n",
                "                    dq.append(task)\n",
                "                    successful = True\n",
                "                    available.remove(task)\n",
                "                    if negFreq < 0:\n",
                "                        heapq.heappush(freq_heap, [negFreq, task])\n",
                "                    break\n",
                "                else:\n",
                "                    temp.append([negFreq, task])\n",
                "            \n",
                "            if not successful:\n",
                "                num_idle += 1\n",
                "                # print('i')\n",
                "                dq.append('i')\n",
                "            for t in temp:\n",
                "                heapq.heappush(freq_heap, t)\n",
                "\n",
                "                \n",
                "        # if |deque| > n, pop a element from the head of deque\n",
                "        if len(dq) > n:\n",
                "            task = dq.popleft()\n",
                "            if task.isupper():\n",
                "                available.add(task)\n",
                "        print(dq)\n",
                "    return len(tasks) + num_idle "
            ]
        },
        {
            "cell_type": "code",
            "execution_count": null,
            "metadata": {},
            "outputs": [
                {
                    "name": "stdout",
                    "output_type": "stream",
                    "text": [
                        "deque(['A'])\n",
                        "deque(['A', 'B'])\n",
                        "deque(['B', 'C'])\n",
                        "deque(['C', 'A'])\n",
                        "deque(['A', 'D'])\n",
                        "deque(['D', 'E'])\n",
                        "deque(['E', 'A'])\n",
                        "deque(['A', 'F'])\n",
                        "deque(['F', 'G'])\n",
                        "deque(['G', 'A'])\n",
                        "deque(['A', 'i'])\n",
                        "deque(['i', 'i'])\n",
                        "deque(['i', 'A'])\n",
                        "deque(['A', 'i'])\n",
                        "deque(['i', 'i'])\n",
                        "deque(['i', 'A'])\n"
                    ]
                },
                {
                    "data": {
                        "text/plain": [
                            "16"
                        ]
                    },
                    "execution_count": 21,
                    "metadata": {},
                    "output_type": "execute_result"
                }
            ],
            "source": [
                "n = 2\n",
                "tasks = ['A', 'A', 'A', 'B', 'B', 'B']\n",
                "tasks = [\"A\",\"A\",\"A\",\"A\",\"A\",\"A\",\"B\",\"C\",\"D\",\"E\",\"F\",\"G\"]\n",
                "leastInterval(tasks, n)"
            ]
        },
        {
            "cell_type": "code",
            "execution_count": null,
            "metadata": {},
            "outputs": [],
            "source": [
                "str1 = '[26,50,47,11,56,31,18,55,32,9,4,2,23,53,43,0,44,30,6,51,29,51,15,17,22,34,38,33,42,3,25,10,49,51,7,58,16,21,19,31,19,12,41,35,45,52,13,59,47,36,1,28,48,39,24,8,46,20,5,54,27,37,14,57,40,59,8,45,4,51,47,7,58,4,31,23,54,7,9,56,2,46,56,1,17,42,11,30,12,44,14,32,7,10,23,1,29,27,6,10,33,24,19,10,35,30,35,10,17,49,50,36,29,1,48,44,7,11,24,57,42,30,10,55,3,20,38,15,7,46,32,21,40,16,59,30,53,17,18,22,51,11,53,36,57,26,5,56,36,55,31,34,57,7,52,37,31,10,0,51,41,2,32,25,0,7,49,47,13,14,24,57,28,4,45,43,39,38,8,2,44,45,29,25,25,12,54,5,44,30,27,23,26,7,33,58,41,25,52,40,58,9,52,40]'\n",
                "str2 = '[26,50,47,11,56,31,18,55,32,9,4,2,23,53,43,0,44,30,6,51,29,51,15,17,22,34,38,33,42,3,25,10,49,51,7,58,16,21,19,31,19,12,41,35,45,52,13,59,47,36,1,28,48,39,24,8,46,20,5,54,27,37,14,57,40,59,8,45,4,51,47,7,58,4,31,23,54,7,9,56,2,46,56,1,17,42,11,30,12,44,14,32,7,10,23,1,29,27,6,10,33,24,19,10,35,30,35,10,17,49,50,36,29,1,48,44,7,11,24,57,42,30,10,55,3,20,38,15,7,46,32,21,40,16,59,30,53,17,18,22,51,11,53,36,57,26,5,36,56,55,31,34,57,7,52,37,31,10,0,51,41,2,32,25,0,7,49,47,13,14,24,57,28,4,45,43,39,38,8,2,44,45,29,25,25,12,54,5,44,30,27,23,26,7,33,58,41,25,52,40,58,9,52,40]'"
            ]
        },
        {
            "cell_type": "code",
            "execution_count": null,
            "metadata": {},
            "outputs": [
                {
                    "name": "stdout",
                    "output_type": "stream",
                    "text": [
                        ",26,5,56,36,55,31,34,57,7,52,3\n",
                        ",26,5,36,56,55,31,34,57,7,52,3\n"
                    ]
                }
            ],
            "source": [
                "print(str1[410:440])\n",
                "print(str2[410:440])"
            ]
        },
        {
            "cell_type": "code",
            "execution_count": null,
            "metadata": {},
            "outputs": [],
            "source": [
                "import difflib"
            ]
        },
        {
            "cell_type": "code",
            "execution_count": null,
            "metadata": {},
            "outputs": [
                {
                    "name": "stdout",
                    "output_type": "stream",
                    "text": [
                        "Delete \"5\" from position 416\n",
                        "\n",
                        "Delete \"6\" from position 417\n",
                        "\n",
                        "Delete \",\" from position 418\n",
                        "\n",
                        "Add \"6\" to position 420\n",
                        "\n",
                        "Add \",\" to position 421\n",
                        "\n",
                        "Add \"5\" to position 422\n",
                        "\n"
                    ]
                }
            ],
            "source": [
                "for i, s in enumerate(difflib.ndiff(str1, str2)):\n",
                "    if s[0]==' ': continue\n",
                "    elif s[0]=='-':\n",
                "        print(u'Delete \"{}\" from position {}'.format(s[-1],i))\n",
                "    elif s[0]=='+':\n",
                "        print(u'Add \"{}\" to position {}'.format(s[-1],i))    \n",
                "    print()"
            ]
        }
    ],
    "metadata": {
        "interpreter": {
            "hash": "4ad09f9fd21a1c2531abb4c3dadf7773a43b72e34365b59d6e5a1d67dfb327ce"
        },
        "kernelspec": {
            "display_name": "Python 3.9.2 64-bit",
            "name": "python3"
        },
        "language_info": {
            "codemirror_mode": {
                "name": "ipython",
                "version": 3
            },
            "file_extension": ".py",
            "mimetype": "text/x-python",
            "name": "python",
            "nbconvert_exporter": "python",
            "pygments_lexer": "ipython3",
            "version": "3.9.2"
        },
        "orig_nbformat": 4
    },
    "nbformat": 4,
    "nbformat_minor": 2
}
