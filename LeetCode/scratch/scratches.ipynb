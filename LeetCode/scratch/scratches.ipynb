{
    "cells": [
        {
            "cell_type": "code",
            "execution_count": 14,
            "source": [
                "import matplotlib.pyplot as plt\r\n",
                "%matplotlib inline\r\n",
                "import numpy as np"
            ],
            "outputs": [],
            "metadata": {}
        },
        {
            "cell_type": "code",
            "execution_count": 1,
            "source": [
                "def aeap(n, k):\r\n",
                "    q, r = n // k, n % k\r\n",
                "    return (q + 1)**r * q**(k - r)"
            ],
            "outputs": [],
            "metadata": {}
        },
        {
            "cell_type": "code",
            "execution_count": 24,
            "source": [
                "for n in range(2, 200):\r\n",
                "    K = range(2, n + 1)\r\n",
                "    P = [aeap(n, k) for k in K]\r\n",
                "    idx = np.argmax(P)\r\n",
                "    A = [k for k, p in zip(K, P) if p == P[idx]]\r\n",
                "    # print(f'{n}: {A}, {[n / a for a in A]}')\r\n",
                "# plt.plot(K, P)"
            ],
            "outputs": [],
            "metadata": {}
        },
        {
            "cell_type": "code",
            "execution_count": 27,
            "source": [
                "a = [0] * 8\r\n",
                "a[0] = a[1] = a[2] = 1\r\n",
                "print(a)"
            ],
            "outputs": [
                {
                    "output_type": "stream",
                    "name": "stdout",
                    "text": [
                        "[1, 1, 1, 0, 0, 0, 0, 0]\n"
                    ]
                }
            ],
            "metadata": {}
        },
        {
            "cell_type": "code",
            "execution_count": 30,
            "source": [
                "memo = [0] * 59\r\n",
                "memo[0] = memo[1] = memo[2] = 1\r\n",
                "n = 30\r\n",
                "m = 2\r\n",
                "\r\n",
                "while m <= n:\r\n",
                "    vmax = ((m + 1) // 2) * (m // 2)\r\n",
                "    i = 2\r\n",
                "    while i <= m - i:\r\n",
                "        k = i * memo[m - i]\r\n",
                "        if k > vmax:\r\n",
                "            vmax = k\r\n",
                "            i += 1\r\n",
                "        else:\r\n",
                "            break\r\n",
                "    memo[m] = vmax\r\n",
                "    print(f'{m}: {memo[m]}')\r\n",
                "    m += 1"
            ],
            "outputs": [
                {
                    "output_type": "stream",
                    "name": "stdout",
                    "text": [
                        "2: 1\n",
                        "3: 2\n",
                        "4: 4\n",
                        "5: 6\n",
                        "6: 9\n",
                        "7: 12\n",
                        "8: 18\n",
                        "9: 27\n",
                        "10: 36\n",
                        "11: 54\n",
                        "12: 81\n",
                        "13: 108\n",
                        "14: 162\n",
                        "15: 243\n",
                        "16: 324\n",
                        "17: 486\n",
                        "18: 729\n",
                        "19: 972\n",
                        "20: 1458\n",
                        "21: 2187\n",
                        "22: 2916\n",
                        "23: 4374\n",
                        "24: 6561\n",
                        "25: 8748\n",
                        "26: 13122\n",
                        "27: 19683\n",
                        "28: 26244\n",
                        "29: 39366\n",
                        "30: 59049\n"
                    ]
                }
            ],
            "metadata": {}
        },
        {
            "cell_type": "code",
            "execution_count": 3,
            "source": [
                "from collections import Counter, deque\r\n",
                "import heapq\r\n",
                "def leastInterval(tasks, n):\r\n",
                "    if n == 0:\r\n",
                "        return len(tasks)\r\n",
                "\r\n",
                "    counter = Counter(tasks)\r\n",
                "    dq = deque()\r\n",
                "    available = set(counter.keys())\r\n",
                "\r\n",
                "    num_idle, num_done_tasks = 0, 0\r\n",
                "    while num_done_tasks < len(tasks):\r\n",
                "        # get a task with the highest frequency that is not freezed\r\n",
                "        freq_max = 0\r\n",
                "        freq_max_key = None\r\n",
                "        for key in available:\r\n",
                "            if counter[key] > freq_max:\r\n",
                "                freq_max = counter[key]\r\n",
                "                freq_max_key = key\r\n",
                "        # print(freq_max_key)\r\n",
                "                \r\n",
                "        if freq_max_key is None:\r\n",
                "            # if there is no available task, add a idle unit to dq\r\n",
                "            num_idle += 1\r\n",
                "            dq.append('i')\r\n",
                "        else:\r\n",
                "            counter[freq_max_key] -= 1\r\n",
                "            num_done_tasks += 1\r\n",
                "            dq.append(freq_max_key)\r\n",
                "            available.remove(freq_max_key)\r\n",
                "\r\n",
                "        # if |deque| > n pop a element from the head of deque\r\n",
                "        if len(dq) > n:\r\n",
                "            task = dq.popleft()\r\n",
                "            # print(f'pop {task}')\r\n",
                "            if task.isupper():\r\n",
                "                available.add(task)\r\n",
                "        # print(available)\r\n",
                "    return len(tasks) + num_idle "
            ],
            "outputs": [],
            "metadata": {}
        },
        {
            "cell_type": "code",
            "execution_count": 20,
            "source": [
                "\r\n",
                "def leastInterval(tasks, n):\r\n",
                "    if n == 0:\r\n",
                "        return len(tasks)\r\n",
                "    \r\n",
                "    counter = Counter(tasks)\r\n",
                "    available = set(counter.keys())\r\n",
                "    freq_heap = []\r\n",
                "    for task, freq in counter.items():\r\n",
                "        # use -freq as sorting key to get max heap\r\n",
                "        heapq.heappush(freq_heap, [-freq, task])\r\n",
                "    \r\n",
                "    dq = deque()\r\n",
                "    num_idle, num_done_tasks = 0, 0\r\n",
                "    while num_done_tasks < len(tasks): \r\n",
                "        if not available:\r\n",
                "            num_idle += 1\r\n",
                "            dq.append('i')\r\n",
                "        else:\r\n",
                "            # get an available task with the highest frequency\r\n",
                "            temp = []\r\n",
                "            successful = False\r\n",
                "            while freq_heap:\r\n",
                "                negFreq, task = heapq.heappop(freq_heap)\r\n",
                "                if task in available:\r\n",
                "                    # if there is an available task, add it to dq\r\n",
                "                    # decrease the its frequency in counter\r\n",
                "                    # remove it from available set\r\n",
                "                    negFreq += 1\r\n",
                "                    num_done_tasks += 1\r\n",
                "                    dq.append(task)\r\n",
                "                    successful = True\r\n",
                "                    available.remove(task)\r\n",
                "                    if negFreq < 0:\r\n",
                "                        heapq.heappush(freq_heap, [negFreq, task])\r\n",
                "                    break\r\n",
                "                else:\r\n",
                "                    temp.append([negFreq, task])\r\n",
                "            \r\n",
                "            if not successful:\r\n",
                "                num_idle += 1\r\n",
                "                # print('i')\r\n",
                "                dq.append('i')\r\n",
                "            for t in temp:\r\n",
                "                heapq.heappush(freq_heap, t)\r\n",
                "\r\n",
                "                \r\n",
                "        # if |deque| > n, pop a element from the head of deque\r\n",
                "        if len(dq) > n:\r\n",
                "            task = dq.popleft()\r\n",
                "            if task.isupper():\r\n",
                "                available.add(task)\r\n",
                "        print(dq)\r\n",
                "    return len(tasks) + num_idle "
            ],
            "outputs": [],
            "metadata": {}
        },
        {
            "cell_type": "code",
            "execution_count": 21,
            "source": [
                "n = 2\r\n",
                "tasks = ['A', 'A', 'A', 'B', 'B', 'B']\r\n",
                "tasks = [\"A\",\"A\",\"A\",\"A\",\"A\",\"A\",\"B\",\"C\",\"D\",\"E\",\"F\",\"G\"]\r\n",
                "leastInterval(tasks, n)"
            ],
            "outputs": [
                {
                    "output_type": "stream",
                    "name": "stdout",
                    "text": [
                        "deque(['A'])\n",
                        "deque(['A', 'B'])\n",
                        "deque(['B', 'C'])\n",
                        "deque(['C', 'A'])\n",
                        "deque(['A', 'D'])\n",
                        "deque(['D', 'E'])\n",
                        "deque(['E', 'A'])\n",
                        "deque(['A', 'F'])\n",
                        "deque(['F', 'G'])\n",
                        "deque(['G', 'A'])\n",
                        "deque(['A', 'i'])\n",
                        "deque(['i', 'i'])\n",
                        "deque(['i', 'A'])\n",
                        "deque(['A', 'i'])\n",
                        "deque(['i', 'i'])\n",
                        "deque(['i', 'A'])\n"
                    ]
                },
                {
                    "output_type": "execute_result",
                    "data": {
                        "text/plain": [
                            "16"
                        ]
                    },
                    "metadata": {},
                    "execution_count": 21
                }
            ],
            "metadata": {}
        },
        {
            "cell_type": "code",
            "execution_count": 2,
            "source": [
                "str1 = '[26,50,47,11,56,31,18,55,32,9,4,2,23,53,43,0,44,30,6,51,29,51,15,17,22,34,38,33,42,3,25,10,49,51,7,58,16,21,19,31,19,12,41,35,45,52,13,59,47,36,1,28,48,39,24,8,46,20,5,54,27,37,14,57,40,59,8,45,4,51,47,7,58,4,31,23,54,7,9,56,2,46,56,1,17,42,11,30,12,44,14,32,7,10,23,1,29,27,6,10,33,24,19,10,35,30,35,10,17,49,50,36,29,1,48,44,7,11,24,57,42,30,10,55,3,20,38,15,7,46,32,21,40,16,59,30,53,17,18,22,51,11,53,36,57,26,5,56,36,55,31,34,57,7,52,37,31,10,0,51,41,2,32,25,0,7,49,47,13,14,24,57,28,4,45,43,39,38,8,2,44,45,29,25,25,12,54,5,44,30,27,23,26,7,33,58,41,25,52,40,58,9,52,40]'\r\n",
                "str2 = '[26,50,47,11,56,31,18,55,32,9,4,2,23,53,43,0,44,30,6,51,29,51,15,17,22,34,38,33,42,3,25,10,49,51,7,58,16,21,19,31,19,12,41,35,45,52,13,59,47,36,1,28,48,39,24,8,46,20,5,54,27,37,14,57,40,59,8,45,4,51,47,7,58,4,31,23,54,7,9,56,2,46,56,1,17,42,11,30,12,44,14,32,7,10,23,1,29,27,6,10,33,24,19,10,35,30,35,10,17,49,50,36,29,1,48,44,7,11,24,57,42,30,10,55,3,20,38,15,7,46,32,21,40,16,59,30,53,17,18,22,51,11,53,36,57,26,5,36,56,55,31,34,57,7,52,37,31,10,0,51,41,2,32,25,0,7,49,47,13,14,24,57,28,4,45,43,39,38,8,2,44,45,29,25,25,12,54,5,44,30,27,23,26,7,33,58,41,25,52,40,58,9,52,40]'"
            ],
            "outputs": [],
            "metadata": {}
        },
        {
            "cell_type": "code",
            "execution_count": 6,
            "source": [
                "print(str1[410:440])\r\n",
                "print(str2[410:440])"
            ],
            "outputs": [
                {
                    "output_type": "stream",
                    "name": "stdout",
                    "text": [
                        ",26,5,56,36,55,31,34,57,7,52,3\n",
                        ",26,5,36,56,55,31,34,57,7,52,3\n"
                    ]
                }
            ],
            "metadata": {}
        },
        {
            "cell_type": "code",
            "execution_count": 4,
            "source": [
                "import difflib"
            ],
            "outputs": [],
            "metadata": {}
        },
        {
            "cell_type": "code",
            "execution_count": 5,
            "source": [
                "for i, s in enumerate(difflib.ndiff(str1, str2)):\r\n",
                "    if s[0]==' ': continue\r\n",
                "    elif s[0]=='-':\r\n",
                "        print(u'Delete \"{}\" from position {}'.format(s[-1],i))\r\n",
                "    elif s[0]=='+':\r\n",
                "        print(u'Add \"{}\" to position {}'.format(s[-1],i))    \r\n",
                "    print()"
            ],
            "outputs": [
                {
                    "output_type": "stream",
                    "name": "stdout",
                    "text": [
                        "Delete \"5\" from position 416\n",
                        "\n",
                        "Delete \"6\" from position 417\n",
                        "\n",
                        "Delete \",\" from position 418\n",
                        "\n",
                        "Add \"6\" to position 420\n",
                        "\n",
                        "Add \",\" to position 421\n",
                        "\n",
                        "Add \"5\" to position 422\n",
                        "\n"
                    ]
                }
            ],
            "metadata": {}
        }
    ],
    "metadata": {
        "orig_nbformat": 4,
        "language_info": {
            "name": "python",
            "version": "3.9.2",
            "mimetype": "text/x-python",
            "codemirror_mode": {
                "name": "ipython",
                "version": 3
            },
            "pygments_lexer": "ipython3",
            "nbconvert_exporter": "python",
            "file_extension": ".py"
        },
        "kernelspec": {
            "name": "python3",
            "display_name": "Python 3.9.2 64-bit"
        },
        "interpreter": {
            "hash": "4ad09f9fd21a1c2531abb4c3dadf7773a43b72e34365b59d6e5a1d67dfb327ce"
        }
    },
    "nbformat": 4,
    "nbformat_minor": 2
}