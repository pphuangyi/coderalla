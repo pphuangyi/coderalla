{
 "cells": [
  {
   "cell_type": "code",
   "execution_count": 53,
   "metadata": {},
   "outputs": [],
   "source": [
    "from math import inf\n",
    "from collections import defaultdict\n",
    "from heapq import heappush, heappop\n",
    "import numpy as np\n",
    "import random"
   ]
  },
  {
   "cell_type": "code",
   "execution_count": 54,
   "metadata": {},
   "outputs": [],
   "source": [
    "def trapRainWater(heightMap):\n",
    "    m, n = len(heightMap), len(heightMap[0])\n",
    "    \n",
    "    nodes = (\n",
    "        [(0, j) for j in range(n)] + \n",
    "        [(m - 1, j) for j in range(n)] +\n",
    "        [(i, 0) for i in range(1, m - 1)] + \n",
    "        [(i, n - 1) for i in range(1, m - 1)]\n",
    "    )\n",
    "    sink = set(nodes)\n",
    "    sink_heights = []\n",
    "    for i, j in nodes:\n",
    "        heappush(sink_heights, (heightMap[i][j], (i, j)))\n",
    "\n",
    "    rain_water = 0\n",
    "    while sink_heights:\n",
    "        sink_height, (i, j) = heappop(sink_heights)\n",
    "        for di, dj in [(-1, 0), (1, 0), (0, -1), (0, 1)]:\n",
    "            u, v = i + di, j + dj\n",
    "            if (\n",
    "                (0 <= u < m) and\n",
    "                (0 <= v < n) and\n",
    "                (u, v) not in sink\n",
    "            ):\n",
    "                h = heightMap[u][v]\n",
    "                rain_water += max(0, sink_height - h)\n",
    "                sink.add((u, v))\n",
    "                heappush(sink_heights, (max(h, sink_height), (u, v)))\n",
    "        if len(sink) == m * n:\n",
    "            break\n",
    "    return rain_water"
   ]
  },
  {
   "cell_type": "code",
   "execution_count": 55,
   "metadata": {},
   "outputs": [
    {
     "name": "stdout",
     "output_type": "stream",
     "text": [
      "[[3, 3, 3, 3, 3], [3, 2, 2, 2, 3], [3, 2, 1, 2, 3], [3, 2, 2, 2, 3], [3, 3, 3, 3, 3]]\n"
     ]
    },
    {
     "data": {
      "text/plain": [
       "10"
      ]
     },
     "execution_count": 55,
     "metadata": {},
     "output_type": "execute_result"
    }
   ],
   "source": [
    "heightMap = [\n",
    "    [4, 3, 2, 1, 4, 1], \n",
    "    [2, 3, 3, 2, 2, 4], \n",
    "    [5, 1, 2, 4, 5, 5], \n",
    "    [2, 5, 3, 2, 4, 3], \n",
    "    [4, 2, 3, 1, 5, 4], \n",
    "    [1, 3, 4, 2, 5, 1]\n",
    "]\n",
    "heightMap = [\n",
    "    [1,4,3,1,3,2],\n",
    "    [3,2,1,3,2,4],\n",
    "    [2,3,3,2,3,1]\n",
    "]\n",
    "heightMap = [\n",
    "    [3,3,3,3,3],\n",
    "    [3,2,2,2,3],\n",
    "    [3,2,1,2,3],\n",
    "    [3,2,2,2,3],\n",
    "    [3,3,3,3,3]\n",
    "]\n",
    "# heightMap = np.genfromtxt('input1.dat', dtype=int)\n",
    "\n",
    "# m, n = 200, 200\n",
    "# heightMap = [[random.randint(1, 10000) for _ in range(n)] for _ in range(m)]\n",
    "print(heightMap)\n",
    "trapRainWater(heightMap)"
   ]
  },
  {
   "cell_type": "code",
   "execution_count": null,
   "metadata": {},
   "outputs": [],
   "source": []
  }
 ],
 "metadata": {
  "interpreter": {
   "hash": "4ad09f9fd21a1c2531abb4c3dadf7773a43b72e34365b59d6e5a1d67dfb327ce"
  },
  "kernelspec": {
   "display_name": "Python 3.9.2 64-bit",
   "language": "python",
   "name": "python3"
  },
  "language_info": {
   "codemirror_mode": {
    "name": "ipython",
    "version": 3
   },
   "file_extension": ".py",
   "mimetype": "text/x-python",
   "name": "python",
   "nbconvert_exporter": "python",
   "pygments_lexer": "ipython3",
   "version": "3.9.2"
  },
  "orig_nbformat": 4
 },
 "nbformat": 4,
 "nbformat_minor": 2
}
