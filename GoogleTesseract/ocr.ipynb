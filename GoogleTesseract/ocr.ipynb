{
 "cells": [
  {
   "cell_type": "code",
   "execution_count": 1,
   "metadata": {},
   "outputs": [],
   "source": [
    "from PIL import Image\n",
    "import pytesseract\n",
    "import argparse\n",
    "import cv2\n",
    "import os"
   ]
  },
  {
   "cell_type": "code",
   "execution_count": 2,
   "metadata": {},
   "outputs": [
    {
     "data": {
      "text/plain": [
       "72828"
      ]
     },
     "execution_count": 2,
     "metadata": {},
     "output_type": "execute_result"
    }
   ],
   "source": [
    "# os.getcwd()\n",
    "os.getpid()"
   ]
  },
  {
   "cell_type": "code",
   "execution_count": 10,
   "metadata": {},
   "outputs": [],
   "source": [
    "image = cv2.imread('images/20200308_181151.jpg')"
   ]
  },
  {
   "cell_type": "code",
   "execution_count": 11,
   "metadata": {},
   "outputs": [],
   "source": [
    "gray = cv2.cvtColor(image, cv2.COLOR_BGR2GRAY)"
   ]
  },
  {
   "cell_type": "code",
   "execution_count": 12,
   "metadata": {},
   "outputs": [],
   "source": [
    "gray_thresh = cv2.threshold(gray, 0, 255, cv2.THRESH_BINARY | cv2.THRESH_OTSU)[1]\n",
    "gray_blur = cv2.medianBlur(gray, 3)"
   ]
  },
  {
   "cell_type": "code",
   "execution_count": 13,
   "metadata": {},
   "outputs": [
    {
     "name": "stdout",
     "output_type": "stream",
     "text": [
      "72828_thresh.png\n",
      "72828_blur.png\n"
     ]
    }
   ],
   "source": [
    "filename_thresh = '{}_thresh.png'.format(os.getpid())\n",
    "filename_blur = '{}_blur.png'.format(os.getpid())\n",
    "print(filename_thresh)\n",
    "print(filename_blur)"
   ]
  },
  {
   "cell_type": "code",
   "execution_count": 14,
   "metadata": {},
   "outputs": [
    {
     "name": "stdout",
     "output_type": "stream",
     "text": [
      "thresh conversion successful: True\n",
      "blur conversion successful: True\n"
     ]
    }
   ],
   "source": [
    "status_thresh = cv2.imwrite(filename_thresh, gray_thresh)\n",
    "status_blur = cv2.imwrite(filename_blur, gray_blur)\n",
    "print('thresh conversion successful: {}'.format(status_thresh))\n",
    "print('blur conversion successful: {}'.format(status_blur))"
   ]
  },
  {
   "cell_type": "code",
   "execution_count": 15,
   "metadata": {},
   "outputs": [
    {
     "name": "stdout",
     "output_type": "stream",
     "text": [
      "‘\n",
      "\n",
      "S CTiON OF COMPUTATIONAL BIOMEDICINE 8.\n",
      "BIOMEDICAL DATA SCIENCE\n",
      "\n",
      "presents\n",
      "\n",
      "A njené Addin 011,\n",
      "PhD, JIP\n",
      "\n",
      "; Health Scientisl.-\\dmin'1strator\n",
      "The National Institutes of Health\n",
      "'LEVEEUGING ELECTRONIC MEDICAL\n",
      "\n",
      "RECORDS AND BIOBANKS FOR\n",
      "BIOMEDICAL RESEARCH: FROM SIMH\n",
      "TO ALL OF ['S'\n",
      "\n",
      "FRIDAY. MARCH 13. 2020\n",
      "K(BD 1103 I 1:30 PM\n",
      "Host: Andrey thctsky\n"
     ]
    }
   ],
   "source": [
    "text = pytesseract.image_to_string(Image.open(filename_blur))\n",
    "print(text)"
   ]
  },
  {
   "cell_type": "code",
   "execution_count": null,
   "metadata": {},
   "outputs": [],
   "source": []
  }
 ],
 "metadata": {
  "kernelspec": {
   "display_name": "Python 3",
   "language": "python",
   "name": "python3"
  },
  "language_info": {
   "codemirror_mode": {
    "name": "ipython",
    "version": 3
   },
   "file_extension": ".py",
   "mimetype": "text/x-python",
   "name": "python",
   "nbconvert_exporter": "python",
   "pygments_lexer": "ipython3",
   "version": "3.6.5"
  }
 },
 "nbformat": 4,
 "nbformat_minor": 2
}
