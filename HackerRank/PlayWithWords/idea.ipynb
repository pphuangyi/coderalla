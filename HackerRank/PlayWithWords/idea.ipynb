{
 "cells": [
  {
   "cell_type": "markdown",
   "metadata": {},
   "source": [
    "# Play with words\n",
    "Shaka and his brother have created a boring game which is played like this:\n",
    "\n",
    "They take a word composed of lowercase English letters and try to get the maximum possible score by building exactly $2$ palindromic subsequences. \n",
    "The score obtained is the product of the length of these $2$ subsequences.\n",
    "\n",
    "Let's say $A$ and $B$ are two subsequences from the initial string. \n",
    "If $a_0$ and $a_1$ are the smallest and the largest positions (from the initial word) respectively in $A$; and $b_0$ and $b_1$ are the smallest and the largest positions (from the initial word) respectively in $B$, then the following statements hold true:\n",
    "\n",
    " - $a_0 \\leq a_1$;\n",
    " - $b_0 \\leq b_1$, and ;\n",
    " - $a_1 < b_0$.\n",
    " \n",
    "$i.e.$, the positions of the subsequences should not cross over each other.\n",
    "\n",
    "Hence the score obtained is the product of lengths of subsequences $A$ and $B$. \n",
    "Such subsequences can be numerous for a larger initial word, and hence it becomes harder to find out the maximum possible score. \n",
    "Can you help Shaka and his brother find this out?\n",
    "\n",
    "## Example:\n",
    "\n",
    "> `s = 'eeegeeksforskeeggeeks'`\n",
    "\n",
    "A possible optimal solution is **eee**-g-**ee**-ksfor-**skeeggeeks** being **eeeee** the one subsequence and **skeeggeeks** the other one. We can also select **eegee** in place of **eeeee**, as both have the same length.\n",
    "\n",
    "\n",
    "## Hints: \n",
    "- **hint 1:** Dynamic programing\n",
    "- **hint 2:** Algorithm of finding the longest palindromic subsequence: https://www.geeksforgeeks.org/longest-palindromic-subsequence-dp-12/"
   ]
  },
  {
   "cell_type": "code",
   "execution_count": 7,
   "metadata": {},
   "outputs": [
    {
     "name": "stdout",
     "output_type": "stream",
     "text": [
      "L(0, 0) = 1, L(1, 20) = 15\n",
      "L(0, 1) = 2, L(2, 20) = 13\n",
      "L(0, 2) = 3, L(3, 20) = 11\n",
      "L(0, 3) = 3, L(4, 20) = 10\n",
      "L(0, 4) = 4, L(5, 20) = 10\n",
      "L(0, 5) = 5, L(6, 20) = 10\n",
      "L(0, 6) = 5, L(7, 20) = 10\n",
      "L(0, 7) = 5, L(8, 20) = 10\n",
      "L(0, 8) = 5, L(9, 20) = 10\n",
      "L(0, 9) = 5, L(10, 20) = 10\n",
      "L(0, 10) = 5, L(11, 20) = 10\n",
      "L(0, 11) = 5, L(12, 20) = 8\n",
      "L(0, 12) = 5, L(13, 20) = 6\n",
      "L(0, 13) = 7, L(14, 20) = 4\n",
      "L(0, 14) = 9, L(15, 20) = 2\n",
      "L(0, 15) = 11, L(16, 20) = 2\n",
      "L(0, 16) = 11, L(17, 20) = 2\n",
      "L(0, 17) = 13, L(18, 20) = 1\n",
      "L(0, 18) = 15, L(19, 20) = 1\n",
      "L(0, 19) = 15, L(20, 20) = 1\n"
     ]
    },
    {
     "data": {
      "text/plain": [
       "50"
      ]
     },
     "execution_count": 7,
     "metadata": {},
     "output_type": "execute_result"
    }
   ],
   "source": [
    "def playWithWords(s):\n",
    "    n = len(s)\n",
    "    if n <= 1:\n",
    "        return 0 \n",
    "    \n",
    "    diag0, diag1 = [1] * n, [1 + int(s[i] == s[i + 1]) for i in range(n - 1)]\n",
    "    \n",
    "    F, S = [1] * (n - 1), [1] * (n - 1)\n",
    "    for i in range(2, n):\n",
    "        F[i - 1], S[i - 1] = diag1[0], diag1[-1]\n",
    "        \n",
    "        diag = [0] * (n - i)\n",
    "        for j in range(n - i):\n",
    "            diag[j] = max(diag1[j], diag1[j + 1])\n",
    "            if s[j + i] == s[j]:\n",
    "                diag[j] = max(diag[j], diag0[j + 1] + 2)\n",
    "        \n",
    "        diag0, diag1 = diag1, diag\n",
    "    \n",
    "    maxProd = 0\n",
    "    for i in range(0, n - 1):\n",
    "        maxProd = max(maxProd, F[i] * S[n - 2 - i])\n",
    "    \n",
    "    for i in range(len(F)):\n",
    "        print(f'L(0, {i}) = {F[i]}, L({i + 1}, {n - 1}) = {S[n - 2 - i]}')\n",
    "        \n",
    "    return maxProd\n",
    "\n",
    "s = 'eeegeeksforskeeggeeks'\n",
    "playWithWords(s)"
   ]
  },
  {
   "cell_type": "code",
   "execution_count": null,
   "metadata": {},
   "outputs": [],
   "source": [
    "# input_index = ''\n",
    "# input_fname = f'data/input{input_index}.txt'\n",
    "# output_fname = f'data/output{input_index}.txt'\n",
    "\n",
    "# with open(input_fname, 'r') as handle:\n",
    "#     s = handle.readline().strip()\n",
    "#     result = playWithWords(s)\n",
    "#     print(result)"
   ]
  }
 ],
 "metadata": {
  "kernelspec": {
   "display_name": "Python 3",
   "language": "python",
   "name": "python3"
  },
  "language_info": {
   "codemirror_mode": {
    "name": "ipython",
    "version": 3
   },
   "file_extension": ".py",
   "mimetype": "text/x-python",
   "name": "python",
   "nbconvert_exporter": "python",
   "pygments_lexer": "ipython3",
   "version": "3.7.5"
  }
 },
 "nbformat": 4,
 "nbformat_minor": 4
}
