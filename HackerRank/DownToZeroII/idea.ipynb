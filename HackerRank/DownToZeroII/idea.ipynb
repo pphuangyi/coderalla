{
 "cells": [
  {
   "cell_type": "markdown",
   "metadata": {},
   "source": [
    "# Down to Zero II\n",
    "## Description:\n",
    "You are given $Q$ queries. \n",
    "Each query consists of a single number $N$. \n",
    "You can perform any of the $2$ operations on $N$ in each move:\n",
    "\n",
    "1. If we take $2$ integers $a$ and $b$ where $a < b$, then we can change $N = \\max(a, b)$; \n",
    "2. Decrease the value of $N$ by $1$.\n",
    "\n",
    "Determine the minimum number of moves required to reduce the value of $N$ to $0$.\n",
    "\n",
    "## Input and Output\n",
    "- **Input Format:**\n",
    "    - The first line contains the integer $Q$.\n",
    "    - The next $Q$ lines each contain an integer, $N$.\n",
    "\n",
    "- **Constraints:**\n",
    "    - $1 \\leq Q \\leq 10^3$;\n",
    "    - $0 \\leq N \\leq 10^6$;\n",
    "\n",
    "- **Output Format:**\n",
    "    Output $Q$ lines. Each line containing the minimum number of moves required to reduce the value of $N$ to $0$.\n",
    "\n",
    "## Examples:\n",
    "Sample Input:\n",
    "```\n",
    "2\n",
    "3\n",
    "4\n",
    "```\n",
    "Sample Output:\n",
    "```\n",
    "3\n",
    "3\n",
    "```\n",
    "Explanation: \n",
    "- For test case 1, We only have one option that gives the minimum number of moves. $3$ -> $2$ -> $1$ -> $0$. \n",
    "    Hence, $3$ moves.\n",
    "- For the case 2, we can either go $4$ -> $3$ -> $2$ -> $1$ -> $0$ or $4$ -> $2$ -> $1$ -> $0$. \n",
    "    The 2nd option is more optimal. Hence, $3$ moves."
   ]
  },
  {
   "cell_type": "markdown",
   "metadata": {},
   "source": [
    "## Solution\n",
    "Don't decompose. Broadcast the existing solutions."
   ]
  },
  {
   "cell_type": "code",
   "execution_count": 105,
   "metadata": {},
   "outputs": [],
   "source": [
    "def getMinOperations(M):\n",
    "    memo = [-1] * (M + 1)\n",
    "    for i in range(4):\n",
    "        memo[i] = i\n",
    "    \n",
    "    for i in range(2, M + 1):\n",
    "        if memo[i] == -1 or memo[i] > memo[i - 1] + 1:\n",
    "            memo[i] = memo[i - 1] + 1\n",
    "        \n",
    "        j = 2\n",
    "        p = i * j\n",
    "        while p <= M and j <= i:\n",
    "            if memo[p] == -1 or memo[p] > memo[i] + 1:\n",
    "                memo[p] = memo[i] + 1\n",
    "            j += 1\n",
    "            p = i * j\n",
    "    return memo"
   ]
  },
  {
   "cell_type": "code",
   "execution_count": 104,
   "metadata": {},
   "outputs": [],
   "source": [
    "input_index = '01'\n",
    "input_fname = f'data/input{input_index}.txt'\n",
    "output_fname = f'data/output{input_index}.txt'\n",
    "\n",
    "solutions = []\n",
    "with open(output_fname, 'r') as handle:\n",
    "    for line in handle:\n",
    "        solutions.append(int(line.strip()))\n",
    "        \n",
    "memo = getMinOperations(int(1e6))\n",
    "        \n",
    "results = []\n",
    "with open(input_fname, 'r') as handle:\n",
    "    Q = int(handle.readline().strip())\n",
    "    for q in range(Q):\n",
    "        N = int(handle.readline().strip())\n",
    "        r = memo[N]\n",
    "        if r != solutions[q]:\n",
    "            print(f'{r}, {solutions[q]}')"
   ]
  }
 ],
 "metadata": {
  "kernelspec": {
   "display_name": "Python 3",
   "language": "python",
   "name": "python3"
  },
  "language_info": {
   "codemirror_mode": {
    "name": "ipython",
    "version": 3
   },
   "file_extension": ".py",
   "mimetype": "text/x-python",
   "name": "python",
   "nbconvert_exporter": "python",
   "pygments_lexer": "ipython3",
   "version": "3.7.5"
  }
 },
 "nbformat": 4,
 "nbformat_minor": 4
}
