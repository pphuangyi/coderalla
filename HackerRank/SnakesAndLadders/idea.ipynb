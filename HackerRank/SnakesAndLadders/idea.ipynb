{
 "cells": [
  {
   "cell_type": "markdown",
   "metadata": {},
   "source": [
    "## Snakes and Ladders: The Quickest Way Up\n",
    "Markov takes out his Snakes and Ladders game, stares at the board and wonders: \"If I can always roll the die to whatever number I want, what would be the least number of rolls to reach the destination?\"\n",
    "\n",
    "**Rules:** \n",
    "\n",
    "The game is played with a cubic die of $6$ faces numbered $1$ to $6$.\n",
    "\n",
    "1. Starting from square $1$, land on square $100$ with the exact roll of the die. If moving the number rolled would place the player beyond square $100$, no move is made.\n",
    "2. If a player lands at the base of a ladder, the player must climb the ladder. Ladders go up only.\n",
    "3. If a player lands at the mouth of a snake, the player must go down the snake and come out through the tail. Snakes go down only."
   ]
  },
  {
   "cell_type": "code",
   "execution_count": 22,
   "metadata": {},
   "outputs": [],
   "source": [
    "import heapq"
   ]
  },
  {
   "cell_type": "code",
   "execution_count": 96,
   "metadata": {},
   "outputs": [],
   "source": [
    "def shortestPath(num_vertices, edges, target):\n",
    "    \n",
    "    \"\"\"\n",
    "    Dijkstra's algorithm for shortest path with a fixed source.\n",
    "    Implemented with with priority queue\n",
    "    \"\"\"\n",
    "    \n",
    "    Q = set(range(1, num_vertices + 1))\n",
    "    \n",
    "    h, prev = [], {}\n",
    "    \n",
    "    heapq.heappush(h, [0, 1])\n",
    "    prev[1] = None\n",
    "    \n",
    "    for v in range(2, num_vertices + 1):\n",
    "        heapq.heappush(h, [float('inf'), v])\n",
    "        prev[v] = None\n",
    "        \n",
    "    while len(Q) > 0:\n",
    "        minDist, u = heapq.heappop(h)\n",
    "        \n",
    "        if minDist == float('inf') or u == target:\n",
    "            break\n",
    "        \n",
    "        Q.remove(u)\n",
    "        \n",
    "        for i, [dist, v] in enumerate(h):\n",
    "            if v in Q and v in edges[u]:\n",
    "                tmp = minDist + edges[u][v] \n",
    "                if tmp < dist:\n",
    "                    h[i] = [tmp, v]\n",
    "                    prev[v] = u\n",
    "        \n",
    "        heapq.heapify(h)\n",
    "    \n",
    "    return minDist, prev"
   ]
  },
  {
   "cell_type": "code",
   "execution_count": 92,
   "metadata": {},
   "outputs": [],
   "source": [
    "def laddersAndSnakes(ladders, snakes):\n",
    "    \n",
    "    # Get edges.\n",
    "    # Note: this is a directed graph!\n",
    "    edges = {}\n",
    "    for i in range(1, 101):\n",
    "        edges[i] = {}\n",
    "        for j in range(i + 1, i + 7):\n",
    "            edges[i][j] = 1\n",
    "\n",
    "    for ladder_bottom, ladder_top in ladders:\n",
    "        edges[ladder_bottom][ladder_top] = 0\n",
    "\n",
    "    for snake_head, snake_tail in snakes:\n",
    "        edges[snake_head] = {}\n",
    "        edges[snake_head][snake_tail] = 0\n",
    "        \n",
    "    return shortestPath(100, edges, 100)"
   ]
  },
  {
   "cell_type": "markdown",
   "metadata": {},
   "source": [
    "## Example problems"
   ]
  },
  {
   "cell_type": "code",
   "execution_count": 93,
   "metadata": {},
   "outputs": [],
   "source": [
    "ladders = [[32, 62], [42, 68], [12, 98]]\n",
    "snakes = [[95, 13], [97, 25], [93, 37], [79, 27], [75, 19], [49, 47], [67, 17]]\n",
    "\n",
    "# ladders = [[8, 52], [6, 80], [26, 42], [2, 72]]\n",
    "# snakes = [[51, 19], [39, 11], [37, 29], [81, 3], [59, 5], [79, 23], [53, 7], [43, 33], [77, 21]]\n",
    "\n",
    "# ladders = [[3, 90]]\n",
    "# snakes = [[99, 10], [97, 20], [98, 30], [96, 40], [95, 50], [94, 60], [93, 70]]"
   ]
  },
  {
   "cell_type": "markdown",
   "metadata": {},
   "source": [
    "## Solve and print"
   ]
  },
  {
   "cell_type": "code",
   "execution_count": 95,
   "metadata": {},
   "outputs": [
    {
     "name": "stdout",
     "output_type": "stream",
     "text": [
      "Shortest path distance = 3\n",
      "Shortest path:\n",
      "\t100<--(1)--98<--(0)--12<--(1)--6<--(1)--1\n"
     ]
    }
   ],
   "source": [
    "minDist, prev = laddersAndSnakes(ladders, snakes)\n",
    "print(f'Shortest path distance = {minDist}')\n",
    "\n",
    "print(f'Shortest path:\\n\\t', end='')\n",
    "node = 100\n",
    "while prev[node] is not None:\n",
    "    p = prev[node]\n",
    "    print(f'{node}<--({edges[p][node]})--', end='')\n",
    "    node = p\n",
    "print(f'{node}')"
   ]
  }
 ],
 "metadata": {
  "kernelspec": {
   "display_name": "Python 3",
   "language": "python",
   "name": "python3"
  },
  "language_info": {
   "codemirror_mode": {
    "name": "ipython",
    "version": 3
   },
   "file_extension": ".py",
   "mimetype": "text/x-python",
   "name": "python",
   "nbconvert_exporter": "python",
   "pygments_lexer": "ipython3",
   "version": "3.7.5"
  }
 },
 "nbformat": 4,
 "nbformat_minor": 4
}
