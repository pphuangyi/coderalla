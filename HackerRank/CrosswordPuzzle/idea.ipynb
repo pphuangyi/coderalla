{
 "cells": [
  {
   "cell_type": "markdown",
   "metadata": {},
   "source": [
    "# Crossword Puzzle\n",
    "The following approach works whe a solution is guaranteed.\n",
    "\n",
    "**Follow up:** Try to figure out how to write a regex for pattern that is\n",
    "1. composed of \"-\" and capital letters (A-Z);\n",
    "1. of length at least two;\n",
    "1. including at least one \"-\"."
   ]
  },
  {
   "cell_type": "code",
   "execution_count": 4,
   "metadata": {},
   "outputs": [],
   "source": [
    "import re"
   ]
  },
  {
   "cell_type": "code",
   "execution_count": 155,
   "metadata": {},
   "outputs": [],
   "source": [
    "def match(pattern, word):\n",
    "    if len(pattern) != len(word):\n",
    "        return False\n",
    "    for a, b in zip(pattern, word):\n",
    "        if a != '-' and a != b:\n",
    "            return False\n",
    "    return True\n",
    "\n",
    "\n",
    "def transpose(crossword):\n",
    "    return [''.join([crossword[r][c] for r in range(10)]) for c in range(10)]\n",
    "\n",
    "\n",
    "def fill(crossword, words):\n",
    "    if len(words) == 0:\n",
    "        return crossword\n",
    "    \n",
    "    R = '|'.join(crossword)\n",
    "    for m in re.finditer(r'[\\-A-Z]{2,}', R):\n",
    "        a, b = m.span()\n",
    "        pattern = R[a: b]\n",
    "        \n",
    "        if '-' not in pattern:\n",
    "            continue\n",
    "        \n",
    "        for word in words:\n",
    "            if match(pattern, word):\n",
    "                words_rec = words.copy()\n",
    "                words_rec.remove(word)\n",
    "                crossword_rec = (R[:a] + word + R[b:]).split('|')\n",
    "                result = fill(crossword_rec, words_rec)\n",
    "                if result is not None:\n",
    "                    return result\n",
    "    \n",
    "    C = '|'.join(transpose(crossword))\n",
    "    for m in re.finditer(r'[\\-A-Z]{2,}', C):\n",
    "        a, b = m.span()\n",
    "        pattern = C[a: b]\n",
    "        \n",
    "        if '-' not in pattern:\n",
    "            continue\n",
    "        \n",
    "        for word in words:\n",
    "            if match(pattern, word):\n",
    "                words_rec = words.copy()\n",
    "                words_rec.remove(word)\n",
    "                crossword_rec = transpose((C[:a] + word + C[b:]).split('|'))\n",
    "                result = fill(crossword_rec, words_rec)\n",
    "                if result is not None:\n",
    "                    return result\n",
    "    return None"
   ]
  },
  {
   "cell_type": "code",
   "execution_count": 167,
   "metadata": {},
   "outputs": [
    {
     "data": {
      "text/plain": [
       "['++++++I+++',\n",
       " '++MEXICO++',\n",
       " '++++++E+++',\n",
       " '++++++L+++',\n",
       " '+++PANAMA+',\n",
       " '++++++N+L+',\n",
       " '++++++D+M+',\n",
       " '++++++++A+',\n",
       " '++++++++T+',\n",
       " '++++++++Y+']"
      ]
     },
     "execution_count": 167,
     "metadata": {},
     "output_type": "execute_result"
    }
   ],
   "source": [
    "fname = 'data/sample2.txt'\n",
    "with open(fname, 'r') as handle:\n",
    "    crossword = [handle.readline().strip() for _ in range(10)]\n",
    "    words = handle.readline().strip().split(';')\n",
    "\n",
    "fill(crossword, words)"
   ]
  }
 ],
 "metadata": {
  "kernelspec": {
   "display_name": "Python 3",
   "language": "python",
   "name": "python3"
  },
  "language_info": {
   "codemirror_mode": {
    "name": "ipython",
    "version": 3
   },
   "file_extension": ".py",
   "mimetype": "text/x-python",
   "name": "python",
   "nbconvert_exporter": "python",
   "pygments_lexer": "ipython3",
   "version": "3.7.5"
  }
 },
 "nbformat": 4,
 "nbformat_minor": 4
}
