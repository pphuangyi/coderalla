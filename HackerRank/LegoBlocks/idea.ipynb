{
 "cells": [
  {
   "cell_type": "code",
   "execution_count": 30,
   "metadata": {},
   "outputs": [],
   "source": [
    "import matplotlib.pyplot as plt\n",
    "import numpy as np"
   ]
  },
  {
   "cell_type": "code",
   "execution_count": 67,
   "metadata": {},
   "outputs": [],
   "source": [
    "M = int(1e9 + 7)"
   ]
  },
  {
   "cell_type": "code",
   "execution_count": 94,
   "metadata": {},
   "outputs": [],
   "source": [
    "def legoNRows(n, m):\n",
    "    if m == 1:\n",
    "        return 1\n",
    "    \n",
    "    if n == 1:\n",
    "        return int(m <= 4)\n",
    "\n",
    "    # Get number of all one-row arrangements\n",
    "    row = [1, 1] + [0] * (m - 1)\n",
    "    for i in range(2, m + 1):\n",
    "        total = 0\n",
    "        for bl in [1, 2, 3, 4]:\n",
    "            if i - bl >= 0:\n",
    "                total += row[i - bl]\n",
    "            else:\n",
    "                break\n",
    "        row[i] = total % M\n",
    "    \n",
    "    # Get number of n-row good arrangements \n",
    "    row = [pow(r, n, M) for r in row]\n",
    "    nRows = [1, 1] + [0] * (m - 1)\n",
    "    for i in range(2, m + 1):\n",
    "        bad = sum([row[i - j] * nRows[j] for j in range(1, i)])\n",
    "        nRows[i] = (row[i] - bad) % M\n",
    "\n",
    "    return nRows[-1]"
   ]
  },
  {
   "cell_type": "code",
   "execution_count": 95,
   "metadata": {},
   "outputs": [],
   "source": [
    "input_index = '01'\n",
    "ifname = f'data/input{input_index}.txt'\n",
    "ofname = f'data/output{input_index}.txt'\n",
    "\n",
    "tests = [] \n",
    "with open(ifname, 'r') as handle:\n",
    "    T = int(handle.readline().strip())\n",
    "    for _ in range(T):\n",
    "        n, m = list(map(int, handle.readline().strip().split()))\n",
    "        tests.append([n, m])\n",
    "\n",
    "results = []\n",
    "results = np.genfromtxt(ofname, dtype=int)"
   ]
  },
  {
   "cell_type": "code",
   "execution_count": 96,
   "metadata": {},
   "outputs": [],
   "source": [
    "count \n",
    "for [n, m], r in zip(tests, results):\n",
    "    s = legoNRows(n, m)\n",
    "    if s != r:\n",
    "        print(f'{n}, {m}, result = {r}, my result = {s}')"
   ]
  },
  {
   "cell_type": "markdown",
   "metadata": {},
   "source": [
    "## scratch"
   ]
  },
  {
   "cell_type": "code",
   "execution_count": 52,
   "metadata": {},
   "outputs": [],
   "source": [
    "def legoRow(m):\n",
    "    memo = [[[]]]\n",
    "    for i in range(1, m + 1):\n",
    "        arrangement = []\n",
    "        for bl in [1, 2, 3, 4]:\n",
    "            if i - bl >= 0:\n",
    "                arrangement += [a + [bl] for a in memo[i - bl]]\n",
    "            else:\n",
    "                break\n",
    "        memo.append(arrangement)\n",
    "    return memo\n",
    "\n",
    "ARR = legoRow(10)"
   ]
  },
  {
   "cell_type": "code",
   "execution_count": 55,
   "metadata": {},
   "outputs": [
    {
     "name": "stdout",
     "output_type": "stream",
     "text": [
      "1: 1, 1\n",
      "2: 3, 2\n",
      "3: 9, 4\n",
      "4: 27, 8\n",
      "5: 50, 15\n",
      "6: 122, 29\n",
      "7: 290, 56\n",
      "8: 674, 108\n",
      "9: 1562, 208\n",
      "10: 3658, 401\n"
     ]
    }
   ],
   "source": [
    "for i, arrangements in enumerate(ARR[1:]):  \n",
    "\n",
    "    count = 0\n",
    "    for a in arrangements:\n",
    "        for b in arrangements:\n",
    "            A = np.cumsum(a)[:-1]\n",
    "            B = np.cumsum(b)[:-1]\n",
    "            if len(set(A).intersection(set(B))) == 0:\n",
    "                # print(A, B)\n",
    "                count += 1\n",
    "    print(f'{i + 1}: {count}, {len(arrangements)}')"
   ]
  }
 ],
 "metadata": {
  "kernelspec": {
   "display_name": "Python 3",
   "language": "python",
   "name": "python3"
  },
  "language_info": {
   "codemirror_mode": {
    "name": "ipython",
    "version": 3
   },
   "file_extension": ".py",
   "mimetype": "text/x-python",
   "name": "python",
   "nbconvert_exporter": "python",
   "pygments_lexer": "ipython3",
   "version": "3.7.5"
  }
 },
 "nbformat": 4,
 "nbformat_minor": 4
}
