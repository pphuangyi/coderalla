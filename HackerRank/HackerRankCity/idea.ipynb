{
 "cells": [
  {
   "cell_type": "markdown",
   "metadata": {},
   "source": [
    "# HackerRank City\n",
    "HackerRank-city is an acyclic connected graph (or tree). \n",
    "Its not an ordinary place, the construction of the whole tree takes place in $N$ steps. \n",
    "The process is described below:\n",
    "\n",
    " - It initially has $1$ node.\n",
    " - At each step, you must create $3$ duplicates of the current tree, and create $2$ new nodes to connect all $4$ copies in the following H shape:\n",
    "\n",
    "<img src=\"HackerRank-City.png\" width=\"500\">\n",
    "\n",
    "At each $i$-th step, the tree becomes $4$ times bigger plus $2$ new nodes, as well as $5$ new edges connecting everything together. The length of the new edges being added at step  is denoted by input $A_i$.\n",
    "\n",
    "Calculate the sum of distances between each pair of nodes; as these answers may run large, print your answer modulo $1e9+7$.\n",
    "\n",
    "### Input Format:\n",
    "The first line contains an integer, $N$ (the number of steps). The second line contains $N$ space-separated integers describing $A_0,\\dots, A_{N-1}$.\n",
    "\n",
    "### Constraints:\n",
    "- $1 \\leq N \\leq 10^6$;\n",
    "- $1 \\leq A_i \\leq 9$."
   ]
  },
  {
   "cell_type": "markdown",
   "metadata": {},
   "source": [
    "## Solution"
   ]
  },
  {
   "cell_type": "markdown",
   "metadata": {},
   "source": [
    "Let the four connection nodes be denoted as $v_1, v_2, v_3$, and $v_4$, and the corresponding four trees $T_1, T_2, T_3$, and $T_4$. \n",
    "Let $u$ be a node in $T_i$, we denote the distance between $u$ and $v_i$ as $d(u, v_i)$, and \n",
    "$$\\mathcal{D}=\\left\\{d(u, v_i):\\, u \\in T_i\\right\\}.$$\n",
    "Let us denote the middle two points $w_1, w_2$.\n",
    "Denote the size of $\\mathcal{D}$ as $|\\mathcal{D}|$ and the sum of numbers in $\\mathcal{D}$ as $S(\\mathcal{D})$.\n",
    "\n",
    "There are $5$ types of distances to add when we clone and assemble for a new round:\n",
    "1. Two farther away trees: <span style=\"color:blue\">(with total $12A_i|\\mathcal{D}|^2 + 8S(\\mathcal{D})|\\mathcal{D}|$)</span>\n",
    "    - $T_1 \\leftrightarrow T_2$: $d(u, v_1) + 3A_i + d(u', v_2)$ $\\Rightarrow 3A_i|\\mathcal{D}|^2 + 2S(\\mathcal{D})|\\mathcal{D}|$;\n",
    "    - $T_1 \\leftrightarrow T_4$: $d(u, v_1) + 3A_i + d(u', v_4)$;\n",
    "    - $T_3 \\leftrightarrow T_2$: $d(u, v_3) + 3A_i + d(u', v_2)$;\n",
    "    - $T_3 \\leftrightarrow T_4$: $d(u, v_3) + 3A_i + d(u', v_4)$;  \n",
    "1. Two closer trees: <span style=\"color:blue\">(with total $4A_i|\\mathcal{D}|^2 + 4S(\\mathcal{D})|\\mathcal{D}|$)</span>\n",
    "    - $T_1 \\leftrightarrow T_3$: $d(u, v_1) + 2A_i + d(u', v_3)$ $\\Rightarrow 2A_i|\\mathcal{D}|^2 + 2S(\\mathcal{D})|\\mathcal{D}|$;\n",
    "    - $T_2 \\leftrightarrow T_4$: $d(u, v_2) + 2A_i + d(u', v_4)$;\n",
    "1. Tree to farther middle node: <span style=\"color:blue\">(with total $8A_i|\\mathcal{D}| + 4S(\\mathcal{D})$)</span>\n",
    "    - $T_1 \\leftrightarrow w_2$: $d(u, v_1) + 2A_i$ $\\Rightarrow 2A_i|\\mathcal{D}| + S(\\mathcal{D})$;\n",
    "    - $T_3 \\leftrightarrow w_2$: $d(u, v_3) + 2A_i$;\n",
    "    - $T_2 \\leftrightarrow w_1$: $d(u, v_2) + 2A_i$;\n",
    "    - $T_4 \\leftrightarrow w_1$: $d(u, v_2) + 2A_i$;\n",
    "1. Tree to closer middle node: <span style=\"color:blue\">(with total $4A_i|\\mathcal{D}| + 4S(\\mathcal{D})$)</span>\n",
    "    - $T_1 \\leftrightarrow w_1$: $d(u, v_1) + A_i$ $\\Rightarrow A_i|\\mathcal{D}| + S(\\mathcal{D})$;\n",
    "    - $T_3 \\leftrightarrow w_1$: $d(u, v_3) + A_i$;\n",
    "    - $T_2 \\leftrightarrow w_2$: $d(u, v_2) + A_i$;\n",
    "    - $T_4 \\leftrightarrow w_2$: $d(u, v_2) + A_i$;\n",
    "1. Two middle nodes:\n",
    "    - $w_1 \\leftrightarrow w_2$: <span style=\"color:blue\">$A_i$</span>.\n",
    "\n",
    "Sum them up we get the new distance added in round $i$ equals:\n",
    "$$16A_i|\\mathcal{D}|^2 + 12S(\\mathcal{D})|\\mathcal{D}| + 12A_i|\\mathcal{D}| + 8S(\\mathcal{D}) + A_i = A_i(16|\\mathcal{D}|^2 + 12|\\mathcal{D}| + 1) + 4S(\\mathcal{D})(3|\\mathcal{D}| + 2)$$\n",
    "\n",
    "And for the next step, we need to get the distance to the next connection node, which is the lower left node of $T_4$. \n",
    "Let us denote the next connection node as $v$, we have there $5$ type of distances:\n",
    "1. from a node in $T_4$: They are the same set of number as those to $v_4$, <span style=\"color:red\">with total $S(\\mathcal{D})$</span>.\n",
    "1. from $T_1$ and $T_3$: $d(u, v_i) + 3A_i + \\max(\\mathcal{D})$, $i = 1, 3$, <span style=\"color:red\">with total $2\\left(3A_i + \\max(\\mathcal{D})\\right)|\\mathcal{D}| + 2S(\\mathcal{D})$</span>;\n",
    "1. from $T_2$: $d(u, v_2) + 2A_i + \\max(\\mathcal{D})$ <span style=\"color:red\">with total $\\left(2A_i + \\max(\\mathcal{D})\\right)|\\mathcal{D}| + S(\\mathcal{D})$</span>;\n",
    "1. from $w_1$: <span style=\"color:red\">$\\max(\\mathcal{D}) + 2A_i$</span>;\n",
    "1. from $w_2$: <span style=\"color:red\">$\\max(\\mathcal{D}) + A_i$</span>.\n",
    "\n",
    "Sum them up, we get the sum of the next $\\mathcal{D}'$ satisfies\n",
    "$$S(\\mathcal{D}') = 4S(D) + \\left(8|\\mathcal{D}| + 3\\right)A_i + \\max(\\mathcal{D})(3|\\mathcal{D}| + 2)$$\n",
    "\n",
    "\n",
    "To sum up, we focus on $3$ quantifies, $|\\mathcal{D}|$, $S(\\mathcal{D})$, and $\\max(\\mathcal{D})$. \n",
    "Let $D'$ be the next step $D$, we have\n",
    "- $|\\mathcal{D}'| = 4|\\mathcal{D}| + 2$;\n",
    "- $\\max(\\mathcal{D}') = 2\\max(\\mathcal{D}') + 3A_i$;\n",
    "- $S(\\mathcal{D}') = 4S(D) + \\left(8|\\mathcal{D}| + 3\\right)A_i + \\max(\\mathcal{D})(3|\\mathcal{D}| + 2)$;\n",
    "\n",
    "with initial condition  $|\\mathcal{D}| = 1$, $S(\\mathcal{D}) = 0$, and $\\max(\\mathcal{D}) = 0$.\n",
    "\n",
    "Let $P_{i-1}$ be the pairwise distance at step $i-1$, we have \n",
    "$$P_{i} =  A_i(16|\\mathcal{D}|^2 + 12|\\mathcal{D}| + 1) + 4S(\\mathcal{D})(3|\\mathcal{D}| + 2) + 4P_{i-1}$$"
   ]
  },
  {
   "cell_type": "code",
   "execution_count": 18,
   "metadata": {},
   "outputs": [],
   "source": [
    "def foo(arr):\n",
    "    M = int(1e9 + 7)\n",
    "    d, m, s, P = 1, 0, 0, 0\n",
    "    for i, a in enumerate(arr):\n",
    "        P = (a * (16 * d**2 + 12 * d + 1) + 4 * s * (3 * d + 2) + 4 * P) % M\n",
    "        if i < len(arr) - 1:\n",
    "            s = (4 * s + (8 * d + 3) * a + (3 * d + 2) * m) % M\n",
    "            d = (4 * d + 2) % M\n",
    "            m = (2 * m + 3 * a) % M\n",
    "    return P"
   ]
  },
  {
   "cell_type": "code",
   "execution_count": null,
   "metadata": {},
   "outputs": [],
   "source": [
    "arr = [1] # 29\n",
    "arr = [2, 1] # 2461\n",
    "arr = [8, 2, 4] # 380460"
   ]
  }
 ],
 "metadata": {
  "kernelspec": {
   "display_name": "Python 3",
   "language": "python",
   "name": "python3"
  },
  "language_info": {
   "codemirror_mode": {
    "name": "ipython",
    "version": 3
   },
   "file_extension": ".py",
   "mimetype": "text/x-python",
   "name": "python",
   "nbconvert_exporter": "python",
   "pygments_lexer": "ipython3",
   "version": "3.7.5"
  }
 },
 "nbformat": 4,
 "nbformat_minor": 4
}
