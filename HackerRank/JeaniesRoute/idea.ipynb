{
 "cells": [
  {
   "cell_type": "markdown",
   "metadata": {},
   "source": [
    "# Jeanie's Route"
   ]
  },
  {
   "cell_type": "markdown",
   "metadata": {},
   "source": [
    "## Convert edges list to adjacency list"
   ]
  },
  {
   "cell_type": "code",
   "execution_count": 1,
   "metadata": {},
   "outputs": [],
   "source": [
    "def getAdj(edges):\n",
    "    adj = {}\n",
    "    for head, tail, weight in edges:\n",
    "        if head in adj:\n",
    "            adj[head][tail] = weight\n",
    "        else:\n",
    "            adj[head] = {tail: weight}\n",
    "        if tail in adj:\n",
    "            adj[tail][head] = weight\n",
    "        else:\n",
    "            adj[tail] = {head: weight}\n",
    "    return adj"
   ]
  },
  {
   "cell_type": "markdown",
   "metadata": {},
   "source": [
    "## Find the total distance of the minimum tree that contains all the destinations"
   ]
  },
  {
   "cell_type": "code",
   "execution_count": 2,
   "metadata": {},
   "outputs": [],
   "source": [
    "def foo(root, adj, destinations):\n",
    "\n",
    "    # link to the ancestor\n",
    "    visited = set([root])\n",
    "    heads = [root]\n",
    "    ancestor = {}\n",
    "    while len(heads) > 0:\n",
    "        new_heads = []\n",
    "        for h in heads:\n",
    "            for t in adj[h]:\n",
    "                if t not in visited:\n",
    "                    visited.add(t)\n",
    "                    new_heads.append(t)\n",
    "                    ancestor[t] = h\n",
    "        heads = new_heads\n",
    "    \n",
    "    # get the minimum tree including all the destinations\n",
    "    # and the total distance of the minimum tree.\n",
    "    new_adj, total_distance, visited = {}, 0, set()\n",
    "    for d in destinations:\n",
    "        while d != root and d not in visited:\n",
    "            visited.add(d)\n",
    "            a = ancestor[d]\n",
    "            road_length = adj[d][a]\n",
    "            if a in new_adj:\n",
    "                new_adj[a][d] = road_length\n",
    "            else:\n",
    "                new_adj[a] = {d: road_length}\n",
    "            if d in new_adj:\n",
    "                new_adj[d][a] = road_length\n",
    "            else:\n",
    "                new_adj[d] = {a: road_length}\n",
    "            \n",
    "            total_distance += road_length\n",
    "            d = a\n",
    "    \n",
    "    return new_adj, total_distance"
   ]
  },
  {
   "cell_type": "markdown",
   "metadata": {},
   "source": [
    "## Find the distance between the farthest two nodes"
   ]
  },
  {
   "cell_type": "code",
   "execution_count": 3,
   "metadata": {},
   "outputs": [],
   "source": [
    "def BFS(root, adj):\n",
    "    visited = set([root])\n",
    "    heads = [(root, 0)]\n",
    "    max_length, farthest_node = 0, None\n",
    "    while len(heads) > 0:\n",
    "        new_heads = []\n",
    "        for head, length in heads:\n",
    "            for neighbor in adj[head]:\n",
    "                if neighbor in visited:\n",
    "                    continue\n",
    "                visited.add(neighbor)\n",
    "                l = length + adj[head][neighbor]\n",
    "                new_heads.append([neighbor, l])\n",
    "                if max_length < l:\n",
    "                    max_length = l\n",
    "                    farthest_node = neighbor\n",
    "        heads = new_heads\n",
    "    return farthest_node, max_length\n",
    "\n",
    "\n",
    "def findFarthestTwoNodes(adj):\n",
    "    root = list(adj.keys())[0]\n",
    "    farthest_node, max_length = BFS(root, adj)\n",
    "    _, max_length = BFS(farthest_node, adj)\n",
    "    return max_length"
   ]
  },
  {
   "cell_type": "markdown",
   "metadata": {},
   "source": [
    "## Find the shortest route"
   ]
  },
  {
   "cell_type": "code",
   "execution_count": 4,
   "metadata": {},
   "outputs": [],
   "source": [
    "def shortestRouteLength(edges, destinations):\n",
    "    adj = getAdj(edges)\n",
    "    d = destinations[0]\n",
    "    new_adj, total_distance = foo(d, adj, set(destinations))\n",
    "    max_length = findFarthestTwoNodes(new_adj)\n",
    "    return 2 * total_distance - max_length"
   ]
  },
  {
   "cell_type": "code",
   "execution_count": 5,
   "metadata": {},
   "outputs": [
    {
     "data": {
      "text/plain": [
       "6"
      ]
     },
     "execution_count": 5,
     "metadata": {},
     "output_type": "execute_result"
    }
   ],
   "source": [
    "tree = [\n",
    "    [0, 7, 1],\n",
    "    [7, 6, 1],\n",
    "    [7, 4, 2],\n",
    "    [7, 5, 2],\n",
    "    [5, 2, 1],\n",
    "    [5, 9, 1],\n",
    "    [2, 1, 3],\n",
    "    [9, 8, 2],\n",
    "    [1, 3, 1]\n",
    "]\n",
    "destinations = [0, 3, 4, 7, 8, 9]\n",
    "\n",
    "tree = [\n",
    "    [1, 2, 1],\n",
    "    [2, 3, 2],\n",
    "    [2, 4, 2],\n",
    "    [3, 5, 3]\n",
    "]\n",
    "destinations = [1, 3, 4]\n",
    "shortestRouteLength(tree, destinations)"
   ]
  },
  {
   "cell_type": "markdown",
   "metadata": {},
   "source": [
    "## HackerRank Tests"
   ]
  },
  {
   "cell_type": "code",
   "execution_count": 6,
   "metadata": {},
   "outputs": [
    {
     "data": {
      "text/plain": [
       "37212"
      ]
     },
     "execution_count": 6,
     "metadata": {},
     "output_type": "execute_result"
    }
   ],
   "source": [
    "input_index = '08'\n",
    "input_fname = f'data/input{input_index}.txt'\n",
    "\n",
    "getArr = lambda handle: list(map(int, handle.readline().strip().split()))\n",
    "\n",
    "edges = []\n",
    "with open(input_fname, 'r') as handle:\n",
    "    num_nodes, num_cities = getArr(handle)\n",
    "    cities = getArr(handle)\n",
    "    for _ in range(num_nodes - 1):\n",
    "        head, tail, weight = getArr(handle)\n",
    "        edges.append([head, tail, weight])\n",
    "        \n",
    "shortestRouteLength(edges, cities)"
   ]
  }
 ],
 "metadata": {
  "kernelspec": {
   "display_name": "Python 3",
   "language": "python",
   "name": "python3"
  },
  "language_info": {
   "codemirror_mode": {
    "name": "ipython",
    "version": 3
   },
   "file_extension": ".py",
   "mimetype": "text/x-python",
   "name": "python",
   "nbconvert_exporter": "python",
   "pygments_lexer": "ipython3",
   "version": "3.7.5"
  }
 },
 "nbformat": 4,
 "nbformat_minor": 4
}
