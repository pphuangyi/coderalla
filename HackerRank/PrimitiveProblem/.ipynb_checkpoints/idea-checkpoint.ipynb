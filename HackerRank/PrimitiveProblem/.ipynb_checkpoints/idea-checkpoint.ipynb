{
 "cells": [
  {
   "cell_type": "markdown",
   "metadata": {},
   "source": [
    "# Primitive Problem\n",
    "We define a primitive root of prime number $p$ to be some integer $g\\in[1, p-1]$ satisfying the property that all values of $g^i \\textrm{mod } p$ where $i\\in[0, p - 2]$ are different.\n",
    "\n",
    "Given prime $p$, find and print the following values as two space-separated integers on a new line:\n",
    "\n",
    " - The smallest primitive root of prime $p$.\n",
    " - The total number of primitive roots of prime $p$."
   ]
  },
  {
   "cell_type": "code",
   "execution_count": 43,
   "metadata": {},
   "outputs": [],
   "source": [
    "# ====================== Prime Decomposition ======================START\n",
    "def isPrime(num):\n",
    "    return (num > 1) and all(p == num for p, e in factor(num))\n",
    "\n",
    "\n",
    "primeList = [2, 3, 5, 7]\n",
    "def getPrime():\n",
    "    \"\"\"\n",
    "    Generate prime number ON DEMAND\n",
    "    \"\"\"\n",
    "    for p in primeList: \n",
    "        yield p\n",
    "    while True:\n",
    "        p += 2\n",
    "        while not isPrime(p):\n",
    "            p += 2\n",
    "        primeList.append(p)\n",
    "        yield p\n",
    "\n",
    "        \n",
    "def factor(num):\n",
    "    for prime in getPrime():\n",
    "        expo = 0\n",
    "        while num % prime == 0:\n",
    "            expo += 1\n",
    "            num //= prime\n",
    "        if expo > 0:\n",
    "            yield (prime, expo)\n",
    "        if prime * prime > num:\n",
    "            break\n",
    "    if num > 1:\n",
    "        yield (num, 1)\n",
    "# ====================== Prime Decomposition ======================END\n",
    "\n",
    "\n",
    "# ====================== Euler Phi function ======================START\n",
    "def EulerPhi(num):\n",
    "    phi = 1\n",
    "    for p, e in factor(num):\n",
    "        phi *= (p - 1) * p ** (e - 1)\n",
    "    return phi\n",
    "# ====================== Euler Phi function ======================END\n",
    "\n",
    "\n",
    "def getDivisors(num):\n",
    "    divisors = [1]\n",
    "    for prime, expo in factor(num):\n",
    "        divisors = [d * prime ** e for e in range(expo + 1) for d in divisors]\n",
    "    return sorted(divisors)\n",
    "\n",
    "\n",
    "def getPrimitiveRoot(prime):\n",
    "    divisors = getDivisors(prime - 1)\n",
    "    for num in range(2, prime):\n",
    "        j = 0\n",
    "        while j < len(divisors) and pow(num, divisors[j], prime) != 1:\n",
    "            j += 1\n",
    "            \n",
    "        if j == len(divisors) - 1:\n",
    "            yield num"
   ]
  },
  {
   "cell_type": "code",
   "execution_count": 44,
   "metadata": {},
   "outputs": [
    {
     "name": "stdout",
     "output_type": "stream",
     "text": [
      "14\n",
      "2608704\n"
     ]
    }
   ],
   "source": [
    "prime = 10055491\n",
    "for r in getPrimitiveRoot(prime):\n",
    "    a = r\n",
    "    break\n",
    "print(a)\n",
    "b = EulerPhi(prime - 1)\n",
    "print(b)"
   ]
  }
 ],
 "metadata": {
  "kernelspec": {
   "display_name": "Python 3",
   "language": "python",
   "name": "python3"
  },
  "language_info": {
   "codemirror_mode": {
    "name": "ipython",
    "version": 3
   },
   "file_extension": ".py",
   "mimetype": "text/x-python",
   "name": "python",
   "nbconvert_exporter": "python",
   "pygments_lexer": "ipython3",
   "version": "3.7.5"
  }
 },
 "nbformat": 4,
 "nbformat_minor": 4
}
