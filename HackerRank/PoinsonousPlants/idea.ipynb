{
 "metadata": {
  "language_info": {
   "codemirror_mode": {
    "name": "ipython",
    "version": 3
   },
   "file_extension": ".py",
   "mimetype": "text/x-python",
   "name": "python",
   "nbconvert_exporter": "python",
   "pygments_lexer": "ipython3",
   "version": "3.9.2-final"
  },
  "orig_nbformat": 2,
  "kernelspec": {
   "name": "python3",
   "display_name": "Python 3.9.2 64-bit",
   "metadata": {
    "interpreter": {
     "hash": "4ad09f9fd21a1c2531abb4c3dadf7773a43b72e34365b59d6e5a1d67dfb327ce"
    }
   }
  }
 },
 "nbformat": 4,
 "nbformat_minor": 2,
 "cells": [
  {
   "cell_type": "code",
   "execution_count": 3,
   "metadata": {},
   "outputs": [],
   "source": [
    "import random"
   ]
  },
  {
   "source": [
    "## Brute-force Solution"
   ],
   "cell_type": "markdown",
   "metadata": {}
  },
  {
   "cell_type": "code",
   "execution_count": 7,
   "metadata": {},
   "outputs": [],
   "source": [
    "def bruteForce(arr):\n",
    "    days = 0\n",
    "    while True:\n",
    "        arr_new = []\n",
    "        prev = None\n",
    "        for a in arr:\n",
    "            if prev is None or a <= prev:\n",
    "                arr_new.append(a)\n",
    "            prev = a\n",
    "        if len(arr_new) == len(arr):\n",
    "            break\n",
    "        arr = arr_new\n",
    "        days += 1\n",
    "    return days"
   ]
  },
  {
   "source": [
    "## Solution One: Recursion"
   ],
   "cell_type": "markdown",
   "metadata": {}
  },
  {
   "cell_type": "code",
   "execution_count": 77,
   "metadata": {},
   "outputs": [],
   "source": [
    "def helper(arr):\n",
    "    if len(arr) == 0:\n",
    "        return 0\n",
    "\n",
    "    i, prev = 0, -float('inf')\n",
    "    while i < len(arr) and arr[i] > prev:\n",
    "        prev = arr[i]\n",
    "        i += 1\n",
    "\n",
    "    days = 1\n",
    "    curMin, subArr = float('inf'), []\n",
    "    for a in arr[i:]:\n",
    "        if a > curMin:\n",
    "            subArr.append(a)\n",
    "        else:\n",
    "            days = max(days, helper(subArr))\n",
    "            subArr = []\n",
    "            curMin = a\n",
    "            days += 1\n",
    "\n",
    "    return max(days, helper(subArr))\n",
    "\n",
    "\n",
    "def foo(arr):\n",
    "    days, curMin, subArr = 0, float('inf'), []    \n",
    "    for a in arr:\n",
    "        if a > curMin:\n",
    "            subArr.append(a)\n",
    "        else:\n",
    "            days = max(days, helper(subArr))\n",
    "            subArr = []\n",
    "            curMin = a\n",
    "\n",
    "    return max(days, helper(subArr))"
   ]
  },
  {
   "cell_type": "code",
   "execution_count": 78,
   "metadata": {},
   "outputs": [],
   "source": [
    "N, R = 100, 100\n",
    "reruns = 10\n",
    "for i in range(reruns):\n",
    "    arr = [random.randint(1, R) for _ in range(N)]\n",
    "    # print(arr)\n",
    "    bf = bruteForce(arr)\n",
    "    ef = foo(arr)\n",
    "    if bf != ef:\n",
    "        print(arr)"
   ]
  }
 ]
}