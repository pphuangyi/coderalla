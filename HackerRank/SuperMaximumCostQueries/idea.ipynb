{
 "metadata": {
  "language_info": {
   "codemirror_mode": {
    "name": "ipython",
    "version": 3
   },
   "file_extension": ".py",
   "mimetype": "text/x-python",
   "name": "python",
   "nbconvert_exporter": "python",
   "pygments_lexer": "ipython3",
   "version": "3.9.2-final"
  },
  "orig_nbformat": 2,
  "kernelspec": {
   "name": "python3",
   "display_name": "Python 3.9.2 64-bit",
   "metadata": {
    "interpreter": {
     "hash": "4ad09f9fd21a1c2531abb4c3dadf7773a43b72e34365b59d6e5a1d67dfb327ce"
    }
   }
  }
 },
 "nbformat": 4,
 "nbformat_minor": 2,
 "cells": [
  {
   "source": [
    "# Super Maximum Cost Queries\n",
    "Victoria has a tree $T$, consisting of $N$ nodes numbered from $1$ to $N$. \n",
    "Each edge $E_i = (U_i, V_i)$ has an integer weight $W_i$.\n",
    "Let's define the cost $C$ of a path from node $X$ to node $Y$ as the maximum weight of edge in the unique path from $X$ to $Y$.\n",
    "\n",
    "Victoria needs help processing $Q$ queries on tree $T$, where each query contains $2$ integers $L$ and $R$, such that $L\\leq R$. \n",
    "For each query, she wants to print the number of different paths in $T$ that have a cost in the inclusive range $[L, R]$."
   ],
   "cell_type": "markdown",
   "metadata": {}
  },
  {
   "cell_type": "code",
   "execution_count": 34,
   "metadata": {},
   "outputs": [],
   "source": [
    "class disjointSet:\n",
    "    def __init__(self, N):\n",
    "        self.memo = [i for i in range(N)]\n",
    "    def find(self, a):\n",
    "        while self.memo[a] != a:\n",
    "            a = self.memo[a]\n",
    "        return a\n",
    "        \n",
    "    def union(self, a, b):\n",
    "        ra, rb = self.find(a), self.find(b)\n",
    "        if ra != rb:\n",
    "            self.memo[ra] = rb\n",
    "\n",
    "    def getComponents(self):\n",
    "        comps = {}\n",
    "        for i in range(len(self.memo)):\n",
    "\n",
    "            r = self.find(i)\n",
    "            if r in comps:\n",
    "                comps[r].append(i)\n",
    "            else:\n",
    "                comps[r] = [i]\n",
    "        return comps"
   ]
  },
  {
   "cell_type": "code",
   "execution_count": 52,
   "metadata": {},
   "outputs": [],
   "source": [
    "def solve_single(tree, L, R):\n",
    "    ds = disjointSet(len(tree) + 1)\n",
    "    for h, t, w in tree:\n",
    "        if w < L:\n",
    "            ds.union(h - 1, t - 1)\n",
    "    comps = ds.getComponents()\n",
    "    # print(comps)\n",
    "    numPaths_1 = sum([len(comp) * (len(comp) - 1) // 2 for _, comp in comps.items()])\n",
    "\n",
    "    for h, t, w in tree:\n",
    "        if w <= R:\n",
    "            ds.union(h - 1, t - 1)\n",
    "\n",
    "    comps = ds.getComponents()\n",
    "    # print(comps)\n",
    "    numPaths_2 = sum([len(comp) * (len(comp) - 1) // 2 for _, comp in comps.items()])\n",
    "\n",
    "    return numPaths_2 - numPaths_1"
   ]
  },
  {
   "cell_type": "code",
   "execution_count": 61,
   "metadata": {},
   "outputs": [],
   "source": [
    "def solve(tree, queries):\n",
    "    boundaries = set()\n",
    "    for L, R in queries:\n",
    "        boundaries.add(L)\n",
    "        boundaries.add(R + 1)\n",
    "    boundaries = sorted(list(boundaries))\n",
    "\n",
    "    tree = sorted(tree, key=lambda a: a[2])\n",
    "    ds = disjointSet(len(tree) + 1)\n",
    "    \n",
    "    j, memo = 0, {}\n",
    "    for b in boundaries:\n",
    "        while j < len(tree) and tree[j][2] < b:\n",
    "            ds.union(tree[j][0] - 1, tree[j][1] - 1)\n",
    "            j += 1\n",
    "        comps = ds.getComponents()\n",
    "        memo[b] = sum([len(comp) * (len(comp) - 1) // 2 for _, comp in comps.items()])\n",
    "        if j == len(tree):\n",
    "            break\n",
    "\n",
    "    result = []\n",
    "    path_total = len(tree) * (len(tree) + 1) // 2\n",
    "    for L, R in queries:\n",
    "        p1, p2 = path_total, path_total \n",
    "        if L in memo:   \n",
    "            p1 = memo[L]\n",
    "        if R + 1 in memo:   \n",
    "            p2 = memo[R + 1]\n",
    "        result.append(p2 - p1)\n",
    "    return result"
   ]
  },
  {
   "cell_type": "code",
   "execution_count": 62,
   "metadata": {},
   "outputs": [],
   "source": [
    "V, Q = 5, 5\n",
    "tree = [\n",
    "    [1, 2, 3],\n",
    "    [1, 4, 2],\n",
    "    [2, 5, 6],\n",
    "    [3, 4, 1]\n",
    "]\n",
    "queries = [\n",
    "    [1, 1],\n",
    "    [1, 2],\n",
    "    [2, 3],\n",
    "    [2, 5],\n",
    "    [1, 6]\n",
    "]\n"
   ]
  },
  {
   "cell_type": "code",
   "execution_count": 63,
   "metadata": {},
   "outputs": [],
   "source": [
    "result = solve(tree, queries)"
   ]
  },
  {
   "cell_type": "code",
   "execution_count": 64,
   "metadata": {},
   "outputs": [
    {
     "output_type": "execute_result",
     "data": {
      "text/plain": [
       "[1, 3, 5, 5, 10]"
      ]
     },
     "metadata": {},
     "execution_count": 64
    }
   ],
   "source": [
    "result"
   ]
  },
  {
   "cell_type": "code",
   "execution_count": null,
   "metadata": {},
   "outputs": [],
   "source": []
  }
 ]
}