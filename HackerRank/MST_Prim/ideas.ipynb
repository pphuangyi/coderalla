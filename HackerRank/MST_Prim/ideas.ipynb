{
 "cells": [
  {
   "cell_type": "code",
   "execution_count": 1,
   "metadata": {},
   "outputs": [],
   "source": [
    "import heapq"
   ]
  },
  {
   "cell_type": "code",
   "execution_count": null,
   "metadata": {},
   "outputs": [],
   "source": [
    "def prims(numNodes, edges, start):\n",
    "    \n",
    "    dist, prev = [], {}\n",
    "    for i in range(1, numNodes + 1):\n",
    "        if i == start:\n",
    "            heapq.heappush(dist, [0, 1])\n",
    "        else:\n",
    "            heapq.heappush(dist, [float('inf'), i])\n",
    "        prev[i] = None\n",
    "    \n",
    "    result = {}\n",
    "    while len(dist) > 0:\n",
    "        minDist, u = heapq.heappop(dist)\n",
    "        result[u] = minDist\n",
    "        \n",
    "        for v in edge[u]:\n",
    "            if v in dist:\n",
    "                alt = minDist + edge[u][v]\n",
    "                if alt < dist[v]:\n",
    "                    \n",
    "    "
   ]
  },
  {
   "cell_type": "code",
   "execution_count": null,
   "metadata": {},
   "outputs": [],
   "source": [
    "input_fname = './data/input05.txt'\n",
    "\n",
    "with open(input_fname, 'r') as handle:\n",
    "    numNodes, numEdges = map(int, handle.readline().strip().split())\n",
    "\n",
    "    edges = [] \n",
    "    for i in range(numEdges):\n",
    "        f, t, w = map(int, handle.readline().strip().split())\n",
    "        edges.append([f, t, w])\n",
    "        \n",
    "    start = int(handle.readline().strip())"
   ]
  }
 ],
 "metadata": {
  "kernelspec": {
   "display_name": "Python 3",
   "language": "python",
   "name": "python3"
  },
  "language_info": {
   "codemirror_mode": {
    "name": "ipython",
    "version": 3
   },
   "file_extension": ".py",
   "mimetype": "text/x-python",
   "name": "python",
   "nbconvert_exporter": "python",
   "pygments_lexer": "ipython3",
   "version": "3.7.5"
  }
 },
 "nbformat": 4,
 "nbformat_minor": 4
}
