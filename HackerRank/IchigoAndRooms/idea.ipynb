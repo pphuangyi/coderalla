{
 "cells": [
  {
   "cell_type": "markdown",
   "metadata": {},
   "source": [
    "# Ichigo and Rooms\n",
    "Ichigo is on his way to save Rukia. Unfortunately, when Ichigo was busy fighting Renji, Kenpachi Zaraki had gone to the Dangai(the same place where Ichigo got his final Getsuga Tenshou) to train. Now, he has a Bankai called Tensa Quantum Computer and he used it against Ichigo!\n",
    "\n",
    "Tensa Quantum Computer consists of $2N$ rooms arranged in a circle. Kenpachi imprisoned Rukia in one of these rooms. The rooms have the numbers $1, 2,\\dots, N-1, N, -N, -(N-1), \\dots, -1$ written on them in that order clockwise. Each room has a one-way door to another unique room. Kenpachi knows that if a room has number $X$, then it leads to another room which is at distance $|X|$ from this room. More precisely, if $X$ is positive, it means that this room leads to the $X$-th room in the clockwise direction from the current room. And if $X$ is negative, then that means that this room leads to the $(-X)$-th room in the _counter-clockwise_ direction from the current room.\n",
    "\n",
    "Kenpachi knows that Ichigo starts at the room with the number A. Being a determined guy, Ichigo doesn't sit still until he finds Rukia. Instead he keeps running to the next room for as long as he can. But Kenpachi's funny and crafty lieutenant Yachiru Kusajishi suggested that if Kenpachi keeps Rukia in one of the rooms that Ichigo will never visit, then Ichigo will keep running forever and die from exhaustion.\n",
    "\n",
    "Now, Kenpachi wants to know the number of rooms that he can keep Rukia in, so that poor Ichigo never finds her and hence, keeps running."
   ]
  },
  {
   "cell_type": "code",
   "execution_count": 73,
   "metadata": {},
   "outputs": [],
   "source": [
    "import random\n",
    "from functools import reduce"
   ]
  },
  {
   "cell_type": "code",
   "execution_count": 6,
   "metadata": {},
   "outputs": [],
   "source": [
    "def getProblem(maxN=100):\n",
    "    N = random.randint(1, maxN)\n",
    "    start = random.randint(1, N) * (1 - 2 * random.randint(0, 1))\n",
    "    return N, start"
   ]
  },
  {
   "cell_type": "markdown",
   "metadata": {},
   "source": [
    "## A brute-force solution"
   ]
  },
  {
   "cell_type": "code",
   "execution_count": 35,
   "metadata": {},
   "outputs": [],
   "source": [
    "def getNext(cur, N):\n",
    "    aCur = abs(cur)\n",
    "    \n",
    "    nxt = (2 * aCur - 1) % (2 * N) + 1\n",
    "    nxt -= int(nxt > N) * (2 * N + 1)        \n",
    "    return nxt * (2 * int(cur > 0) - 1)\n",
    "\n",
    "\n",
    "def BF(N, start):\n",
    "    \"\"\"\n",
    "    brute force solution\n",
    "    \"\"\"\n",
    "    \n",
    "    cur, count = start, 1\n",
    "    while True:\n",
    "        nxt = getNext(cur, N)\n",
    "        if nxt != start and nxt != -start:\n",
    "            count += 1\n",
    "            cur = nxt\n",
    "        else:\n",
    "            if nxt == start:\n",
    "                print('start')\n",
    "                return 2 * N - count\n",
    "            else:\n",
    "                print('negative start')\n",
    "                return 2 * (N - count)"
   ]
  },
  {
   "cell_type": "markdown",
   "metadata": {},
   "source": [
    "## A solution using multiplicative order\n",
    "Work on a mathematical theory later on"
   ]
  },
  {
   "cell_type": "code",
   "execution_count": null,
   "metadata": {},
   "outputs": [],
   "source": [
    "def gcd(a, b):\n",
    "    while b != 0:\n",
    "        a, b = b, a % b\n",
    "    return a\n",
    "\n",
    "lcm = lambda a, b: (a * b) / gcd(a, b)\n",
    "\n",
    "def isPrime(p):\n",
    "    return (p > 1) and all(f == p for f,e in factored(p))\n",
    " \n",
    "primeList = [2, 3, 5, 7]\n",
    "def primes():\n",
    "    for p in primeList:\n",
    "        yield p\n",
    "    while 1:\n",
    "        p += 2\n",
    "        while not isPrime(p):\n",
    "            p += 2\n",
    "        primeList.append(p)\n",
    "        yield p\n",
    "\n",
    "\n",
    "def factored(a):\n",
    "    for p in primes():\n",
    "        j = 0\n",
    "        while a % p == 0:\n",
    "            a /= p\n",
    "            j += 1\n",
    "        if j > 0:\n",
    "            yield (int(p), j)\n",
    "        if a < p * p: break\n",
    "    if a > 1:\n",
    "        yield (int(a) ,1)\n",
    " \n",
    " \n",
    "phi = lambda prime, exp: (prime - 1) * (prime ** (exp - 1))    \n",
    "def multOrdr1(number, prime, exp):\n",
    "    \n",
    "    qs = [1, ]\n",
    "    for p, e in factored(phi(prime, exp)):\n",
    "        qs = [q * p**j for j in range(1 + e) for q in qs]\n",
    "    m = prime ** exp\n",
    "    for q in qs:\n",
    "        if pow(number, q, m) == 1: \n",
    "            break\n",
    "    return q\n",
    "\n",
    "\n",
    "def multOrder(a, m):\n",
    "    assert gcd(a, m) == 1\n",
    "    mofs = (multOrdr1(a, p, e) for p, e in factored(m))\n",
    "    return reduce(lcm, mofs, 1)"
   ]
  },
  {
   "cell_type": "code",
   "execution_count": 151,
   "metadata": {},
   "outputs": [],
   "source": [
    "def getMissing(N, start):\n",
    "    M = 2 * N + 1\n",
    "    start += int(start < 0) * M\n",
    "    g = gcd(M, start)\n",
    "    m = M // g\n",
    "    \n",
    "    return 2 * N - int(multOrder(2, m))"
   ]
  },
  {
   "cell_type": "markdown",
   "metadata": {},
   "source": [
    "## Load HR test data"
   ]
  },
  {
   "cell_type": "code",
   "execution_count": 44,
   "metadata": {},
   "outputs": [],
   "source": [
    "findex = '03'\n",
    "input_fname = f'./data/input{findex}.txt'\n",
    "output_fname = f'./data/output{findex}.txt'\n",
    "\n",
    "problems = []\n",
    "with open(input_fname, 'r') as handle:\n",
    "    T = int(handle.readline().strip())\n",
    "    for _ in range(T):\n",
    "        N, start = list(map(int, handle.readline().strip().split()))\n",
    "        problems.append([N, start])\n",
    "results = []\n",
    "with open(output_fname, 'r') as handle:\n",
    "    for line in handle:\n",
    "        results.append(int(line.strip()))"
   ]
  },
  {
   "cell_type": "code",
   "execution_count": 164,
   "metadata": {},
   "outputs": [],
   "source": [
    "for [N, start], result in zip(problems, results):\n",
    "    myResult = BF1(N, start)\n",
    "    \n",
    "    if myResult != result:\n",
    "        print(f'\\n{N}, {start}')"
   ]
  }
 ],
 "metadata": {
  "kernelspec": {
   "display_name": "Python 3",
   "language": "python",
   "name": "python3"
  },
  "language_info": {
   "codemirror_mode": {
    "name": "ipython",
    "version": 3
   },
   "file_extension": ".py",
   "mimetype": "text/x-python",
   "name": "python",
   "nbconvert_exporter": "python",
   "pygments_lexer": "ipython3",
   "version": "3.7.5"
  }
 },
 "nbformat": 4,
 "nbformat_minor": 4
}
