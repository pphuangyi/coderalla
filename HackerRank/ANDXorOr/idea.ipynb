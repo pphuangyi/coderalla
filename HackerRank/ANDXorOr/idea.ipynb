{
 "metadata": {
  "language_info": {
   "codemirror_mode": {
    "name": "ipython",
    "version": 3
   },
   "file_extension": ".py",
   "mimetype": "text/x-python",
   "name": "python",
   "nbconvert_exporter": "python",
   "pygments_lexer": "ipython3",
   "version": "3.9.2-final"
  },
  "orig_nbformat": 2,
  "kernelspec": {
   "name": "python3",
   "display_name": "Python 3.9.2 64-bit",
   "metadata": {
    "interpreter": {
     "hash": "4ad09f9fd21a1c2531abb4c3dadf7773a43b72e34365b59d6e5a1d67dfb327ce"
    }
   }
  }
 },
 "nbformat": 4,
 "nbformat_minor": 2,
 "cells": [
  {
   "source": [
    "# AND xor OR\n",
    "Given an array $A$ of $N$ distinct elements. \n",
    "Let $M_1$ and $M_2$ be the smallest and the next smallest element in the interval $[L, R]$ where $1\\leq L < R \\leq N$.\n",
    "Let $S(L, R) = M_1 \\oplus M_2$.\n",
    "Find the maximum possible value of $S(L, R)$."
   ],
   "cell_type": "markdown",
   "metadata": {}
  },
  {
   "cell_type": "code",
   "execution_count": 2,
   "metadata": {},
   "outputs": [],
   "source": [
    "import random"
   ]
  },
  {
   "source": [
    "## Solved a wrong problem \n",
    "At beginning, I misread the problem and find the solution for largest and second largest elements. \n",
    "We will solve the correct problem later. \n",
    "They share the same idea anyway.\n",
    "\n",
    "### Brute-Force Solution\n",
    "Let us starts with a brute-force solution"
   ],
   "cell_type": "markdown",
   "metadata": {}
  },
  {
   "cell_type": "code",
   "execution_count": 3,
   "metadata": {},
   "outputs": [],
   "source": [
    "def bruteForce(arr):\n",
    "    maximum = 0\n",
    "    for i in range(len(arr) - 1):\n",
    "        l, s = arr[i], None\n",
    "        for j in range(i + 1, len(arr)):\n",
    "            b = arr[j]\n",
    "            if b > l:\n",
    "                l, s = b, l\n",
    "            elif s is None or b > s:\n",
    "                s = b\n",
    "            maximum = max(maximum, l ^ s)\n",
    "    return maximum"
   ]
  },
  {
   "source": [
    "### A more efficient solution with stack"
   ],
   "cell_type": "markdown",
   "metadata": {}
  },
  {
   "cell_type": "code",
   "execution_count": 4,
   "metadata": {},
   "outputs": [],
   "source": [
    "def andXorOr(arr):\n",
    "    stacks, stack = [], []\n",
    "    prev = -float('inf')\n",
    "    for a in arr:\n",
    "        if a > prev:\n",
    "            if len(stack) > 0:\n",
    "                stacks.append(stack)\n",
    "            stack = [a]\n",
    "        elif a < prev:\n",
    "            stack.append(a)\n",
    "        prev = a\n",
    "    if len(stack) > 0:\n",
    "        stacks.append(stack)\n",
    "\n",
    "    cur, maximum = [], 0\n",
    "    for stack in stacks:\n",
    "        while len(cur) > 0 and cur[-1] <= stack[0]:\n",
    "            a = cur.pop()\n",
    "            maximum = max(maximum, a ^ stack[0])\n",
    "        if len(cur) > 0:\n",
    "            maximum = max(maximum, cur[-1] ^ stack[0])\n",
    "        for j in range(len(stack)):\n",
    "            if j < len(stack) - 1:\n",
    "                maximum = max(maximum, stack[j] ^ stack[j + 1])\n",
    "            cur.append(stack[j])\n",
    "\n",
    "    return maximum"
   ]
  },
  {
   "cell_type": "code",
   "execution_count": 5,
   "metadata": {
    "tags": []
   },
   "outputs": [],
   "source": [
    "reruns, N = 100, 100\n",
    "for _ in range(reruns):\n",
    "    arr = [random.randint(1, N) for _ in range(N)]\n",
    "\n",
    "    # print('\\n================brute-force solution================')\n",
    "    bf = bruteForce(arr)\n",
    "    # print(bf)\n",
    "    # print('\\n================more efficient solution================')\n",
    "    ef = andXorOr(arr)\n",
    "    # print(ef)\n",
    "    if bf != ef:\n",
    "        print(arr)"
   ]
  },
  {
   "source": [
    "## Now let us solve the original problem\n",
    "Note that we can tweak the solution for largest and second largest elements to get a solution for the smallest and the next smallest elements. \n",
    "But let us write a direct solution just for practice. \n",
    "### Let us, again, start with a brute-force solution."
   ],
   "cell_type": "markdown",
   "metadata": {}
  },
  {
   "cell_type": "code",
   "execution_count": 6,
   "metadata": {},
   "outputs": [],
   "source": [
    "def bruteForce(arr):\n",
    "    maximum = 0\n",
    "    for i in range(len(arr) - 1):\n",
    "        # s: smallest; n: next smallest\n",
    "        s, n = arr[i], None\n",
    "        for j in range(i + 1, len(arr)):\n",
    "            b = arr[j]\n",
    "            if b < s:\n",
    "                s, n = b, s\n",
    "            elif n is None or b < n:\n",
    "                n = b\n",
    "            maximum = max(maximum, s ^ n)\n",
    "    return maximum"
   ]
  },
  {
   "cell_type": "code",
   "execution_count": 9,
   "metadata": {},
   "outputs": [
    {
     "output_type": "execute_result",
     "data": {
      "text/plain": [
       "11"
      ]
     },
     "metadata": {},
     "execution_count": 9
    }
   ],
   "source": [
    "arr = [9, 8, 3, 5, 7]\n",
    "bruteForce(arr)"
   ]
  },
  {
   "cell_type": "code",
   "execution_count": null,
   "metadata": {},
   "outputs": [],
   "source": [
    "def andXorOr(arr):"
   ]
  }
 ]
}