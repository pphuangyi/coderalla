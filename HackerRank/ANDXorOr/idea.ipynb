{
 "metadata": {
  "language_info": {
   "codemirror_mode": {
    "name": "ipython",
    "version": 3
   },
   "file_extension": ".py",
   "mimetype": "text/x-python",
   "name": "python",
   "nbconvert_exporter": "python",
   "pygments_lexer": "ipython3",
   "version": "3.9.2-final"
  },
  "orig_nbformat": 2,
  "kernelspec": {
   "name": "python3",
   "display_name": "Python 3.9.2 64-bit",
   "metadata": {
    "interpreter": {
     "hash": "4ad09f9fd21a1c2531abb4c3dadf7773a43b72e34365b59d6e5a1d67dfb327ce"
    }
   }
  }
 },
 "nbformat": 4,
 "nbformat_minor": 2,
 "cells": [
  {
   "cell_type": "code",
   "execution_count": 38,
   "metadata": {},
   "outputs": [],
   "source": [
    "import random"
   ]
  },
  {
   "cell_type": "code",
   "execution_count": 43,
   "metadata": {},
   "outputs": [],
   "source": []
  },
  {
   "source": [
    "## More efficient solution"
   ],
   "cell_type": "markdown",
   "metadata": {}
  },
  {
   "cell_type": "code",
   "execution_count": 56,
   "metadata": {},
   "outputs": [],
   "source": [
    "def andXorOr(arr):\n",
    "    arr = [-a for a in arr]\n",
    "    stacks, stack = [], []\n",
    "    prev = -float('inf')\n",
    "    for a in arr:\n",
    "        if a > prev:\n",
    "            if len(stack) > 0:\n",
    "                stacks.append(stack)\n",
    "            stack = [a]\n",
    "        elif a < prev:\n",
    "            stack.append(a)\n",
    "        prev = a\n",
    "    if len(stack) > 0:\n",
    "        stacks.append(stack)\n",
    "\n",
    "    cur, maximum = [], 0\n",
    "    for stack in stacks:\n",
    "        while len(cur) > 0 and cur[-1] <= stack[0]:\n",
    "            a = cur.pop()\n",
    "            maximum = max(maximum, (-a) ^ (-stack[0]))\n",
    "            # print(f'{a} ^ {stack[0]} = {a ^ stack[0]}')\n",
    "        if len(cur) > 0:\n",
    "            maximum = max(maximum, (-cur[-1]) ^ (-stack[0]))\n",
    "            # print(f'{cur[-1]} ^ {stack[0]} = {cur[-1] ^ stack[0]}')\n",
    "        for j in range(len(stack)):\n",
    "            if j < len(stack) - 1:\n",
    "                maximum = max(maximum, (-stack[j]) ^ (-stack[j + 1]))\n",
    "                # print(f'{stack[j]} ^ {stack[j + 1]} = {stack[j] ^ stack[j + 1]}')\n",
    "            cur.append(stack[j])\n",
    "\n",
    "    return maximum"
   ]
  },
  {
   "cell_type": "code",
   "execution_count": 64,
   "metadata": {
    "tags": []
   },
   "outputs": [],
   "source": [
    "reruns, N = 100, 100\n",
    "for _ in range(reruns):\n",
    "    arr = [random.randint(1, N) for _ in range(N)]\n",
    "\n",
    "    # print('\\n================brute-force solution================')\n",
    "    bf = bruteForce(arr)\n",
    "    # print(bf)\n",
    "    # print('\\n================more efficient solution================')\n",
    "    ef = andXorOr(arr)\n",
    "    # print(ef)\n",
    "    if bf != ef:\n",
    "        print(arr)"
   ]
  },
  {
   "cell_type": "code",
   "execution_count": 61,
   "metadata": {},
   "outputs": [],
   "source": [
    "func = lambda a, b: ((a & b) ^ (a | b)) & (a ^ b)\n",
    "def bruteForce(arr):\n",
    "    arr = [-a for a in arr]\n",
    "    maximum = 0\n",
    "    for i in range(len(arr) - 1):\n",
    "        l, s = arr[i], None\n",
    "        for j in range(i + 1, len(arr)):\n",
    "            b = arr[j]\n",
    "            if b > l:\n",
    "                l, s = b, l\n",
    "            elif s is None or b > s:\n",
    "                s = b\n",
    "            # print(f'{-l} ^ {-s} = {(-l) ^ (-s)}, {arr[i: j + 1]}')\n",
    "            maximum = max(maximum, (-l) ^ (-s))\n",
    "    return maximum\n"
   ]
  },
  {
   "cell_type": "code",
   "execution_count": 62,
   "metadata": {},
   "outputs": [
    {
     "output_type": "stream",
     "name": "stdout",
     "text": [
      "11\n"
     ]
    }
   ],
   "source": [
    "arr = [9, 8, 3, 5, 7]\n",
    "ef = bruteForce(arr)\n",
    "print(ef)"
   ]
  },
  {
   "cell_type": "code",
   "execution_count": null,
   "metadata": {},
   "outputs": [],
   "source": []
  }
 ]
}