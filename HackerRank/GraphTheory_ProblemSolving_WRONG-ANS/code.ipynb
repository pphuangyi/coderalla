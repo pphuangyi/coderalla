{
 "metadata": {
  "language_info": {
   "codemirror_mode": {
    "name": "ipython",
    "version": 3
   },
   "file_extension": ".py",
   "mimetype": "text/x-python",
   "name": "python",
   "nbconvert_exporter": "python",
   "pygments_lexer": "ipython3",
   "version": 3
  },
  "orig_nbformat": 2
 },
 "nbformat": 4,
 "nbformat_minor": 2,
 "cells": [
  {
   "source": [
    "# Problem Solving\n",
    "## Description\n",
    "## Solution\n",
    "## Proof of correctness"
   ],
   "cell_type": "markdown",
   "metadata": {}
  },
  {
   "cell_type": "code",
   "execution_count": null,
   "metadata": {},
   "outputs": [],
   "source": [
    "import math\n",
    "import os\n",
    "import random\n",
    "import re\n",
    "import sys"
   ]
  },
  {
   "cell_type": "code",
   "execution_count": null,
   "metadata": {},
   "outputs": [],
   "source": [
    "class node:\n",
    "    def __init__(self, val=-1000, nxt=None):\n",
    "        self.val = val\n",
    "        self.nxt = nxt\n",
    "\n",
    "def helper(head, k):\n",
    "    val = -1000\n",
    "    pseudo_head = node(val, head)\n",
    "    cur = pseudo_head\n",
    "    while cur.nxt is not None:\n",
    "        # print(val)\n",
    "        # print(cur.nxt.val)\n",
    "        if abs(cur.nxt.val - val) >= k:\n",
    "            val = cur.nxt.val\n",
    "            cur.nxt = cur.nxt.nxt\n",
    "        else:\n",
    "            cur = cur.nxt\n",
    "    return pseudo_head.nxt\n",
    "\n",
    "def print_list(head):\n",
    "    while head:\n",
    "        print(head.val, end=' ')\n",
    "        head = head.nxt\n",
    "    print()\n",
    "        \n",
    "def problemSolving(k, v):\n",
    "    prev = None\n",
    "    for i in range(len(v)):\n",
    "        n = node(v[len(v) - 1 - i], None)\n",
    "        if prev:\n",
    "            prev.nxt = n\n",
    "        else:\n",
    "            head = n\n",
    "        prev = n\n",
    "            \n",
    "    num_days = 0\n",
    "    while head:\n",
    "        print_list(head)\n",
    "        num_days += 1\n",
    "        head = helper(head, k)\n",
    "    return num_days"
   ]
  },
  {
   "cell_type": "code",
   "execution_count": null,
   "metadata": {},
   "outputs": [],
   "source": [
    "if __name__ == '__main__':\n",
    "    fptr = open(os.environ['OUTPUT_PATH'], 'w')\n",
    "\n",
    "    t = int(input().strip())\n",
    "    for _ in range(t):\n",
    "        _, k = list(map(int, input().rstrip().split()))\n",
    "        v = list(map(int, input().rstrip().split()))\n",
    "        result = problemSolving(k, v)\n",
    "        fptr.write(str(result) + '\\n')\n",
    "\n",
    "    fptr.close()"
   ]
  }
 ]
}