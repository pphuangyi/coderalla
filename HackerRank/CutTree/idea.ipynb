{
 "cells": [
  {
   "cell_type": "markdown",
   "metadata": {},
   "source": [
    "# Cut Tree <span style=\"color:red\">(Need Editing) </span>\n",
    "Given a tree $T$ with $n$ nodes, named $1, 2, \\dots, n$. How many subtrees $T'$ of $T$ have at most $K$ edges connected to $T - T'$?\n",
    "\n",
    "- **Input Format:**\n",
    "    The first line contains two integers $n$ and $k$ followed by $n-1$ lines each containing two integers $a$ and $b$ denoting that there's an edge between $a$ and $b$.\n",
    "- **Constraints:**\n",
    "    $1 \\leq k \\leq n \\leq 50$\n",
    "- **Output Format:**\n",
    "    A single integer which denotes the number of possible subtrees.\n",
    "    \n",
    "<span style=\"color:red\">**Note:** Normally a subtree of a tree must contained all decendants of a node. \n",
    "However, all such subtrees connect to is complement with just one edge. </span>"
   ]
  },
  {
   "cell_type": "markdown",
   "metadata": {},
   "source": [
    "## Example\n",
    "Sample Input:\n",
    "```\n",
    "3 1\n",
    "2 1\n",
    "2 3\n",
    "```\n",
    "Sample Output:\n",
    "```\n",
    "6\n",
    "```\n",
    "Explanation:\n",
    "\n",
    "There are $2^3$ possible subtrees:\n",
    "```\n",
    "{}, {1}, {2}, {3}, {1, 2}, {1, 3}, {2, 3}, {1, 2, 3}\n",
    "```\n",
    "But the subtrees `{2}` and `{1,3}` are not valid, since {2} has 2 edges connecting to it's complement `{1,3}` and `{1,3}` isn't a subtree."
   ]
  },
  {
   "cell_type": "code",
   "execution_count": 1,
   "metadata": {},
   "outputs": [
    {
     "name": "stdout",
     "output_type": "stream",
     "text": [
      "2 {1: 2, 0: 1}\n"
     ]
    },
    {
     "data": {
      "text/plain": [
       "6"
      ]
     },
     "execution_count": 1,
     "metadata": {},
     "output_type": "execute_result"
    }
   ],
   "source": [
    "def update(R, D, K):\n",
    "    R_new = {k + 1: v for k, v in R.items() if k + 1 <= K}\n",
    "    for k, v in R.items():\n",
    "        for kd, vd in D.items():\n",
    "            knew, vnew = k + kd, v * vd\n",
    "            if knew <= K:\n",
    "                if knew in R_new:\n",
    "                    R_new[knew] += vnew\n",
    "                else:\n",
    "                    R_new[knew] = vnew\n",
    "    return R_new\n",
    "\n",
    "\n",
    "def rec(root, parent, K, adj):\n",
    "    \"\"\"\n",
    "    Input:\n",
    "        - [root]: The root of the subtree;\n",
    "        - [parent]: parent of root; can be None;\n",
    "        - [m]: minimum number of nodes\n",
    "    Output:\n",
    "        [u]: number of subtree NOT rooted at [root] with at least [m] nodes\n",
    "        [R]: dictionary with [key] equaling the number of nodes \n",
    "            and [val] equaling the number of subtrees ROOTED AT [root] \n",
    "            with [key] many nodes.\n",
    "    \"\"\"\n",
    "    \n",
    "    u, R = 0, {0: 1}\n",
    "    for nb in adj[root]:\n",
    "        if nb == parent:\n",
    "            continue\n",
    "        a, B = rec(nb, root, K, adj)\n",
    "        u += a + sum([val for key, val in B.items() if key <= K - 1])\n",
    "        R = update(R, B, K)\n",
    "    \n",
    "    return u, R\n",
    "\n",
    "\n",
    "def cutTree(n, K, edges):\n",
    "    adj = {i + 1: [] for i in range(n)}\n",
    "    for h, t in edges:\n",
    "        adj[h].append(t)\n",
    "        adj[t].append(h)\n",
    "    \n",
    "    u, R = rec(1, None, K, adj)\n",
    "    print(u, R)\n",
    "    return u + sum([val for key, val in R.items()]) + 1\n",
    "\n",
    "n, k = 3, 1\n",
    "edges = [\n",
    "    [2, 1],\n",
    "    [2, 3]\n",
    "]\n",
    "cutTree(n, k, edges)"
   ]
  },
  {
   "cell_type": "markdown",
   "metadata": {},
   "source": [
    "## Count the number of subgraph that happens to be tree with a given number of nodes"
   ]
  },
  {
   "cell_type": "code",
   "execution_count": null,
   "metadata": {},
   "outputs": [],
   "source": [
    "def getAdj(n, edges):\n",
    "    adj = {i + 1: [] for i in range(n)}\n",
    "    for h, t in edges:\n",
    "        adj[h].append(t)\n",
    "        adj[t].append(h)\n",
    "    return adj\n",
    "\n",
    "\n",
    "def update(R, D):\n",
    "    R_new = {}\n",
    "    for k, v in R.items():\n",
    "        for kd, vd in D.items():\n",
    "            knew, vnew = k + kd, v * vd\n",
    "            if knew in R_new:\n",
    "                R_new[knew] += vnew\n",
    "            else:\n",
    "                R_new[knew] = vnew\n",
    "    return R_new\n",
    "\n",
    "\n",
    "def rec(root, parent, m, adj):\n",
    "    \"\"\"\n",
    "    Input:\n",
    "        - [root]: The root of the subtree;\n",
    "        - [parent]: parent of root; can be None;\n",
    "        - [m]: minimum number of nodes\n",
    "    Output:\n",
    "        [u]: number of subtree NOT rooted at [root] with at least [m] nodes\n",
    "        [R]: dictionary with [key] equaling the number of nodes \n",
    "            and [val] equaling the number of subtrees ROOTED AT [root] \n",
    "            with [key] many nodes.\n",
    "    \"\"\"\n",
    "    \n",
    "    u, R = 0, {0: 1}\n",
    "    for nb in adj[root]:\n",
    "        if nb == parent:\n",
    "            continue\n",
    "        a, B = rec(nb, root, m, adj)\n",
    "        u += a + sum([val for key, val in B.items() if key >= m])\n",
    "        R = update(R, B)\n",
    "    R = {key + 1: val for key, val in R.items()}\n",
    "    R[0] = 1\n",
    "    if root == 2:\n",
    "        print(u, R)\n",
    "    return u, R\n",
    "\n",
    "\n",
    "def cutTree(n, m, edges):\n",
    "    adj = getAdj(n, edges)\n",
    "    u, R = rec(1, None, m, adj)\n",
    "    return u + sum([val for key, val in R.items() if key >= m])"
   ]
  },
  {
   "cell_type": "code",
   "execution_count": null,
   "metadata": {},
   "outputs": [],
   "source": [
    "n, m = 3, 1\n",
    "edges = [\n",
    "    [2, 1],\n",
    "    [2, 3]\n",
    "]\n",
    "cutTree(n, m, edges)"
   ]
  }
 ],
 "metadata": {
  "kernelspec": {
   "display_name": "Python 3",
   "language": "python",
   "name": "python3"
  },
  "language_info": {
   "codemirror_mode": {
    "name": "ipython",
    "version": 3
   },
   "file_extension": ".py",
   "mimetype": "text/x-python",
   "name": "python",
   "nbconvert_exporter": "python",
   "pygments_lexer": "ipython3",
   "version": "3.7.5"
  }
 },
 "nbformat": 4,
 "nbformat_minor": 4
}
