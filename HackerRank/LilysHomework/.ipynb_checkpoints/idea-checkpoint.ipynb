{
 "cells": [
  {
   "cell_type": "code",
   "execution_count": 1,
   "metadata": {},
   "outputs": [],
   "source": [
    "import math\n",
    "import os\n",
    "import random\n",
    "import re\n",
    "import sys"
   ]
  },
  {
   "cell_type": "code",
   "execution_count": 46,
   "metadata": {},
   "outputs": [],
   "source": [
    "def minSwap(arr, reverse):\n",
    "    \"\"\"\n",
    "    minimal number of swap to make arr in increasing order\n",
    "    \"\"\"\n",
    "    \n",
    "    brr = arr.copy()\n",
    "    sorted_brr = sorted(brr, reverse=reverse)\n",
    "    idxMap = {a: i for i, a in enumerate(arr)}\n",
    "\n",
    "\n",
    "    count = 0\n",
    "    for i, b in enumerate(brr):\n",
    "        val = sorted_brr[i]\n",
    "        if b != val:\n",
    "            j = idxMap[val]\n",
    "            brr[i], brr[j] = val, brr[i]\n",
    "            idxMap[b] = j\n",
    "            count += 1\n",
    "            # print(f'{i}: {brr}')\n",
    "    return count\n",
    "            \n",
    "    \n",
    "    \n",
    "def lilysHomework(arr):\n",
    "    \n",
    "    \n",
    "    numSwaps_inc = minSwap(arr, False)\n",
    "    numSwaps_dec = minSwap(arr, True)\n",
    "    print(numSwaps_inc)\n",
    "    print(numSwaps_dec)\n",
    "    return min(numSwaps_inc, numSwaps_dec)\n",
    "    "
   ]
  },
  {
   "cell_type": "code",
   "execution_count": 50,
   "metadata": {},
   "outputs": [
    {
     "name": "stdout",
     "output_type": "stream",
     "text": [
      "50100\n",
      "100\n"
     ]
    },
    {
     "data": {
      "text/plain": [
       "100"
      ]
     },
     "execution_count": 50,
     "metadata": {},
     "output_type": "execute_result"
    }
   ],
   "source": [
    "input_index = '09'\n",
    "input_fname = f'data/input{input_index}.txt'\n",
    "with open(input_fname, 'r') as handle:\n",
    "    N = int(handle.readline().strip())\n",
    "    arr = list(map(int, handle.readline().strip().split()))\n",
    "\n",
    "lilysHomework(arr)"
   ]
  },
  {
   "cell_type": "code",
   "execution_count": null,
   "metadata": {},
   "outputs": [],
   "source": []
  }
 ],
 "metadata": {
  "kernelspec": {
   "display_name": "Python 3",
   "language": "python",
   "name": "python3"
  },
  "language_info": {
   "codemirror_mode": {
    "name": "ipython",
    "version": 3
   },
   "file_extension": ".py",
   "mimetype": "text/x-python",
   "name": "python",
   "nbconvert_exporter": "python",
   "pygments_lexer": "ipython3",
   "version": "3.7.5"
  }
 },
 "nbformat": 4,
 "nbformat_minor": 4
}
