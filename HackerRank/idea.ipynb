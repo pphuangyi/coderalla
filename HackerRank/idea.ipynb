{
 "metadata": {
  "language_info": {
   "codemirror_mode": {
    "name": "ipython",
    "version": 3
   },
   "file_extension": ".py",
   "mimetype": "text/x-python",
   "name": "python",
   "nbconvert_exporter": "python",
   "pygments_lexer": "ipython3",
   "version": "3.9.2-final"
  },
  "orig_nbformat": 2,
  "kernelspec": {
   "name": "python3",
   "display_name": "Python 3.9.2 64-bit",
   "metadata": {
    "interpreter": {
     "hash": "4ad09f9fd21a1c2531abb4c3dadf7773a43b72e34365b59d6e5a1d67dfb327ce"
    }
   }
  }
 },
 "nbformat": 4,
 "nbformat_minor": 2,
 "cells": [
  {
   "source": [
    "# Super Maximum Cost Queries\n",
    "Victoria has a tree $T$, consisting of $N$ nodes numbered from $1$ to $N$. \n",
    "Each edge $E_i = (U_i, V_i)$ has an integer weight $W_i$.\n",
    "Let's define the cost $C$ of a path from some node $X$ to some other node $Y$ as the maximum weight of edge in the unique path from $X$ to $Y$.\n",
    "\n",
    "Victoria needs help processing $Q$ queries on tree $T$, where each query contains $2$ integers $L$ and $R$, such that $L\\leq R$. \n",
    "For each query, she wants to print the number of different paths in $T$ that have a cost in the inclusive range $[L, R]$."
   ],
   "cell_type": "markdown",
   "metadata": {}
  },
  {
   "cell_type": "code",
   "execution_count": 4,
   "metadata": {},
   "outputs": [],
   "source": [
    "class disjointSet:\n",
    "    def __init__(self, N):\n",
    "        self.memo = [i for i in range(N)]\n",
    "    \n",
    "    def find(self, a):\n",
    "        while self.memo[a] != a:\n",
    "            a = self.memo[a]\n",
    "        return a\n",
    "\n",
    "    def union(self, a, b):\n",
    "        ra, rb = self.find(a), self.find(b)\n",
    "        if ra != rb:\n",
    "            self.memo[ra] = rb\n",
    "    \n",
    "    def getComponents(self):\n",
    "        components = {}\n",
    "        for m in self.memo:\n",
    "            rm = self.find(m)\n",
    "            if rm in components:\n",
    "                components[rm].append(m)\n",
    "            else:\n",
    "                components[rm] = [m]\n",
    "        return components\n",
    "\n",
    "    def getNumPaths(self):\n",
    "        comps = self.getComponents()\n",
    "        return sum([len(comp) * (len(comp) - 1) // 2 for _, comp in comps.items()])"
   ]
  },
  {
   "cell_type": "code",
   "execution_count": 10,
   "metadata": {},
   "outputs": [],
   "source": [
    "def solve(tree, query):\n",
    "    L, R = query\n",
    "    ds = disjointSet(len(tree) + 1)\n",
    "    for u, v, w in tree:\n",
    "        if w < L:\n",
    "            ds.union(u - 1, v - 1)\n",
    "    paths_1 = ds.getNumPaths()\n",
    "\n",
    "    for u, v, w in tree:\n",
    "        if w > L and w <= R:\n",
    "            ds.union(u - 1, v - 1)\n",
    "    paths_2 = ds.getNumPaths()\n",
    "\n",
    "    return paths_2 - paths_1"
   ]
  },
  {
   "cell_type": "code",
   "execution_count": 8,
   "metadata": {},
   "outputs": [],
   "source": [
    "tree = [\n",
    "    [1, 2, 3],\n",
    "    [1, 4, 2],\n",
    "    [2, 5, 6],\n",
    "    [3, 4, 1]\n",
    "]\n",
    "queries = [\n",
    "    [1, 1],\n",
    "    [1, 2],\n",
    "    [2, 3],\n",
    "    [2, 5],\n",
    "    [1, 6]\n",
    "]"
   ]
  },
  {
   "cell_type": "code",
   "execution_count": 12,
   "metadata": {},
   "outputs": [
    {
     "output_type": "execute_result",
     "data": {
      "text/plain": [
       "1"
      ]
     },
     "metadata": {},
     "execution_count": 12
    }
   ],
   "source": [
    "solve(tree, queries[1])"
   ]
  },
  {
   "cell_type": "code",
   "execution_count": null,
   "metadata": {},
   "outputs": [],
   "source": []
  }
 ]
}