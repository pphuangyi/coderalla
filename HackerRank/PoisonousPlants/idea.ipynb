{
 "metadata": {
  "language_info": {
   "codemirror_mode": {
    "name": "ipython",
    "version": 3
   },
   "file_extension": ".py",
   "mimetype": "text/x-python",
   "name": "python",
   "nbconvert_exporter": "python",
   "pygments_lexer": "ipython3",
   "version": "3.9.2-final"
  },
  "orig_nbformat": 2,
  "kernelspec": {
   "name": "python3",
   "display_name": "Python 3.9.2 64-bit",
   "metadata": {
    "interpreter": {
     "hash": "4ad09f9fd21a1c2531abb4c3dadf7773a43b72e34365b59d6e5a1d67dfb327ce"
    }
   }
  }
 },
 "nbformat": 4,
 "nbformat_minor": 2,
 "cells": [
  {
   "cell_type": "code",
   "execution_count": 4,
   "metadata": {},
   "outputs": [],
   "source": [
    "import random"
   ]
  },
  {
   "source": [
    "## Brute-force Solution"
   ],
   "cell_type": "markdown",
   "metadata": {}
  },
  {
   "cell_type": "code",
   "execution_count": 5,
   "metadata": {},
   "outputs": [],
   "source": [
    "def bruteForce(arr):\n",
    "    days = 0\n",
    "    while True:\n",
    "        arr_new = []\n",
    "        prev = None\n",
    "        for a in arr:\n",
    "            if prev is None or a <= prev:\n",
    "                arr_new.append(a)\n",
    "            prev = a\n",
    "        if len(arr_new) == len(arr):\n",
    "            break\n",
    "        arr = arr_new\n",
    "        days += 1\n",
    "    return days"
   ]
  },
  {
   "source": [
    "## Efficient Solution 1: Recursion"
   ],
   "cell_type": "markdown",
   "metadata": {}
  },
  {
   "cell_type": "code",
   "execution_count": 6,
   "metadata": {},
   "outputs": [],
   "source": [
    "def helper(arr):\n",
    "    if len(arr) == 0:\n",
    "        return 0\n",
    "\n",
    "    i, prev = 0, -float('inf')\n",
    "    while i < len(arr) and arr[i] > prev:\n",
    "        prev = arr[i]\n",
    "        i += 1\n",
    "\n",
    "    days = 1\n",
    "    curMin, subArr = float('inf'), []\n",
    "    for a in arr[i:]:\n",
    "        if a > curMin:\n",
    "            subArr.append(a)\n",
    "        else:\n",
    "            days = max(days, helper(subArr))\n",
    "            subArr = []\n",
    "            curMin = a\n",
    "            days += 1\n",
    "\n",
    "    return max(days, helper(subArr))\n",
    "\n",
    "\n",
    "def foo(arr):\n",
    "    days, curMin, subArr = 0, float('inf'), []    \n",
    "    for a in arr:\n",
    "        if a > curMin:\n",
    "            subArr.append(a)\n",
    "        else:\n",
    "            days = max(days, helper(subArr))\n",
    "            subArr = []\n",
    "            curMin = a\n",
    "\n",
    "    return max(days, helper(subArr))"
   ]
  },
  {
   "source": [
    "## Efficient Solution 2: Stack"
   ],
   "cell_type": "markdown",
   "metadata": {}
  },
  {
   "cell_type": "code",
   "execution_count": 34,
   "metadata": {},
   "outputs": [],
   "source": [
    "class stackNode:\n",
    "    def __init__(self, arr):\n",
    "        self.stack = arr\n",
    "        self.next = None\n",
    "\n",
    "\n",
    "class stackLlist:\n",
    "    def __init__(self, arr):\n",
    "        self.head = None\n",
    "        \n",
    "        prev, stack, prevNode = -float('inf'), [], None\n",
    "        for a in arr:\n",
    "            if a > prev:\n",
    "                if len(stack) > 0:\n",
    "                    if self.head is None:\n",
    "                        self.head = stackNode(stack[::-1])\n",
    "                        prevNode = self.head\n",
    "                    else:\n",
    "                        node = stackNode(stack[::-1])\n",
    "                        prevNode.next = node\n",
    "                        prevNode = node\n",
    "                stack = [a]\n",
    "            else:\n",
    "                stack.append(a)\n",
    "            prev = a\n",
    "        if prevNode is not None:\n",
    "            prevNode.next = stackNode(stack[::-1])\n",
    "        else:\n",
    "            self.head = stackNode(stack[::-1])\n",
    "\n",
    "\n",
    "    def update(self):\n",
    "        listLength, curNode = 0, self.head\n",
    "        while True:\n",
    "            listLength += 1\n",
    "            nextNode = curNode.next\n",
    "            if nextNode is None:\n",
    "                break\n",
    "            nextNode.stack.pop()\n",
    "            if len(nextNode.stack) == 0 or nextNode.stack[-1] <= curNode.stack[0]:\n",
    "                curNode.stack = nextNode.stack + curNode.stack\n",
    "                curNode.next = nextNode.next\n",
    "            else:\n",
    "                curNode = nextNode\n",
    "        return listLength\n",
    "\n",
    "    \n",
    "    def print(self):\n",
    "        curNode = self.head\n",
    "        while curNode != None:\n",
    "            print(curNode.stack)\n",
    "            curNode = curNode.next"
   ]
  },
  {
   "cell_type": "code",
   "execution_count": 35,
   "metadata": {},
   "outputs": [
    {
     "output_type": "stream",
     "name": "stdout",
     "text": [
      "\n======= iter = 0=======\n[6]\n[2, 8]\n[5]\n[3, 4, 9]\n[1, 7]\n\n======= iter = 1=======\n[2, 6]\n[1, 3, 4]\n\n======= iter = 2=======\n[2, 6]\n[1, 3]\n\n======= iter = 3=======\n[1, 2, 6]\n"
     ]
    }
   ],
   "source": [
    "def poisonousPlants(arr):\n",
    "    sll = stackLlist(arr)\n",
    "    iteration = 0\n",
    "    while True:\n",
    "        print(f'\\n======= iter = {iteration}=======')\n",
    "        sll.print()\n",
    "        length = sll.update()\n",
    "        if length == 1:\n",
    "            break\n",
    "        iteration += 1\n",
    "\n",
    "    return iteration\n",
    "    \n",
    "arr = [6, 8, 2, 5, 9, 4, 3, 7, 1]\n",
    "pp = poisonousPlants(arr)\n",
    "bf = bruteForce(arr)"
   ]
  },
  {
   "source": [
    "## Test"
   ],
   "cell_type": "markdown",
   "metadata": {}
  },
  {
   "cell_type": "code",
   "execution_count": 31,
   "metadata": {},
   "outputs": [],
   "source": [
    "N, R = 100, 100\n",
    "reruns = 10\n",
    "for i in range(reruns):\n",
    "    arr = [random.randint(1, R) for _ in range(N)]\n",
    "    # print(arr)\n",
    "    bf = bruteForce(arr)\n",
    "    # ef = foo(arr)\n",
    "    pp = poisonousPlants(arr)\n",
    "    if bf != pp:\n",
    "        print(arr)"
   ]
  },
  {
   "cell_type": "code",
   "execution_count": 37,
   "metadata": {},
   "outputs": [
    {
     "output_type": "stream",
     "name": "stdout",
     "text": [
      "\n======= iter = 0=======\n[1, 1, 1, 1, 1]\n0\n"
     ]
    }
   ],
   "source": [
    "arr = [1, 1, 1, 1, 1]\n",
    "pp = poisonousPlants(arr)\n",
    "print(pp)"
   ]
  },
  {
   "cell_type": "code",
   "execution_count": null,
   "metadata": {},
   "outputs": [],
   "source": []
  }
 ]
}