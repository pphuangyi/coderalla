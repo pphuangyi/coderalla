{
 "cells": [
  {
   "cell_type": "markdown",
   "metadata": {},
   "source": [
    "# The story of a tree\n",
    "One day Bob drew a tree, $T$, with $n$ nodes and $n-1$ edges on a piece of paper. \n",
    "He soon discovered that parent of a node depends on the root of the tree. \n",
    "The following images shows an example of that:\n",
    "\n",
    "<img src=\"TheStoryOfATree.png\" alt=\"The story of a tree\" height=200/>\n",
    "\n",
    "Learning the fact, Bob invented an exciting new game and decided to play it with Alice. \n",
    "The rules of the game is described below:\n",
    "\n",
    "Bob picks a random node to be the tree's root and keeps the identity of the chosen node a secret from Alice. Each node has an equal probability of being picked as the root.\n",
    "Alice then makes a list of $g$ guesses, where each guess is in the form $u v$ and means Alice guesses that $parent(v) = u$ is true. \n",
    "It's guaranteed that an undirected edge connecting $u$ and $v$ exists in the tree.\n",
    "For each correct guess, Alice earns one point. \n",
    "Alice wins the game if she earns at least $k$ points (i.e., at least $k$ of her guesses were true).\n",
    "Alice and Bob play $t$ games. \n",
    "Given the tree, Alice's guesses, and the value of $k$ for each game, find the probability that Alice will win the game and print it on a new line as a reduced fraction in the format $p/q$."
   ]
  },
  {
   "cell_type": "markdown",
   "metadata": {},
   "source": [
    "## Solution"
   ]
  },
  {
   "cell_type": "code",
   "execution_count": 70,
   "metadata": {},
   "outputs": [],
   "source": [
    "def gcd(a, b):\n",
    "    while b > 0:\n",
    "        a, b = b, a % b\n",
    "    return a\n",
    "\n",
    "\n",
    "def getSubtree(root, u, adj, memo, guesses):\n",
    "    \n",
    "    subtree, offset = [root], 0\n",
    "    for node in adj[root]:\n",
    "        if node == u:\n",
    "            continue\n",
    "        subtree_, offset_ = getSubtree(node, root, adj, memo, guesses)\n",
    "        subtree += subtree_\n",
    "        offset += offset_\n",
    "    \n",
    "    if (u, root) in guesses:\n",
    "        for n in subtree:\n",
    "            memo[n - 1] -= 1\n",
    "        offset += 1\n",
    "    elif (root, u) in guesses:\n",
    "        for n in subtree:\n",
    "            memo[n - 1] += 1\n",
    "    return subtree, offset\n",
    "\n",
    "\n",
    "def storyOfATree(n, edges, k, guesses):\n",
    "    adj = {i: [] for i in range(1, n + 1)}\n",
    "    for h, t in edges:\n",
    "        adj[h].append(t)\n",
    "        adj[t].append(h)\n",
    "\n",
    "    gset = set([(u, v) for u, v in guesses])\n",
    "    for u, v in guesses:\n",
    "        if (u, v) in gset and (v, u) in gset:\n",
    "            gset.remove((u, v))\n",
    "            gset.remove((v, u))\n",
    "            k -= 1\n",
    "\n",
    "    memo = [0] * n\n",
    "    _, offset = getSubtree(1, None, adj, memo, gset)\n",
    "    numerator = sum([m >= k - offset for m in memo])\n",
    "    \n",
    "    g = gcd(numerator, n)\n",
    "    return f'{numerator // g}/{n // g}'"
   ]
  },
  {
   "cell_type": "markdown",
   "metadata": {},
   "source": [
    "## Simple tests"
   ]
  },
  {
   "cell_type": "code",
   "execution_count": 227,
   "metadata": {},
   "outputs": [
    {
     "name": "stdout",
     "output_type": "stream",
     "text": [
      "1/3\n"
     ]
    }
   ],
   "source": [
    "n, k = 4, 2\n",
    "edges = [[1, 2],[1, 3],[3, 4]]\n",
    "guesses = [[1, 2],[3, 4]]\n",
    "\n",
    "n, k = 3, 2\n",
    "edges = [[1, 2],[1, 3]]\n",
    "guesses = [[1, 2],[1, 3]]\n",
    "\n",
    "result = storyOfATree(n, edges, k, guesses)\n",
    "print(result)"
   ]
  },
  {
   "cell_type": "markdown",
   "metadata": {},
   "source": [
    "## HackerRank examples"
   ]
  },
  {
   "cell_type": "code",
   "execution_count": 228,
   "metadata": {},
   "outputs": [
    {
     "name": "stdout",
     "output_type": "stream",
     "text": [
      "test 0\n",
      "\tnumber of vertices = 50000\n",
      "\tnumber of guesses = 49999\n",
      "\tnumber of correct guesses to score = 25000\n",
      "\tresult=26659/50000\n",
      "test 1\n",
      "\tnumber of vertices = 50000\n",
      "\tnumber of guesses = 49999\n",
      "\tnumber of correct guesses to score = 25000\n",
      "\tresult=0/1\n"
     ]
    }
   ],
   "source": [
    "input_index = '10'\n",
    "input_fname = f'data/input{input_index}.txt'\n",
    "output_fname = f'data/output{input_index}.txt'\n",
    "\n",
    "with open(input_fname, 'r') as handle:\n",
    "    t = int(handle.readline().strip())\n",
    "    for i in range(t):\n",
    "        n = int(handle.readline().strip())\n",
    "        edges = []\n",
    "        for _ in range(n - 1):\n",
    "            edges.append(list(map(int, handle.readline().strip().split())))\n",
    "        \n",
    "        g, k = list(map(int, handle.readline().strip().split()))\n",
    "        guesses = []\n",
    "        for _ in range(g):\n",
    "            guesses.append(list(map(int, handle.readline().strip().split())))\n",
    "            \n",
    "        print(f'test {i}')\n",
    "        print(f'\\tnumber of vertices = {n}')\n",
    "        print(f'\\tnumber of guesses = {g}')\n",
    "        print(f'\\tnumber of correct guesses to score = {k}')\n",
    "        \n",
    "        result = storyOfATree(n, edges, k, guesses)\n",
    "        print(f'\\tresult={result}')"
   ]
  }
 ],
 "metadata": {
  "kernelspec": {
   "display_name": "Python 3",
   "language": "python",
   "name": "python3"
  },
  "language_info": {
   "codemirror_mode": {
    "name": "ipython",
    "version": 3
   },
   "file_extension": ".py",
   "mimetype": "text/x-python",
   "name": "python",
   "nbconvert_exporter": "python",
   "pygments_lexer": "ipython3",
   "version": "3.7.5"
  }
 },
 "nbformat": 4,
 "nbformat_minor": 4
}
