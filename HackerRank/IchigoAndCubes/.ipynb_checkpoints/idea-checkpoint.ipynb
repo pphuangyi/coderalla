{
 "cells": [
  {
   "cell_type": "code",
   "execution_count": 1,
   "metadata": {},
   "outputs": [],
   "source": [
    "import random\n",
    "import math\n",
    "import numpy as np\n",
    "import numpy.linalg as LA\n"
   ]
  },
  {
   "cell_type": "code",
   "execution_count": 3,
   "metadata": {},
   "outputs": [],
   "source": [
    "import matplotlib.pyplot as plt\n",
    "from mpl_toolkits.mplot3d import Axes3D"
   ]
  },
  {
   "cell_type": "code",
   "execution_count": 35,
   "metadata": {},
   "outputs": [
    {
     "data": {
      "image/png": "[encoded data removed]",
      "text/plain": [
       "<Figure size 720x720 with 1 Axes>"
      ]
     },
     "metadata": {
      "needs_background": "light"
     },
     "output_type": "display_data"
    }
   ],
   "source": [
    "x, y, z = np.indices((5, 13, 8))\n",
    "\n",
    "# draw cuboids in the top left and bottom right corners, and a link between them\n",
    "cube1 = (x < 8) & (y < 8) & (z < 8)\n",
    "# cube2 = (x >= 5) & (y >= 5) & (z >= 5)\n",
    "# link = abs(x - y) + abs(y - z) + abs(z - x) <= 2\n",
    "\n",
    "# combine the objects into a single boolean array\n",
    "voxels = cube1 | cube2 # | link\n",
    "\n",
    "# set the colors of each object\n",
    "colors = np.empty(list(voxels.shape) + [4], dtype=np.float32)\n",
    "# colors[link] = 'red'\n",
    "colors[cube1] = [0, 0, 1, .3]\n",
    "# colors[cube2] = 'green'\n",
    "\n",
    "# and plot everything\n",
    "fig = plt.figure(figsize=(10, 10))\n",
    "ax = fig.gca(projection='3d')\n",
    "ax.set_aspect(1)\n",
    "\n",
    "ax.voxels(voxels, facecolors=colors, edgecolor='k')\n",
    "\n",
    "ax.view_init(0, 0)\n",
    "plt.show()"
   ]
  },
  {
   "cell_type": "markdown",
   "metadata": {},
   "source": [
    "## Solution"
   ]
  },
  {
   "cell_type": "code",
   "execution_count": 42,
   "metadata": {},
   "outputs": [
    {
     "data": {
      "text/plain": [
       "311"
      ]
     },
     "execution_count": 42,
     "metadata": {},
     "output_type": "execute_result"
    }
   ],
   "source": [
    "M = int(1e9 + 7)\n",
    "P, Q, R = 31, 13, 5\n",
    "ichigo(P, Q, R, M)"
   ]
  },
  {
   "cell_type": "code",
   "execution_count": 110,
   "metadata": {},
   "outputs": [
    {
     "name": "stdout",
     "output_type": "stream",
     "text": [
      "3443 6239 4243\n",
      "0: 31280801, 31280801\n",
      "1556 1885 7561\n",
      "1: 14475230, 14475230\n",
      "3197 5929 7261\n",
      "2: 42609449, 42609449\n",
      "7839 463 8032\n",
      "3: 35155560, 35155560\n",
      "6481 7191 3175\n",
      "4: 45006735, 45006735\n",
      "2521 3778 3551\n",
      "5: 15946043, 15946043\n"
     ]
    },
    {
     "ename": "KeyboardInterrupt",
     "evalue": "",
     "output_type": "error",
     "traceback": [
      "\u001b[0;31m---------------------------------------------------------------------------\u001b[0m",
      "\u001b[0;31mKeyboardInterrupt\u001b[0m                         Traceback (most recent call last)",
      "\u001b[0;32m<ipython-input-110-18fdb2573a54>\u001b[0m in \u001b[0;36m<module>\u001b[0;34m\u001b[0m\n\u001b[1;32m     17\u001b[0m \u001b[0;34m\u001b[0m\u001b[0m\n\u001b[1;32m     18\u001b[0m \u001b[0;32mfor\u001b[0m \u001b[0mi\u001b[0m\u001b[0;34m,\u001b[0m \u001b[0;34m[\u001b[0m\u001b[0mP\u001b[0m\u001b[0;34m,\u001b[0m \u001b[0mQ\u001b[0m\u001b[0;34m,\u001b[0m \u001b[0mR\u001b[0m\u001b[0;34m]\u001b[0m \u001b[0;32min\u001b[0m \u001b[0menumerate\u001b[0m\u001b[0;34m(\u001b[0m\u001b[0mproblems\u001b[0m\u001b[0;34m)\u001b[0m\u001b[0;34m:\u001b[0m\u001b[0;34m\u001b[0m\u001b[0;34m\u001b[0m\u001b[0m\n\u001b[0;32m---> 19\u001b[0;31m     \u001b[0mmy\u001b[0m \u001b[0;34m=\u001b[0m \u001b[0michigo\u001b[0m\u001b[0;34m(\u001b[0m\u001b[0mP\u001b[0m\u001b[0;34m,\u001b[0m \u001b[0mQ\u001b[0m\u001b[0;34m,\u001b[0m \u001b[0mR\u001b[0m\u001b[0;34m,\u001b[0m \u001b[0mM\u001b[0m\u001b[0;34m)\u001b[0m\u001b[0;34m\u001b[0m\u001b[0;34m\u001b[0m\u001b[0m\n\u001b[0m\u001b[1;32m     20\u001b[0m     \u001b[0mr\u001b[0m \u001b[0;34m=\u001b[0m \u001b[0mresults\u001b[0m\u001b[0;34m[\u001b[0m\u001b[0mi\u001b[0m\u001b[0;34m]\u001b[0m\u001b[0;34m\u001b[0m\u001b[0;34m\u001b[0m\u001b[0m\n\u001b[1;32m     21\u001b[0m     \u001b[0mprint\u001b[0m\u001b[0;34m(\u001b[0m\u001b[0mP\u001b[0m\u001b[0;34m,\u001b[0m \u001b[0mQ\u001b[0m\u001b[0;34m,\u001b[0m \u001b[0mR\u001b[0m\u001b[0;34m)\u001b[0m\u001b[0;34m\u001b[0m\u001b[0;34m\u001b[0m\u001b[0m\n",
      "\u001b[0;32m<ipython-input-105-6f27d63cfe93>\u001b[0m in \u001b[0;36michigo\u001b[0;34m(P, Q, R, M)\u001b[0m\n\u001b[1;32m     20\u001b[0m                 \u001b[0;32mbreak\u001b[0m\u001b[0;34m\u001b[0m\u001b[0;34m\u001b[0m\u001b[0m\n\u001b[1;32m     21\u001b[0m             \u001b[0mr1\u001b[0m \u001b[0;34m=\u001b[0m \u001b[0mmin\u001b[0m\u001b[0;34m(\u001b[0m\u001b[0mR\u001b[0m \u001b[0;34m-\u001b[0m \u001b[0;36m1\u001b[0m\u001b[0;34m,\u001b[0m \u001b[0mint\u001b[0m\u001b[0;34m(\u001b[0m\u001b[0;34m(\u001b[0m\u001b[0;36m1\u001b[0m \u001b[0;34m-\u001b[0m \u001b[0ma\u001b[0m\u001b[0;34m)\u001b[0m \u001b[0;34m*\u001b[0m \u001b[0mR\u001b[0m\u001b[0;34m)\u001b[0m\u001b[0;34m)\u001b[0m\u001b[0;34m\u001b[0m\u001b[0;34m\u001b[0m\u001b[0m\n\u001b[0;32m---> 22\u001b[0;31m             \u001b[0mr2\u001b[0m \u001b[0;34m=\u001b[0m \u001b[0mmax\u001b[0m\u001b[0;34m(\u001b[0m\u001b[0mmath\u001b[0m\u001b[0;34m.\u001b[0m\u001b[0mfloor\u001b[0m\u001b[0;34m(\u001b[0m\u001b[0;34m(\u001b[0m\u001b[0mconstant\u001b[0m \u001b[0;34m-\u001b[0m \u001b[0ma\u001b[0m\u001b[0;34m)\u001b[0m \u001b[0;34m*\u001b[0m \u001b[0mR\u001b[0m\u001b[0;34m)\u001b[0m\u001b[0;34m,\u001b[0m \u001b[0;34m-\u001b[0m\u001b[0;36m1\u001b[0m\u001b[0;34m)\u001b[0m\u001b[0;34m\u001b[0m\u001b[0;34m\u001b[0m\u001b[0m\n\u001b[0m\u001b[1;32m     23\u001b[0m \u001b[0;34m\u001b[0m\u001b[0m\n\u001b[1;32m     24\u001b[0m             \u001b[0mcount\u001b[0m \u001b[0;34m+=\u001b[0m \u001b[0mr1\u001b[0m \u001b[0;34m-\u001b[0m \u001b[0mr2\u001b[0m\u001b[0;34m\u001b[0m\u001b[0;34m\u001b[0m\u001b[0m\n",
      "\u001b[0;31mKeyboardInterrupt\u001b[0m: "
     ]
    }
   ],
   "source": [
    "findex = '02'\n",
    "input_fname = f'data/input{findex}.txt'\n",
    "output_fname = f'data/output{findex}.txt'\n",
    "\n",
    "problems = []\n",
    "with open(input_fname, 'r') as ihd:\n",
    "    numTests = int(ihd.readline().strip())\n",
    "    for _ in range(numTests):\n",
    "        p = list(map(int, ihd.readline().strip().split()))\n",
    "        problems.append(p)\n",
    "\n",
    "results = []\n",
    "with open(output_fname, 'r') as ohd:\n",
    "    for line in ohd:\n",
    "        r = int(line.strip())\n",
    "        results.append(r)\n",
    "\n",
    "for i, [P, Q, R] in enumerate(problems):\n",
    "    my = ichigo(P, Q, R, M)\n",
    "    r = results[i]\n",
    "    print(P, Q, R)\n",
    "    # if my != r:\n",
    "    print(f'{i}: {my}, {r}')"
   ]
  },
  {
   "cell_type": "code",
   "execution_count": 50,
   "metadata": {},
   "outputs": [
    {
     "name": "stdout",
     "output_type": "stream",
     "text": [
      "26472077\n"
     ]
    }
   ],
   "source": [
    "count = 0\n",
    "for i in range(6239):\n",
    "    for j in range(4243):\n",
    "        count += 1\n",
    "print(count)"
   ]
  },
  {
   "cell_type": "code",
   "execution_count": 51,
   "metadata": {},
   "outputs": [
    {
     "data": {
      "text/plain": [
       "19459441"
      ]
     },
     "execution_count": 51,
     "metadata": {},
     "output_type": "execute_result"
    }
   ],
   "source": [
    "sum([sum([1 for j in range(i)]) for i in range(6239)]) "
   ]
  },
  {
   "cell_type": "code",
   "execution_count": 52,
   "metadata": {},
   "outputs": [
    {
     "data": {
      "text/plain": [
       "38918882"
      ]
     },
     "execution_count": 52,
     "metadata": {},
     "output_type": "execute_result"
    }
   ],
   "source": [
    "sum([1 for j in range(i) for i in range(6239)]) "
   ]
  },
  {
   "cell_type": "code",
   "execution_count": 111,
   "metadata": {},
   "outputs": [],
   "source": [
    "def foo(p, q, r, P, Q, R):\n",
    "    a = p / P + q / Q + r / R\n",
    "    return a < 1 and a > 1 - (1 / P + 1 / Q + 1 / R)\n",
    "\n",
    "def ichigo(P, Q, R, M):\n",
    "#     P, Q, R = sorted([P, Q, R])#, reverse=True)\n",
    "#     # print(P, Q, R)\n",
    "#     parameters = [P, Q, R]\n",
    "#     random.shuffle(parameters)\n",
    "#     P, Q, R = parameters\n",
    "#     # print(P, Q, R)\n",
    "\n",
    "    \n",
    "    constant = 1 - (1 / P + 1 / Q + 1 / R)\n",
    "    count = 0\n",
    "    for p in range(P):\n",
    "        for q in range(Q):\n",
    "            a = p / P + q / Q\n",
    "            if a > 1:\n",
    "                break\n",
    "#             r1 = min(R - 1, int((1 - a) * R))\n",
    "#             r2 = max(math.floor((constant - a) * R), -1)\n",
    "#             count += r1 - r2\n",
    "            count += 1\n",
    "\n",
    "    return count"
   ]
  },
  {
   "cell_type": "code",
   "execution_count": 113,
   "metadata": {},
   "outputs": [
    {
     "data": {
      "text/plain": [
       "10745279"
      ]
     },
     "execution_count": 113,
     "metadata": {},
     "output_type": "execute_result"
    }
   ],
   "source": [
    "M = int(1e9 + 7)\n",
    "P, Q, R = 3443, 6239, 4243\n",
    "ichigo(P, Q, R, M)"
   ]
  },
  {
   "cell_type": "code",
   "execution_count": 116,
   "metadata": {},
   "outputs": [
    {
     "data": {
      "text/plain": [
       "311"
      ]
     },
     "execution_count": 116,
     "metadata": {},
     "output_type": "execute_result"
    }
   ],
   "source": [
    "P, Q, R = 31, 13, 5\n",
    "sum([foo(p, q, r, P, Q, R) for p in range(P) for q in range(Q) for r in range(R)])"
   ]
  },
  {
   "cell_type": "code",
   "execution_count": 125,
   "metadata": {},
   "outputs": [],
   "source": [
    "def gcd(a, b):\n",
    "    while b > 0:\n",
    "        r = a % b\n",
    "        a = b\n",
    "        b = r\n",
    "    return a"
   ]
  },
  {
   "cell_type": "code",
   "execution_count": 126,
   "metadata": {},
   "outputs": [],
   "source": [
    "def foo(p, q, P, Q):\n",
    "    a = p / P + q / Q\n",
    "    return a < 1 and a > 1 - (1 / P + 1 / Q)\n",
    "\n",
    "def bar(P, Q):\n",
    "    return sum([foo(p, q, P, Q) for p in range(P) for q in range(Q)])"
   ]
  },
  {
   "cell_type": "code",
   "execution_count": 130,
   "metadata": {},
   "outputs": [
    {
     "data": {
      "text/plain": [
       "311"
      ]
     },
     "execution_count": 130,
     "metadata": {},
     "output_type": "execute_result"
    }
   ],
   "source": [
    "def foo(p, q, r, P, Q, R):\n",
    "    a = p / P + q / Q + r / R\n",
    "    return a < 1 and a > 1 - (1 / P + 1 / Q + 1 / R)\n",
    "\n",
    "def bar(P, Q, R):\n",
    "    return sum([foo(p, q, r, P, Q, R) for p in range(P) for q in range(Q) for r in range(R)])\n",
    "bar(13, 31, 5)"
   ]
  },
  {
   "cell_type": "code",
   "execution_count": 137,
   "metadata": {},
   "outputs": [
    {
     "name": "stdout",
     "output_type": "stream",
     "text": [
      "830 830\n",
      "716 716\n",
      "146 146\n",
      "744 744\n",
      "184 184\n",
      "515 515\n",
      "167 167\n",
      "248 248\n"
     ]
    }
   ],
   "source": [
    "foobar = lambda a, b, c: (a * b + b * c + c * a - 1) // 2\n",
    "\n",
    "num_tries = 1 + 3 + 3 + 1\n",
    "X, y = [], []\n",
    "for _ in range(num_tries):\n",
    "    while True:\n",
    "        a = random.randint(1, 40)\n",
    "        b = random.randint(1, 40)\n",
    "        c = random.randint(1, 40)\n",
    "        if gcd(a, b) == 1 and gcd(b, c) == 1 and gcd(a, c) == 1:\n",
    "            break\n",
    "    row = [1, a, b, c, a * b, a * c,  b * c, a * b * c]\n",
    "    X.append(row)\n",
    "    y.append(bar(a, b, c))\n",
    "    print(bar(a, b, c), foobar(a, b, c))\n",
    "# X, y = np.array(X), np.array(y)\n",
    "# LA.solve(X, y)"
   ]
  },
  {
   "cell_type": "code",
   "execution_count": null,
   "metadata": {},
   "outputs": [],
   "source": []
  }
 ],
 "metadata": {
  "kernelspec": {
   "display_name": "Python 3",
   "language": "python",
   "name": "python3"
  },
  "language_info": {
   "codemirror_mode": {
    "name": "ipython",
    "version": 3
   },
   "file_extension": ".py",
   "mimetype": "text/x-python",
   "name": "python",
   "nbconvert_exporter": "python",
   "pygments_lexer": "ipython3",
   "version": "3.7.5"
  }
 },
 "nbformat": 4,
 "nbformat_minor": 4
}
