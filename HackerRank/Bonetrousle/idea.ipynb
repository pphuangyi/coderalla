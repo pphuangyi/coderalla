{
 "cells": [
  {
   "cell_type": "code",
   "execution_count": 2,
   "metadata": {},
   "outputs": [],
   "source": [
    "import os\n",
    "import sys"
   ]
  },
  {
   "cell_type": "code",
   "execution_count": 41,
   "metadata": {},
   "outputs": [
    {
     "name": "stdout",
     "output_type": "stream",
     "text": [
      "\t\t\thello Yi\n"
     ]
    }
   ],
   "source": [
    "a = 'hello'\n",
    "print('\\t' * 3 + f'{a} Yi')"
   ]
  },
  {
   "cell_type": "code",
   "execution_count": 68,
   "metadata": {},
   "outputs": [],
   "source": [
    "def bonetrousle(n, k, b, recursion_level):\n",
    "    leading = '\\t'*recursion_level + f'{recursion_level}: '\n",
    "    print(f'{leading}(n, k, b) = ({n}, {k}, {b})')\n",
    "    if b == 0:\n",
    "        return []\n",
    "    if b == 1:\n",
    "        return [n]\n",
    "    if k == b:\n",
    "        return list(range(1, k + 1))\n",
    "\n",
    "    # ============================== find prefix ============================== \n",
    "    prefix_length = (2 * k * b - b * b + b - 2 * n) // (2 * (k - b))\n",
    "    if prefix_length == b:\n",
    "        return list(range(1, b + 1))\n",
    "    prefix = list(range(1, prefix_length + 1))\n",
    "\n",
    "    n -= (prefix_length + 1) * prefix_length // 2 + (b - prefix_length) * prefix_length\n",
    "    b -= prefix_length\n",
    "    k -= prefix_length\n",
    "#     print(f'{leading}prefix length = {prefix_length}')\n",
    "#     print(f'{leading}adjusted (n, k, b) = ({n}, {k}, {b})')\n",
    "\n",
    "    # ============================== find split ============================== \n",
    "    b_l, b_r = (b + 1) // 2, b // 2\n",
    "    l_min = (1 + b_l) * b_l // 2\n",
    "    r_max = (2 * k - b_r + 1) * b_r // 2\n",
    "    lower = max(l_min, n - r_max)\n",
    "#     print(f'{leading}left min = {l_min}, right max = {r_max}')\n",
    "#     print(f'{leading}left boxes = {b_l}, right_boxes = {b_r}, lower = {lower}')\n",
    "    \n",
    "    l_max = lambda l: (2 * l + 1 - b_l) * b_l // 2\n",
    "    r_min = lambda l: (2 * l + 1 + b_r) * b_r // 2 \n",
    "    \n",
    "    \n",
    "    t = 2 * lower + (b_l - 1) * b_l\n",
    "    if t % (2 * b_l) == 0:\n",
    "        l = t // (2 * b_l)\n",
    "    else:\n",
    "        l = t // (2 * b_l) + 1\n",
    "    \n",
    "#     print(f'{leading}potential left length = {l}')\n",
    "#     print(f'{leading}l >= b_l = {l >= b_l}')\n",
    "#     print(f'{leading}l <= n - b_r = {l <= n - b_r}')\n",
    "#     print(f'{leading}left max = {l_max(l)}')\n",
    "#     print(f'{leading}right min = {r_min(l)}')\n",
    "#     print(f'{leading}l_max(l) + r_min(l) <= n = {l_max(l) + r_min(l) <= n}')\n",
    "    if (l >= b_l) and (l <= n - b_r) and (l_max(l) + r_min(l) <= n):\n",
    "#         print(f'{leading}left max')\n",
    "        L = list(range(l - b_l + 1, l + 1))\n",
    "        R = bonetrousle(n - l_max(l) - l * b_r, k - l, b_r, recursion_level + 1)\n",
    "        suffix = L + [x + l for x in R]\n",
    "    else:\n",
    "#         print(f'{leading}right min')\n",
    "        l = (2 * (n - lower) - (b_r + 1) * b_r) // (2 * b_r)\n",
    "        L = bonetrousle(n - r_min(l), l, b_l, recursion_level + 1)\n",
    "        R = list(range(l + 1, l + b_r + 1))\n",
    "        suffix = L + R\n",
    "        \n",
    "    return prefix + [x + prefix_length for x in suffix]\n",
    "    "
   ]
  },
  {
   "cell_type": "code",
   "execution_count": 78,
   "metadata": {},
   "outputs": [
    {
     "name": "stdout",
     "output_type": "stream",
     "text": [
      "[6, 21]\n",
      "\n",
      "================== recursion part ==================\n",
      "0: (n, k, b) = (12, 8, 3)\n",
      "\t1: (n, k, b) = (5, 5, 1)\n",
      "================== recursion part ==================\n",
      "\n",
      "[1, 3, 8]\n",
      "True\n"
     ]
    }
   ],
   "source": [
    "n, k, b = 12, 8, 3\n",
    "# n, k, b = 22, 7, 6\n",
    "# n, k, b = 26, 7, 6\n",
    "# n, k, b = 25, 10, 5\n",
    "# n, k, b = 39, 15, 3\n",
    "# n, k, b = 95, 20, 10\n",
    "\n",
    "minimum, maximum = (1 + b) * b // 2, (2 * k - b + 1) * b // 2\n",
    "print(f'[{minimum}, {maximum}]')\n",
    "if (n >= minimum) and (n <= maximum):\n",
    "\n",
    "    print(f'\\n================== recursion part ==================')\n",
    "    result = bonetrousle(n, k, b, 0)\n",
    "    print(f'================== recursion part ==================\\n')\n",
    "    print(result)\n",
    "    print(f'{n == sum(result)}')"
   ]
  },
  {
   "cell_type": "code",
   "execution_count": 71,
   "metadata": {},
   "outputs": [
    {
     "name": "stdout",
     "output_type": "stream",
     "text": [
      "[15, 40]\n"
     ]
    },
    {
     "data": {
      "text/plain": [
       "True"
      ]
     },
     "execution_count": 71,
     "metadata": {},
     "output_type": "execute_result"
    }
   ],
   "source": [
    "n, k, b = 12, 8, 3\n",
    "# n, k, b = 22, 7, 6\n",
    "n, k, b = 26, 7, 6\n",
    "n, k, b = 25, 10, 5\n",
    "\n",
    "minimum, maximum = (1 + b) * b // 2, (2 * k - b + 1) * b // 2\n",
    "print(f'[{minimum}, {maximum}]')\n",
    "(n >= minimum) and (n <= maximum)"
   ]
  },
  {
   "cell_type": "code",
   "execution_count": 26,
   "metadata": {},
   "outputs": [
    {
     "name": "stdout",
     "output_type": "stream",
     "text": [
      "prefix length = 1\n",
      "adjusted:\n",
      "\t(n, k, b) = (9, 7, 2)\n"
     ]
    }
   ],
   "source": [
    "prefix_length = (2 * k * b - b * b + b - 2 * n) // (2 * (k - b))\n",
    "prefix = list(range(1, prefix_length + 1))\n",
    "print(f'prefix length = {prefix_length}')\n",
    "\n",
    "n -= (prefix_length + 1) * prefix_length // 2 + (b - prefix_length) * prefix_length\n",
    "b -= prefix_length\n",
    "k -= prefix_length\n",
    "\n",
    "print(f'adjusted:')\n",
    "print(f'\\t(n, k, b) = ({n}, {k}, {b})')"
   ]
  },
  {
   "cell_type": "code",
   "execution_count": 22,
   "metadata": {},
   "outputs": [
    {
     "name": "stdout",
     "output_type": "stream",
     "text": [
      "left boxes = 1, right boxes = 1\n",
      "left length = 2\n",
      "True\n"
     ]
    }
   ],
   "source": [
    "# ============================== find split ============================== \n",
    "b_l, b_r = (b + 1) // 2, b // 2\n",
    "l_min = (1 + b_l) * b_l // 2\n",
    "r_max = (2 * k - b_r + 1) * b_r // 2\n",
    "lower = max(l_min, n - r_max)\n",
    "print(f'left boxes = {b_l}, right boxes = {b_r}')\n",
    "\n",
    "l_max = lambda l: (2 * l + 1 - b_l) // 2\n",
    "r_min = lambda l: (2 * l + 1 + b_r) // 2 \n",
    "\n",
    "t = 2 * lower + (b_l - 1) * b_l\n",
    "if t % (2 * b_l) == 0:\n",
    "    l = t // (2 * b_l)\n",
    "else:\n",
    "    l = t // (2 * b_l) + 1\n",
    "    \n",
    "print(f'left length = {l}')\n",
    "print((l >= b_l) and (l <= n - b_r) and (l_max(l) + r_min(l) <= n))"
   ]
  },
  {
   "cell_type": "code",
   "execution_count": null,
   "metadata": {},
   "outputs": [],
   "source": []
  }
 ],
 "metadata": {
  "kernelspec": {
   "display_name": "Python 3",
   "language": "python",
   "name": "python3"
  },
  "language_info": {
   "codemirror_mode": {
    "name": "ipython",
    "version": 3
   },
   "file_extension": ".py",
   "mimetype": "text/x-python",
   "name": "python",
   "nbconvert_exporter": "python",
   "pygments_lexer": "ipython3",
   "version": "3.7.5"
  }
 },
 "nbformat": 4,
 "nbformat_minor": 4
}
