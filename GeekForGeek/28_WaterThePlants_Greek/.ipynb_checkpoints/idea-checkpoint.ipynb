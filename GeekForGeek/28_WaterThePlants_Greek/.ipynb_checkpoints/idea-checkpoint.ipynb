{
 "cells": [
  {
   "cell_type": "markdown",
   "metadata": {},
   "source": [
    "# Water the plants\n",
    "\n",
    "A gallery with plants is divided into n parts, numbered : $0,1,2,3,\\dots, n-1$. \n",
    "There are provisions for attaching water sprinklers at every partition. \n",
    "A sprinkler with range $x$ at partition $i$ can water all partitions from $i-x$ to $i+x$.\n",
    "Given an array gallery consisting of n integers, where `gallery[i]` is the range of sprinkler at partition $i$ (`gallery[i]==-1` indicates no sprinkler attached), return the minimum number of sprinklers that need to be turned on to water the complete gallery.\n",
    "If there is no possible way to water the full length using the given sprinklers, print $-1$."
   ]
  },
  {
   "cell_type": "markdown",
   "metadata": {},
   "source": [
    "## Solution\n",
    "Greedy solution"
   ]
  },
  {
   "cell_type": "code",
   "execution_count": 40,
   "metadata": {},
   "outputs": [],
   "source": [
    "from bisect import bisect_right"
   ]
  },
  {
   "cell_type": "code",
   "execution_count": 38,
   "metadata": {},
   "outputs": [],
   "source": [
    "class Solution:\n",
    "    def min_sprinklers(self, gallery, n):\n",
    "        gallary_sorted = sorted([(max(0, i - g), min(n - 1, i + g)) for i, g in enumerate(gallery) if g >= 0])\n",
    "        # Fail case\n",
    "        if len(gallary_sorted) == 0:\n",
    "            return -1\n",
    "        \n",
    "        searching_start, first_uncovered = 0, 0\n",
    "        num_sprinklers_used = 0\n",
    "        while first_uncovered < n:\n",
    "            i = bisect_right(gallary_sorted, (first_uncovered, n), lo=searching_start)\n",
    "            \n",
    "            # Fail cases\n",
    "            if i == searching_start:\n",
    "                return -1\n",
    "            cover_max = max([gs[1] for gs in gallary_sorted[searching_start: i]])\n",
    "            if cover_max < first_uncovered:\n",
    "                return -1\n",
    "            \n",
    "            searching_start, first_uncovered = i, cover_max + 1\n",
    "            num_sprinklers_used += 1\n",
    "            \n",
    "        return num_sprinklers_used"
   ]
  },
  {
   "cell_type": "markdown",
   "metadata": {},
   "source": [
    "## Examples"
   ]
  },
  {
   "cell_type": "code",
   "execution_count": 39,
   "metadata": {},
   "outputs": [
    {
     "name": "stdout",
     "output_type": "stream",
     "text": [
      "[4, -1, -1, -1, -1, -1, 0, 0, 8, -1, -1, -1, -1, -1, -1, -1, -1]\n"
     ]
    },
    {
     "data": {
      "text/plain": [
       "1"
      ]
     },
     "execution_count": 39,
     "metadata": {},
     "output_type": "execute_result"
    }
   ],
   "source": [
    "n = 6\n",
    "gallery = [-1, 2, 2, -1, 0, 0]\n",
    "\n",
    "n = 9\n",
    "gallery = [2, 3, 4, -1, 2, 0, 0, -1, 0]\n",
    "\n",
    "n = 9\n",
    "gallery = [2, 3, 4, -1, 0, 0, 0, 0, 0]\n",
    "\n",
    "n = 1\n",
    "gallery = [-1]\n",
    "\n",
    "\n",
    "with open('data/input01.txt', 'r') as handle:\n",
    "    n = int(handle.readline().strip())\n",
    "    gallery = list(map(int, handle.readline().strip().split()))\n",
    "print(gallery)\n",
    "\n",
    "Solution().min_sprinklers(gallery, n)"
   ]
  }
 ],
 "metadata": {
  "kernelspec": {
   "display_name": "Python 3",
   "language": "python",
   "name": "python3"
  },
  "language_info": {
   "codemirror_mode": {
    "name": "ipython",
    "version": 3
   },
   "file_extension": ".py",
   "mimetype": "text/x-python",
   "name": "python",
   "nbconvert_exporter": "python",
   "pygments_lexer": "ipython3",
   "version": "3.7.5"
  }
 },
 "nbformat": 4,
 "nbformat_minor": 4
}
