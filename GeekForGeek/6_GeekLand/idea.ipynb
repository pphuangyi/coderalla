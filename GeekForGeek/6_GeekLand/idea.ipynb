{
 "cells": [
  {
   "cell_type": "code",
   "execution_count": 1,
   "metadata": {},
   "outputs": [],
   "source": [
    "import random"
   ]
  },
  {
   "cell_type": "code",
   "execution_count": 2,
   "metadata": {},
   "outputs": [],
   "source": [
    "import sys\n",
    "sys.path.append('../')\n",
    "from utils import printMatrix"
   ]
  },
  {
   "cell_type": "code",
   "execution_count": 3,
   "metadata": {},
   "outputs": [],
   "source": [
    "def rolling_window_sum(row, k):\n",
    "    result = [sum(row[:k])]\n",
    "    for i in range(len(row) - k):\n",
    "        result.append(result[-1] - row[i] + row[k + i])\n",
    "    return result"
   ]
  },
  {
   "cell_type": "code",
   "execution_count": 8,
   "metadata": {},
   "outputs": [
    {
     "name": "stdout",
     "output_type": "stream",
     "text": [
      "N = 7, K = 7\n",
      "\n",
      "======= test ======= START\n",
      " 2  4  2 -5 -3 -4 -5\n",
      "-2 -1 -1  4  5 -1 -3\n",
      "-5 -4 -3 -5  4 -5 -4\n",
      " 4  5  5  0  0  0  3\n",
      " 5 -1  3 -3 -4  2  1\n",
      " 0  2 -3  5  4  0  2\n",
      "-2  1  0 -3  5 -5 -4\n",
      "======= test ======= END\n",
      "\n",
      "-8\n"
     ]
    }
   ],
   "source": [
    "N = random.randint(3, 10)\n",
    "K = random.randint(N // 2, N)\n",
    "print(f'N = {N}, K = {K}')\n",
    "\n",
    "matrix = [[random.randint(-5, 5) for _ in range(N)] for _ in range(N)]\n",
    "printMatrix(matrix, name='test')\n",
    "\n",
    "result_1 = [rolling_window_sum(row, K) for row in matrix]\n",
    "# printMatrix(result_1, name='step 1')\n",
    "\n",
    "result = max([max(rolling_window_sum([result_1[i][c] for i in range(N)], K)) for c in range(N - K + 1)])\n",
    "# printMatrix(result_2, name='step 2')\n",
    "print(result)"
   ]
  },
  {
   "cell_type": "code",
   "execution_count": null,
   "metadata": {},
   "outputs": [],
   "source": []
  }
 ],
 "metadata": {
  "kernelspec": {
   "display_name": "Python 3",
   "language": "python",
   "name": "python3"
  },
  "language_info": {
   "codemirror_mode": {
    "name": "ipython",
    "version": 3
   },
   "file_extension": ".py",
   "mimetype": "text/x-python",
   "name": "python",
   "nbconvert_exporter": "python",
   "pygments_lexer": "ipython3",
   "version": "3.7.5"
  }
 },
 "nbformat": 4,
 "nbformat_minor": 4
}
