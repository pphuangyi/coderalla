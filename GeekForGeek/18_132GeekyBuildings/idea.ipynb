{
 "cells": [
  {
   "cell_type": "markdown",
   "metadata": {},
   "source": [
    "# 132 Geeky Buildings\n",
    "There are $N$ buildings in Linear Land. \n",
    "They appear in a linear line one after the other and their heights are given in the array arr. \n",
    "Geek wants to select three buildings in Linear Land and remodel them as recreational spots. \n",
    "The third of the selected building must be taller than the first and shorter than the second.\n",
    "Can geek build the three-building recreational zone? "
   ]
  },
  {
   "cell_type": "code",
   "execution_count": 3,
   "metadata": {},
   "outputs": [],
   "source": [
    "import random\n",
    "from time import time\n",
    "import matplotlib.pyplot as plt\n",
    "import numpy as np"
   ]
  },
  {
   "cell_type": "code",
   "execution_count": 36,
   "metadata": {},
   "outputs": [],
   "source": [
    "def bar(arr):\n",
    "    \"\"\"\n",
    "    A straightforward solution.\n",
    "    \"\"\"\n",
    "    memo = {}\n",
    "    for a in arr:\n",
    "        for key, val in memo.items():\n",
    "            if a > key and val is not None and a < val:\n",
    "                return True\n",
    "            elif val is None or a > val:\n",
    "                memo[key] = a\n",
    "        \n",
    "        # This part definitely can be improved.\n",
    "        if a not in memo:\n",
    "            memo[a] = None\n",
    "            \n",
    "    return False\n",
    "\n",
    "\n",
    "def foo_1(arr):\n",
    "    \"\"\"\n",
    "    A better one\n",
    "    \"\"\"\n",
    "    memo, min_key = {}, None\n",
    "    for a in arr:\n",
    "        for key, val in memo.items():\n",
    "            if a > key and val is not None and a < val:\n",
    "                return True\n",
    "            \n",
    "            # This part need to be improved\n",
    "            elif val is None or a > val:\n",
    "                memo[key] = a\n",
    "                \n",
    "        # Improved\n",
    "        if min_key is None or a < min_key:\n",
    "            min_key = a\n",
    "            memo[a] = None\n",
    "    return False\n",
    "\n",
    "\n",
    "def foo_2(arr):\n",
    "    \"\"\"\n",
    "    Try an even better one\n",
    "    \"\"\"\n",
    "    memo, min_key = {}, None\n",
    "    for a in arr:\n",
    "        to_remove = []\n",
    "        for key, val in memo.items():\n",
    "            if a > key and val is not None and a < val:\n",
    "                return True\n",
    "            \n",
    "            # Improved.\n",
    "            elif val is None or a > val:\n",
    "                if key == min_key:\n",
    "                    memo[key] = a\n",
    "                else:\n",
    "                    to_remove.append(key)\n",
    "                    \n",
    "        for k in to_remove:\n",
    "            del memo[k]\n",
    "\n",
    "        if min_key is None or a < min_key:\n",
    "            min_key = a\n",
    "            memo[a] = None\n",
    "    return False\n",
    "\n",
    "\n",
    "def foo_2(arr):\n",
    "    \"\"\"\n",
    "    Try an even better one\n",
    "    \"\"\"\n",
    "    memo, min_key = {}, None\n",
    "    for a in arr:\n",
    "        to_remove = []\n",
    "        for key, val in memo.items():\n",
    "            if a > key and val is not None and a < val:\n",
    "                return True\n",
    "            \n",
    "            # Improved.\n",
    "            elif val is None or a > val:\n",
    "                if key == min_key:\n",
    "                    memo[key] = a\n",
    "                else:\n",
    "                    to_remove.append(key)\n",
    "                    \n",
    "        for k in to_remove:\n",
    "            del memo[k]\n",
    "\n",
    "        if min_key is None or a < min_key:\n",
    "            min_key = a\n",
    "            memo[a] = None\n",
    "    return False\n",
    "\n",
    "\n",
    "def foo_3(arr):\n",
    "    \"\"\"\n",
    "    Try an even better one\n",
    "    \"\"\"\n",
    "    memo, minimum = [], None\n",
    "    for a in arr:\n",
    "        if minimum is None or a < minimum:\n",
    "            memo.append([a, None])\n",
    "            minimum = a\n",
    "            continue\n",
    "        \n",
    "        for i in range(len(memo)):\n",
    "            j = len(memo) - 1 - i\n",
    "            small, big = memo[j]\n",
    "            if a > small:\n",
    "                if big is not None and a < big:\n",
    "                    return True\n",
    "                else:\n",
    "                    if small == minimum:\n",
    "                        memo[j][1] = a\n",
    "                    else:\n",
    "                        memo = memo[j + 1:]\n",
    "                        break\n",
    "\n",
    "\n",
    "    return False"
   ]
  },
  {
   "cell_type": "markdown",
   "metadata": {},
   "source": [
    "## Correctness"
   ]
  },
  {
   "cell_type": "code",
   "execution_count": 38,
   "metadata": {},
   "outputs": [],
   "source": [
    "for _ in range(20):\n",
    "    arr = [random.randint(1, 15) for _ in range(5)]\n",
    "    \n",
    "    b, f1, f2, f3 = bar(arr), foo_1(arr), foo_2(arr), foo_3(arr)\n",
    "    if f1 != b or f2 != b or f3 != b:\n",
    "        print(arr)\n",
    "        print(f'bar: {b}, foo 1: {f1}, foo 2: {f2}, foo 3: {f3}\\n')"
   ]
  },
  {
   "cell_type": "markdown",
   "metadata": {},
   "source": [
    "## Run time"
   ]
  },
  {
   "cell_type": "code",
   "execution_count": 51,
   "metadata": {},
   "outputs": [
    {
     "name": "stdout",
     "output_type": "stream",
     "text": [
      "(500, 10)\n",
      "[[16 18  1 ...  1  6 20]\n",
      " [ 8  7  8 ... 20 10 16]\n",
      " [10 10 14 ... 10 15 15]\n",
      " ...\n",
      " [14 19 18 ... 11 10  9]\n",
      " [10  1  2 ...  5 16 12]\n",
      " [ 2 16  8 ... 19  3 13]]\n",
      "(500, 20)\n",
      "[[10 16 11 ... 13 10  4]\n",
      " [17 11  8 ... 14 13 19]\n",
      " [14 12 11 ... 13 18  3]\n",
      " ...\n",
      " [16  1  1 ...  1  6  9]\n",
      " [12 18 11 ...  5 13 18]\n",
      " [ 9 18 13 ... 14  7 18]]\n",
      "(500, 30)\n",
      "[[17  8  1 ... 15 12 17]\n",
      " [ 5 14  5 ... 15 10  4]\n",
      " [ 2  2  8 ... 14 15  5]\n",
      " ...\n",
      " [10  3  4 ... 12  1  4]\n",
      " [12  5 10 ... 18 13 16]\n",
      " [ 4  4 13 ...  7  2  2]]\n",
      "(500, 40)\n",
      "[[16  8  7 ... 19 11 18]\n",
      " [13  3  3 ... 17  8 13]\n",
      " [ 3 10 18 ...  3  9  3]\n",
      " ...\n",
      " [16  6  6 ... 17 18  3]\n",
      " [16  9  2 ...  4 17 18]\n",
      " [19 15 13 ... 17  2 15]]\n",
      "(500, 50)\n",
      "[[12 12 12 ... 15 15 14]\n",
      " [ 2  5  6 ... 11 10 18]\n",
      " [15 13  8 ...  8 16  7]\n",
      " ...\n",
      " [ 3  3 12 ...  9  2  1]\n",
      " [13 11 14 ...  8  3 12]\n",
      " [15  1 13 ... 14 13 12]]\n"
     ]
    }
   ],
   "source": [
    "num_reruns = 500\n",
    "start, end, step_size = 10, 50, 10\n",
    "lengths = range(start, end + step_size, step_size)\n",
    "\n",
    "result = []\n",
    "for length in lengths:\n",
    "    arrs = []\n",
    "    for _ in range(num_reruns):\n",
    "        arrs.append([random.randint(1, 20) for _ in range(length)])\n",
    "    arrs = np.array(arrs)\n",
    "    print(arrs.shape)\n",
    "    print(arrs)\n",
    "   \n",
    "    time0 = time()\n",
    "    for arr in arrs:\n",
    "        bar(arr)\n",
    "    time1 = time()\n",
    "    time_bar = time1 - time0\n",
    "    \n",
    "#     time0 = time()\n",
    "#     for arr in arrs:\n",
    "#         foo_1(arr)\n",
    "#     time1 = time()\n",
    "#     time_foo_1 = time1 - time0\n",
    "    \n",
    "    time0 = time()\n",
    "    for arr in arrs:\n",
    "        foo_3(arr)\n",
    "    time1 = time()\n",
    "    time_foo_3 = time1 - time0\n",
    "    \n",
    "    result.append([time_bar, time_foo_3])"
   ]
  },
  {
   "cell_type": "code",
   "execution_count": 52,
   "metadata": {},
   "outputs": [
    {
     "data": {
      "text/plain": [
       "<matplotlib.legend.Legend at 0x7f353f7c0a50>"
      ]
     },
     "execution_count": 52,
     "metadata": {},
     "output_type": "execute_result"
    },
    {
     "data": {
      "image/png": "[encoded data removed]",
      "text/plain": [
       "<Figure size 720x216 with 1 Axes>"
      ]
     },
     "metadata": {
      "needs_background": "light"
     },
     "output_type": "display_data"
    }
   ],
   "source": [
    "result = np.array(result)\n",
    "fig, ax = plt.subplots(1, 1, figsize=(10, 3))\n",
    "ax.plot(result[:, 0], label='bar')\n",
    "# ax.plot(result[:, 1], label='foo 1')\n",
    "ax.plot(result[:, 1], label='foo 3')\n",
    "ax.legend()"
   ]
  },
  {
   "cell_type": "code",
   "execution_count": null,
   "metadata": {},
   "outputs": [],
   "source": []
  }
 ],
 "metadata": {
  "kernelspec": {
   "display_name": "Python 3",
   "language": "python",
   "name": "python3"
  },
  "language_info": {
   "codemirror_mode": {
    "name": "ipython",
    "version": 3
   },
   "file_extension": ".py",
   "mimetype": "text/x-python",
   "name": "python",
   "nbconvert_exporter": "python",
   "pygments_lexer": "ipython3",
   "version": "3.7.5"
  }
 },
 "nbformat": 4,
 "nbformat_minor": 4
}
