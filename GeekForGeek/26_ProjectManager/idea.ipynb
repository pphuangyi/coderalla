{
 "cells": [
  {
   "cell_type": "markdown",
   "metadata": {},
   "source": [
    "# Project Manager\n",
    "An IT company is working on a large project. \n",
    "The project is broken into $N$ modules and distributed to different teams. \n",
    "The amount of time (in months) required to complete each module is given in an array `duration`. \n",
    "Two modules can be processed simultaneously only if there is no dependency between them.\n",
    "As the project manager, compute the minimum time required to complete the project."
   ]
  },
  {
   "cell_type": "code",
   "execution_count": 1,
   "metadata": {},
   "outputs": [],
   "source": [
    "from functools import reduce"
   ]
  },
  {
   "cell_type": "code",
   "execution_count": 42,
   "metadata": {},
   "outputs": [],
   "source": [
    "class Solution:\n",
    "    def minTime(self, dependency, duration, n, m):\n",
    "        adj = {i: {'in': [], 'out': []} for i in range(n)}\n",
    "        for u, v in dependency:\n",
    "            adj[u]['out'].append(v)\n",
    "            adj[v]['in'].append(u)\n",
    "        \n",
    "        nodes = [node for node in adj if len(adj[node]['in']) == 0]\n",
    "        finish = [float('inf')] * n\n",
    "        for node in nodes:\n",
    "            finish[node] = duration[node]\n",
    "    \n",
    "        finish_max = None\n",
    "        while len(nodes) > 0:\n",
    "            downstream = []\n",
    "            for node in nodes:\n",
    "                if len(adj[node]['out']) > 0:\n",
    "                    downstream += adj[node]['out']\n",
    "                else:\n",
    "                    if finish_max is None or finish_max < finish[node]:\n",
    "                        finish_max = finish[node]\n",
    "            new_nodes = []\n",
    "            for node in downstream:\n",
    "                pre = max([finish[upstream] for upstream in adj[node]['in']])\n",
    "                if pre < float('inf'):\n",
    "                    finish[node] = pre + duration[node]\n",
    "                    new_nodes.append(node)\n",
    "                    print(f'{node}: {finish[node]}')\n",
    "            nodes = new_nodes\n",
    "            \n",
    "        if finish_max is None:\n",
    "            return -1\n",
    "        else:\n",
    "            return finish_max"
   ]
  },
  {
   "cell_type": "code",
   "execution_count": 46,
   "metadata": {},
   "outputs": [
    {
     "data": {
      "text/plain": [
       "8"
      ]
     },
     "execution_count": 46,
     "metadata": {},
     "output_type": "execute_result"
    }
   ],
   "source": [
    "n, m = 6, 6\n",
    "duration = [1, 2, 3, 1, 3, 2]\n",
    "dependency = [\n",
    "    [5, 2],\n",
    "    [5, 0],\n",
    "    [4, 0],\n",
    "    [4, 1],\n",
    "    [2, 3],\n",
    "    [3, 1] \n",
    "]\n",
    "\n",
    "\n",
    "\n",
    "# n, m = 10, 7\n",
    "# duration = [0, 2, 6, 11, 14, 9, 12, 16, 3, 9]\n",
    "# dependency = [\n",
    "#     [5, 5],\n",
    "#     [5, 8],\n",
    "#     [5, 3],\n",
    "#     [5, 4],\n",
    "#     [3, 8],\n",
    "#     [0, 6],\n",
    "#     [5, 0]\n",
    "# ]\n",
    "\n",
    "\n",
    "# n, m = 7, 6\n",
    "# duration = [3, 1, 1, 1, 1, 1, 1]\n",
    "# dependency = [\n",
    "#     [3, 1],\n",
    "#     [2, 1],\n",
    "#     [6, 4],\n",
    "#     [5, 4],\n",
    "#     [5, 0],\n",
    "#     [0, 4]\n",
    "# ]\n",
    "\n",
    "\n",
    "n, m = 6, 5\n",
    "duration = [13, 1, 18, 8, 17, 13]\n",
    "dependency = [\n",
    "    [2, 4],\n",
    "    [1, 4],\n",
    "    [5, 2],\n",
    "    [4, 0],\n",
    "    [4, 5]\n",
    "]\n",
    "\n",
    "Solution().minTime(dependency, duration, n, m)"
   ]
  },
  {
   "cell_type": "code",
   "execution_count": null,
   "metadata": {},
   "outputs": [],
   "source": []
  }
 ],
 "metadata": {
  "kernelspec": {
   "display_name": "Python 3",
   "language": "python",
   "name": "python3"
  },
  "language_info": {
   "codemirror_mode": {
    "name": "ipython",
    "version": 3
   },
   "file_extension": ".py",
   "mimetype": "text/x-python",
   "name": "python",
   "nbconvert_exporter": "python",
   "pygments_lexer": "ipython3",
   "version": "3.7.5"
  }
 },
 "nbformat": 4,
 "nbformat_minor": 4
}
