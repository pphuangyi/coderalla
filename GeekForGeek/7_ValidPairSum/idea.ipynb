{
 "cells": [
  {
   "cell_type": "code",
   "execution_count": 93,
   "metadata": {},
   "outputs": [],
   "source": [
    "import random \n",
    "from bisect import bisect_left"
   ]
  },
  {
   "cell_type": "code",
   "execution_count": 94,
   "metadata": {},
   "outputs": [],
   "source": [
    "def ValidPair(arr):\n",
    "    arr.sort()\n",
    "    \n",
    "    \n",
    "    return result"
   ]
  },
  {
   "cell_type": "code",
   "execution_count": 99,
   "metadata": {},
   "outputs": [],
   "source": [
    "def ValidPair(arr):\n",
    "\n",
    "    arr.sort()\n",
    "    \n",
    "    result = 0\n",
    "    for i in range(len(arr)):\n",
    "        if arr[i] > 0:\n",
    "            result += len(arr) - 1 - i\n",
    "        else:\n",
    "            j = bisect_left(arr, -arr[i] + 1, lo=i + 1)\n",
    "            result += len(arr) - j\n",
    "            \n",
    "    return result"
   ]
  },
  {
   "cell_type": "code",
   "execution_count": 100,
   "metadata": {},
   "outputs": [
    {
     "name": "stdout",
     "output_type": "stream",
     "text": [
      "-8\n",
      "1\n",
      "-7\n",
      "1\n",
      "-5\n",
      "3\n",
      "-4\n",
      "4\n",
      "-1\n",
      "5\n",
      "-1\n",
      "5\n",
      "0\n",
      "6\n",
      "1\n",
      "5\n",
      "3\n",
      "4\n",
      "5\n",
      "3\n",
      "6\n",
      "2\n",
      "6\n",
      "1\n",
      "9\n",
      "0\n",
      "40\n"
     ]
    }
   ],
   "source": [
    "arr = [9, 6, 6, 5, 3, 1, 0, -1, -1, -4, -5, -7, -8]\n",
    "result = ValidPair(arr)\n",
    "print(result)"
   ]
  },
  {
   "cell_type": "code",
   "execution_count": 69,
   "metadata": {},
   "outputs": [
    {
     "name": "stdout",
     "output_type": "stream",
     "text": [
      "(10, 6) (10, 5) (10, 3) (10, 2) (10, 1) (10, -1) (10, -3) (10, -6) (10, -8) (10, -9) \n",
      "(6, 5) (6, 3) (6, 2) (6, 1) (6, -1) (6, -3) \n",
      "(5, 3) (5, 2) (5, 1) (5, -1) (5, -3) \n",
      "(3, 2) (3, 1) (3, -1) \n",
      "(2, 1) (2, -1) \n",
      "\n",
      "29\n"
     ]
    }
   ],
   "source": [
    "N = random.randint(10, 20)\n",
    "arr = [random.randint(-10, 10) for _ in range(N)]\n",
    "result = ValidPair(arr)\n",
    "print(result)"
   ]
  }
 ],
 "metadata": {
  "kernelspec": {
   "display_name": "Python 3",
   "language": "python",
   "name": "python3"
  },
  "language_info": {
   "codemirror_mode": {
    "name": "ipython",
    "version": 3
   },
   "file_extension": ".py",
   "mimetype": "text/x-python",
   "name": "python",
   "nbconvert_exporter": "python",
   "pygments_lexer": "ipython3",
   "version": "3.7.5"
  }
 },
 "nbformat": 4,
 "nbformat_minor": 4
}
