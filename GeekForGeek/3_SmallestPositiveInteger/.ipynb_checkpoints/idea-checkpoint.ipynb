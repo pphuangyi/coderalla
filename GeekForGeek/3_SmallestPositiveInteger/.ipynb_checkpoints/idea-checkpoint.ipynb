{
 "cells": [
  {
   "cell_type": "markdown",
   "metadata": {},
   "source": [
    "## Smallest Positive Integer that can not be represented as sum\n",
    "\n",
    "Given an array of size $N$, find the smallest positive integer value that cannot be represented as sum of some elements from the array.\n",
    "\n",
    "Expected time complexity $O(N\\log(N))$;\n",
    "Expected space complexity $O(1)$;\n",
    "\n",
    "Show correctness with induction."
   ]
  },
  {
   "cell_type": "code",
   "execution_count": 6,
   "metadata": {},
   "outputs": [],
   "source": [
    "import random"
   ]
  },
  {
   "cell_type": "code",
   "execution_count": 25,
   "metadata": {},
   "outputs": [],
   "source": [
    "def smallestPositive(arr):\n",
    "\n",
    "    arr = sorted(arr) # the n * log(n) part\n",
    "    \n",
    "    if arr[0] > 1:\n",
    "        return 1\n",
    "    \n",
    "    biggest = 1\n",
    "    for a in arr[1:]:\n",
    "        if a > biggest + 1:\n",
    "            return biggest + 1\n",
    "        biggest = biggest + a\n",
    "        \n",
    "    return biggest + 1"
   ]
  },
  {
   "cell_type": "code",
   "execution_count": 27,
   "metadata": {},
   "outputs": [
    {
     "data": {
      "text/plain": [
       "15"
      ]
     },
     "execution_count": 27,
     "metadata": {},
     "output_type": "execute_result"
    }
   ],
   "source": [
    "arr = [random.randint(15, 30) for _ in range(5)] + [random.randint(1, 5) for _ in range(5)]\n",
    "smallestPositive(arr)"
   ]
  }
 ],
 "metadata": {
  "kernelspec": {
   "display_name": "Python 3",
   "language": "python",
   "name": "python3"
  },
  "language_info": {
   "codemirror_mode": {
    "name": "ipython",
    "version": 3
   },
   "file_extension": ".py",
   "mimetype": "text/x-python",
   "name": "python",
   "nbconvert_exporter": "python",
   "pygments_lexer": "ipython3",
   "version": "3.7.5"
  }
 },
 "nbformat": 4,
 "nbformat_minor": 4
}
