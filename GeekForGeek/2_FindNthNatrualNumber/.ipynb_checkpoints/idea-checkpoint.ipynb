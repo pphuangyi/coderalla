{
 "cells": [
  {
   "cell_type": "markdown",
   "metadata": {},
   "source": [
    "## Nth Natural Number\n",
    "Given a positive integer N. You have to find Nth natural number after removing all the numbers containing digit 9.\n",
    "\n",
    "- Expected Time Complexity: $O(\\log(N))$;\n",
    "- Expected Auxiliary Space: $O(1)$."
   ]
  },
  {
   "cell_type": "code",
   "execution_count": 2,
   "metadata": {},
   "outputs": [],
   "source": [
    "from time import time"
   ]
  },
  {
   "cell_type": "code",
   "execution_count": 3,
   "metadata": {},
   "outputs": [],
   "source": [
    "def contains(num, digit):\n",
    "    while num > 0:\n",
    "        d = num % 10\n",
    "        if d == digit:\n",
    "            return True\n",
    "        num //= 10\n",
    "    return False\n",
    "\n",
    "\n",
    "def count(N, digit):\n",
    "    \"\"\"\n",
    "    count the natural number in [1, N] without digit\n",
    "    \"\"\"\n",
    "    count = 0\n",
    "    for i in range(1, N + 1):\n",
    "        if not contains(i, digit):\n",
    "            count += 1\n",
    "    return count\n",
    "\n",
    "\n",
    "def count_(N, digit):\n",
    "    \"\"\"\n",
    "    digit must be greater than 0\n",
    "    \"\"\"\n",
    "    num, i, remove_count = N, 0, 0\n",
    "    collect = 0\n",
    "    while num > 0:\n",
    "        d = num % 10\n",
    "        \n",
    "        if d < digit:\n",
    "            remove_count += d * (10**i - 9**i)            \n",
    "        if d == digit:\n",
    "            remove_count = d * (10**i - 9**i) + (collect + 1)\n",
    "        elif d > digit:\n",
    "            remove_count += (d - 1) * (10**i - 9**i) + 10**i\n",
    "        \n",
    "        num //= 10\n",
    "        collect += d * 10**i\n",
    "        i += 1\n",
    "    \n",
    "    return N - remove_count"
   ]
  },
  {
   "cell_type": "markdown",
   "metadata": {},
   "source": [
    "## Correctness"
   ]
  },
  {
   "cell_type": "code",
   "execution_count": 4,
   "metadata": {},
   "outputs": [],
   "source": [
    "total = 1000\n",
    "digit = 9\n",
    "for N in range(1, total + 1):\n",
    "    a = count(N, digit)\n",
    "    b = count_(N, digit)\n",
    "    if a != b:\n",
    "        print(f'{N}: a={a}, b={b}')"
   ]
  },
  {
   "cell_type": "markdown",
   "metadata": {},
   "source": [
    "## Run time\n",
    "Super fast"
   ]
  },
  {
   "cell_type": "code",
   "execution_count": 5,
   "metadata": {},
   "outputs": [
    {
     "name": "stdout",
     "output_type": "stream",
     "text": [
      "0.18 seconds\n"
     ]
    }
   ],
   "source": [
    "time0 = time()\n",
    "\n",
    "for N in range(1, total + 1):\n",
    "    b = count(N, digit)\n",
    "time1 = time()\n",
    "print(f'{time1 - time0:.2f} seconds')"
   ]
  },
  {
   "cell_type": "code",
   "execution_count": 6,
   "metadata": {},
   "outputs": [
    {
     "name": "stdout",
     "output_type": "stream",
     "text": [
      "time= 0.000069 seconds\n"
     ]
    }
   ],
   "source": [
    "total = 10**12\n",
    "time0 = time()\n",
    "for _ in range(100):\n",
    "    b = count_(total, digit)\n",
    "time1 = time()\n",
    "print(f'time={(time1 - time0) / 100: .6f} seconds')"
   ]
  },
  {
   "cell_type": "markdown",
   "metadata": {},
   "source": [
    "## Solution"
   ]
  },
  {
   "cell_type": "code",
   "execution_count": 7,
   "metadata": {},
   "outputs": [],
   "source": [
    "class Solution:\n",
    "    \n",
    "    def helper(self, N):\n",
    "\n",
    "        num, i, remove_count, collect = N, 0, 0, 0\n",
    "        while num > 0:\n",
    "            d = num % 10\n",
    "            \n",
    "            if d < 9:\n",
    "                remove_count += d * (10**i - 9**i)            \n",
    "            else:\n",
    "                remove_count = d * (10**i - 9**i) + (collect + 1)\n",
    "\n",
    "            num //= 10\n",
    "            collect += d * 10**i\n",
    "            i += 1\n",
    "        \n",
    "        return N - remove_count\n",
    "    \n",
    "    def findNth(self, N):\n",
    "        k = 0\n",
    "        while 9 ** k <= N:\n",
    "            k += 1\n",
    "        \n",
    "        f, t = 1, 10 ** k\n",
    "        while f < t:\n",
    "            m = (f + t) // 2\n",
    "            if self.helper(m) < N:\n",
    "                f = m + 1\n",
    "            else:\n",
    "                t = m\n",
    "                \n",
    "        return f"
   ]
  },
  {
   "cell_type": "code",
   "execution_count": 8,
   "metadata": {},
   "outputs": [
    {
     "name": "stdout",
     "output_type": "stream",
     "text": [
      "26\n"
     ]
    }
   ],
   "source": [
    "solver = Solution()\n",
    "print(solver.findNth(24))"
   ]
  }
 ],
 "metadata": {
  "kernelspec": {
   "display_name": "Python 3",
   "language": "python",
   "name": "python3"
  },
  "language_info": {
   "codemirror_mode": {
    "name": "ipython",
    "version": 3
   },
   "file_extension": ".py",
   "mimetype": "text/x-python",
   "name": "python",
   "nbconvert_exporter": "python",
   "pygments_lexer": "ipython3",
   "version": "3.7.5"
  }
 },
 "nbformat": 4,
 "nbformat_minor": 4
}
