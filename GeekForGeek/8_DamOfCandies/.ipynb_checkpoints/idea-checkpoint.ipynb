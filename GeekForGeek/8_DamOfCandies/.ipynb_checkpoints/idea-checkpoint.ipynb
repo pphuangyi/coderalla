{
 "cells": [
  {
   "cell_type": "markdown",
   "metadata": {},
   "source": [
    "# Dam of Candies\n",
    "Geek wants to make a special space for candies on his bookshelf. Currently, it has $N$ books of different heights and unit width. Help him select $2$ books such that he can store maximum candies between them by removing all the other books from between the selected books. The task is to find out the area between $2$ books that can hold the maximum candies without changing the original position of selected books. "
   ]
  },
  {
   "cell_type": "code",
   "execution_count": 1,
   "metadata": {},
   "outputs": [],
   "source": [
    "import random"
   ]
  },
  {
   "cell_type": "markdown",
   "metadata": {},
   "source": [
    "## $O\\left(N^2\\right)$-time, $O(1)$-space solution"
   ]
  },
  {
   "cell_type": "code",
   "execution_count": 8,
   "metadata": {},
   "outputs": [],
   "source": [
    "def damOfCandies(arr):\n",
    "    candies = 0\n",
    "    interval = None\n",
    "    for i, a in enumerate(arr):\n",
    "        for j in range(i + 2, len(arr)):\n",
    "            tmp = min(a, arr[j]) * (j - i - 1)\n",
    "            if tmp > candies:\n",
    "                candies = tmp\n",
    "                interval = [i, j]\n",
    "    return candies, interval"
   ]
  },
  {
   "cell_type": "markdown",
   "metadata": {},
   "source": [
    "## $O(N)$-time $O(1)$-space solution"
   ]
  },
  {
   "cell_type": "code",
   "execution_count": 26,
   "metadata": {},
   "outputs": [],
   "source": [
    "def damOfCandiesLinear(heights):\n",
    "    N = len(heights)\n",
    "\n",
    "    l, r = 0, 0\n",
    "    i, j, candies = 0, 0, 0\n",
    "    while (N - 2) - (i + j) > 0:\n",
    "        width = (N - 2) - (i + j)\n",
    "        l, r = max(l, heights[i]), max(r, heights[N - 1 - j])\n",
    "        candies = max(candies, width * min(l, r))\n",
    "        i += int(l <= r)\n",
    "        j += int(l >= r)\n",
    "\n",
    "    return candies"
   ]
  },
  {
   "cell_type": "markdown",
   "metadata": {},
   "source": [
    "## Tests"
   ]
  },
  {
   "cell_type": "code",
   "execution_count": 27,
   "metadata": {
    "scrolled": true
   },
   "outputs": [
    {
     "name": "stdout",
     "output_type": "stream",
     "text": [
      "0:\n",
      "\theights = [6, 9, 2, 7, 5, 10, 9, 10, 7, 4, 8, 8]\n",
      "\tN-squared method = 72\n",
      "\tLinear method = 72\n",
      "1:\n",
      "\theights = [9, 9, 3, 1, 6, 2, 2, 7, 5, 8]\n",
      "\tN-squared method = 64\n",
      "\tLinear method = 64\n",
      "2:\n",
      "\theights = [9, 9, 8, 1, 9, 10, 9]\n",
      "\tN-squared method = 45\n",
      "\tLinear method = 45\n",
      "3:\n",
      "\theights = [1, 6, 7, 1, 7]\n",
      "\tN-squared method = 12\n",
      "\tLinear method = 12\n",
      "4:\n",
      "\theights = [6, 6, 9, 1, 2, 5, 7, 1, 2, 4, 6]\n",
      "\tN-squared method = 54\n",
      "\tLinear method = 54\n",
      "5:\n",
      "\theights = [10, 4, 6, 7, 6, 7, 6, 8, 3, 3, 6, 10, 9, 10, 7]\n",
      "\tN-squared method = 120\n",
      "\tLinear method = 120\n",
      "6:\n",
      "\theights = [5, 10, 6, 6, 6, 7, 8, 8, 3, 5]\n",
      "\tN-squared method = 40\n",
      "\tLinear method = 40\n",
      "7:\n",
      "\theights = [4, 2, 7, 4, 1, 2, 9, 3, 5, 6, 10, 4, 4, 7]\n",
      "\tN-squared method = 70\n",
      "\tLinear method = 70\n",
      "8:\n",
      "\theights = [4, 4, 7, 10, 3]\n",
      "\tN-squared method = 9\n",
      "\tLinear method = 9\n",
      "9:\n",
      "\theights = [6, 7, 4, 4, 8, 6]\n",
      "\tN-squared method = 24\n",
      "\tLinear method = 24\n",
      "10:\n",
      "\theights = [8, 7, 7, 5, 6, 6, 9, 10, 2]\n",
      "\tN-squared method = 48\n",
      "\tLinear method = 48\n",
      "11:\n",
      "\theights = [10, 7, 10, 7, 3, 3, 4, 6, 4, 10, 4, 3]\n",
      "\tN-squared method = 80\n",
      "\tLinear method = 80\n",
      "12:\n",
      "\theights = [7, 6, 1, 9, 3, 3, 7, 7, 8]\n",
      "\tN-squared method = 49\n",
      "\tLinear method = 49\n",
      "13:\n",
      "\theights = [2, 9, 8, 4, 7, 4, 9, 6, 4, 10, 1]\n",
      "\tN-squared method = 63\n",
      "\tLinear method = 63\n",
      "14:\n",
      "\theights = [7, 3, 7, 4, 2, 8, 1, 6, 10, 7, 5, 8, 5]\n",
      "\tN-squared method = 70\n",
      "\tLinear method = 70\n",
      "15:\n",
      "\theights = [1, 9, 3, 4, 4, 9]\n",
      "\tN-squared method = 27\n",
      "\tLinear method = 27\n",
      "16:\n",
      "\theights = [1, 7, 9, 9, 5, 4, 5, 3, 5, 4, 2, 6, 6, 6]\n",
      "\tN-squared method = 66\n",
      "\tLinear method = 66\n",
      "17:\n",
      "\theights = [9, 4, 5, 5, 10, 2, 2]\n",
      "\tN-squared method = 27\n",
      "\tLinear method = 27\n",
      "18:\n",
      "\theights = [10, 1, 4, 9, 10]\n",
      "\tN-squared method = 30\n",
      "\tLinear method = 30\n",
      "19:\n",
      "\theights = [9, 1, 5, 2, 9, 6, 3, 5, 7, 9, 3, 3]\n",
      "\tN-squared method = 72\n",
      "\tLinear method = 72\n"
     ]
    }
   ],
   "source": [
    "num_tries = 20\n",
    "\n",
    "for t in range(num_tries):\n",
    "    print(f'{t}:')\n",
    "    N = random.randint(5, 15)\n",
    "    heights = [random.randint(1, 10) for _ in range(N)]\n",
    "    print(f'\\theights = {heights}')\n",
    "\n",
    "    candies, [i, j] = damOfCandies(heights)\n",
    "    print(f'\\tN-squared method = {candies}')#, interval= [{heights[i]}, {heights[j]}]')\n",
    "\n",
    "    candiesLinear = damOfCandiesLinear(heights)\n",
    "    print(f'\\tLinear method = {candies}')"
   ]
  },
  {
   "cell_type": "code",
   "execution_count": null,
   "metadata": {},
   "outputs": [],
   "source": []
  }
 ],
 "metadata": {
  "kernelspec": {
   "display_name": "Python 3",
   "language": "python",
   "name": "python3"
  },
  "language_info": {
   "codemirror_mode": {
    "name": "ipython",
    "version": 3
   },
   "file_extension": ".py",
   "mimetype": "text/x-python",
   "name": "python",
   "nbconvert_exporter": "python",
   "pygments_lexer": "ipython3",
   "version": "3.7.5"
  }
 },
 "nbformat": 4,
 "nbformat_minor": 4
}
