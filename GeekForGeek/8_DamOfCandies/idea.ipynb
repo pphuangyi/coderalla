{
 "cells": [
  {
   "cell_type": "markdown",
   "metadata": {},
   "source": [
    "# Dam of Candies\n",
    "Geek wants to make a special space for candies on his bookshelf. Currently, it has $N$ books of different heights and unit width. Help him select $2$ books such that he can store maximum candies between them by removing all the other books from between the selected books. The task is to find out the area between $2$ books that can hold the maximum candies without changing the original position of selected books. "
   ]
  },
  {
   "cell_type": "code",
   "execution_count": 1,
   "metadata": {},
   "outputs": [],
   "source": [
    "import random"
   ]
  },
  {
   "cell_type": "markdown",
   "metadata": {},
   "source": [
    "## $O\\left(N^2\\right)$-time, $O(1)$-space solution\n",
    "An $O(N^2)$ solution is straightforward so we use that to check the correctness of a more efficient solution"
   ]
  },
  {
   "cell_type": "code",
   "execution_count": 2,
   "metadata": {},
   "outputs": [],
   "source": [
    "def damOfCandies(arr):\n",
    "    candies = 0\n",
    "    interval = None\n",
    "    for i, a in enumerate(arr):\n",
    "        for j in range(i + 2, len(arr)):\n",
    "            tmp = min(a, arr[j]) * (j - i - 1)\n",
    "            if tmp > candies:\n",
    "                candies = tmp\n",
    "                interval = [i, j]\n",
    "    return candies, interval"
   ]
  },
  {
   "cell_type": "markdown",
   "metadata": {},
   "source": [
    "## Ideas for a more efficient solution"
   ]
  },
  {
   "cell_type": "code",
   "execution_count": 3,
   "metadata": {},
   "outputs": [],
   "source": [
    "import matplotlib.pyplot as plt\n",
    "%matplotlib inline\n",
    "plt.style.use('ggplot')"
   ]
  },
  {
   "cell_type": "code",
   "execution_count": 4,
   "metadata": {},
   "outputs": [],
   "source": [
    "def plot(heights, fname):\n",
    "    x_pos = [i for i in range(len(heights))]\n",
    "    plt.figure(figsize=(4, 3))\n",
    "    plt.bar(x_pos, heights, color='green')\n",
    "    plt.xlabel('location')\n",
    "    plt.ylabel('height of books')\n",
    "    plt.xticks(range(len(heights)))\n",
    "    plt.savefig(fname, dpi=100, bbox_inches='tight')"
   ]
  },
  {
   "cell_type": "markdown",
   "metadata": {},
   "source": [
    "**Observation 1:** We have linear solution if the heights is monotonically increasing or decreasing.\n",
    "For example, in the case of increasing sequences, the maximum area can be calculated by"
   ]
  },
  {
   "cell_type": "code",
   "execution_count": 5,
   "metadata": {},
   "outputs": [
    {
     "name": "stdout",
     "output_type": "stream",
     "text": [
      "maximum area = 8\n"
     ]
    },
    {
     "data": {
      "image/png": "[encoded data removed]",
      "text/plain": [
       "<Figure size 288x216 with 1 Axes>"
      ]
     },
     "metadata": {
      "needs_background": "light"
     },
     "output_type": "display_data"
    }
   ],
   "source": [
    "heights = [1, 4, 5, 7, 8]\n",
    "plot(heights, './document/plot_increasing.png')\n",
    "\n",
    "maxArea = max([h * (len(heights) - i - 2) for i, h in enumerate(heights[:-2])])\n",
    "print(f'maximum area = {maxArea}')"
   ]
  },
  {
   "cell_type": "markdown",
   "metadata": {},
   "source": [
    "**Observation 2:** If the sequence is like a hill or plateau, a linear solution is also possible."
   ]
  },
  {
   "cell_type": "code",
   "execution_count": 6,
   "metadata": {},
   "outputs": [
    {
     "data": {
      "image/png": "[encoded data removed]",
      "text/plain": [
       "<Figure size 288x216 with 1 Axes>"
      ]
     },
     "metadata": {
      "needs_background": "light"
     },
     "output_type": "display_data"
    }
   ],
   "source": [
    "heights = [1, 2, 5, 5, 4, 3, 2]\n",
    "plot(heights, './document/plot_hillOrPlateau.png')"
   ]
  },
  {
   "cell_type": "markdown",
   "metadata": {},
   "source": [
    "Let starts with $i = 0$ and $j = N - 1$. The first area is $(N - 2) \\cdot \\min\\left(h_0, h_{n - 1}\\right)$. Then, we can increase $i$ and/or decrease $j$ to obtain a potentially bigger area. There three cases we need to consider:\n",
    "1. $h_0 < h_{n - 1}$: In this case, moving $j$ to the left only decrease the area, so we increase $i$ by $1$;\n",
    "1. $h_0 > h_{n - 1}$: In this case, moving $i$ to the right only decrease the area, so we decrease $j$ by $1$;\n",
    "1. $h_0 = h_{n - 1}$: In this case, we need increase $i$ by $1$ and decrease $j$ by $1$ to obtain a possible increase in area.\n",
    "\n",
    "The following code can find the maximum area:"
   ]
  },
  {
   "cell_type": "code",
   "execution_count": 7,
   "metadata": {},
   "outputs": [
    {
     "name": "stdout",
     "output_type": "stream",
     "text": [
      "maximum area = 8\n"
     ]
    }
   ],
   "source": [
    "i, j, maxArea = 0, len(heights) - 1, 0\n",
    "while i < j:\n",
    "    l, r = heights[i], heights[j]\n",
    "    maxArea = max(maxArea, (j - i - 1) * min(l, r))\n",
    "    i += int(l <= r)\n",
    "    j -= int(l >= r)\n",
    "print(f'maximum area = {maxArea}')"
   ]
  },
  {
   "cell_type": "markdown",
   "metadata": {},
   "source": [
    "**Observation 3:** Dippings Doesn't count. \n",
    "As an example, the maximum area of following example is formed by the two boundary books while the shorter books in between don't matter."
   ]
  },
  {
   "cell_type": "code",
   "execution_count": 8,
   "metadata": {},
   "outputs": [
    {
     "data": {
      "image/png": "[encoded data removed]",
      "text/plain": [
       "<Figure size 288x216 with 1 Axes>"
      ]
     },
     "metadata": {
      "needs_background": "light"
     },
     "output_type": "display_data"
    }
   ],
   "source": [
    "heights = [6, 2, 3, 4, 4, 3, 7]\n",
    "plot(heights, './document/plot_dipping.png')"
   ]
  },
  {
   "cell_type": "markdown",
   "metadata": {},
   "source": [
    "Observation 3 implies that we only need to consider the \"contour\" of book determined \"local maxima\". See the following example."
   ]
  },
  {
   "cell_type": "code",
   "execution_count": 9,
   "metadata": {},
   "outputs": [
    {
     "data": {
      "image/png": "[encoded data removed]",
      "text/plain": [
       "<Figure size 936x180 with 4 Axes>"
      ]
     },
     "metadata": {
      "needs_background": "light"
     },
     "output_type": "display_data"
    }
   ],
   "source": [
    "heights = [1, 3, 3, 2, 6, 1, 10, 4, 4, 8]\n",
    "# plot(heights, './document/plot_arbitray.png')\n",
    "\n",
    "N = len(heights)\n",
    "max_L, l = [], 0\n",
    "max_R, r = [], 0\n",
    "for i in range(N):\n",
    "    l = max(l, heights[i])\n",
    "    max_L.append(l)\n",
    "    r = max(r, heights[N - i - 1])\n",
    "    max_R.append(r)\n",
    "\n",
    "contour = [min(max_L[i], max_R[N - i - 1]) for i in range(N)]\n",
    "\n",
    "fig, axes = plt.subplots(1, 4, figsize=(13, 2.5))\n",
    "axes[0].bar(range(N), contour, color='green', alpha=.3)\n",
    "axes[0].bar(range(N), heights, color='green')\n",
    "axes[0].set_title('origin and contour')\n",
    "axes[1].bar(range(N), max_L, color='red', alpha=.5)\n",
    "axes[1].set_title(f'max(heights[:i])')\n",
    "axes[2].bar(range(N)[::-1], max_R, color='orange', alpha=.5)\n",
    "axes[2].set_title(f'max(heights[i:])')\n",
    "axes[3].bar(range(N), contour, color='blue')\n",
    "axes[3].set_title('contour')\n",
    "for ax in axes:\n",
    "    ax.set_xticks(range(N))\n",
    "plt.savefig('./document/plot_localMaximaAndContour.png', dpi=200, transparent=False, bbox_inches='tight')"
   ]
  },
  {
   "cell_type": "markdown",
   "metadata": {},
   "source": [
    "The contour gives the same result as the original height sequence. Since getting the contour also takes linear time, there is an $O(N)$-time solution. Note that we _don't_ have to save the contour sequence, which means we can design an $O(1)$-space solution, as follows."
   ]
  },
  {
   "cell_type": "markdown",
   "metadata": {},
   "source": [
    "## $O(N)$-time $O(1)$-space solution"
   ]
  },
  {
   "cell_type": "code",
   "execution_count": 10,
   "metadata": {},
   "outputs": [],
   "source": [
    "def damOfCandiesLinear(heights):\n",
    "    N = len(heights)\n",
    "\n",
    "    l, r = 0, 0\n",
    "    i, j, candies = 0, 0, 0\n",
    "    while (N - 2) - (i + j) > 0:\n",
    "        width = (N - 2) - (i + j)\n",
    "        l, r = max(l, heights[i]), max(r, heights[N - 1 - j])\n",
    "        candies = max(candies, width * min(l, r))\n",
    "        i += int(l <= r)\n",
    "        j += int(l >= r)\n",
    "\n",
    "    return candies"
   ]
  },
  {
   "cell_type": "markdown",
   "metadata": {},
   "source": [
    "## Tests"
   ]
  },
  {
   "cell_type": "code",
   "execution_count": 11,
   "metadata": {
    "scrolled": true
   },
   "outputs": [
    {
     "name": "stdout",
     "output_type": "stream",
     "text": [
      "0:\n",
      "\theights = [4, 5, 7, 6, 7, 9, 5, 7]\n",
      "\tN-squared method = 28\n",
      "\tLinear method = 28\n",
      "1:\n",
      "\theights = [3, 1, 3, 9, 9, 7, 1, 8]\n",
      "\tN-squared method = 24\n",
      "\tLinear method = 24\n",
      "2:\n",
      "\theights = [3, 6, 10, 6, 8, 1, 3, 8, 2]\n",
      "\tN-squared method = 32\n",
      "\tLinear method = 32\n",
      "3:\n",
      "\theights = [2, 4, 5, 7, 6, 2, 10, 9, 3, 10, 8]\n",
      "\tN-squared method = 42\n",
      "\tLinear method = 42\n",
      "4:\n",
      "\theights = [5, 2, 1, 1, 4]\n",
      "\tN-squared method = 12\n",
      "\tLinear method = 12\n",
      "5:\n",
      "\theights = [5, 5, 5, 7, 9, 4, 4, 3, 9, 7, 9]\n",
      "\tN-squared method = 45\n",
      "\tLinear method = 45\n",
      "6:\n",
      "\theights = [1, 1, 7, 10, 3, 2, 1, 3, 2, 5, 2]\n",
      "\tN-squared method = 30\n",
      "\tLinear method = 30\n",
      "7:\n",
      "\theights = [9, 3, 5, 9, 3, 9, 10, 2, 5, 6, 5, 10, 1, 10, 3]\n",
      "\tN-squared method = 108\n",
      "\tLinear method = 108\n",
      "8:\n",
      "\theights = [6, 3, 7, 4, 10, 3, 1, 4, 4, 6]\n",
      "\tN-squared method = 48\n",
      "\tLinear method = 48\n",
      "9:\n",
      "\theights = [1, 6, 5, 8, 1, 8, 10, 7, 5, 3, 7]\n",
      "\tN-squared method = 48\n",
      "\tLinear method = 48\n",
      "10:\n",
      "\theights = [8, 3, 7, 5, 5, 5, 9, 8, 4, 8, 8, 8]\n",
      "\tN-squared method = 80\n",
      "\tLinear method = 80\n",
      "11:\n",
      "\theights = [7, 2, 5, 1, 7, 6, 2, 7]\n",
      "\tN-squared method = 42\n",
      "\tLinear method = 42\n",
      "12:\n",
      "\theights = [9, 7, 10, 7, 5, 8, 4, 3, 6, 7, 8]\n",
      "\tN-squared method = 72\n",
      "\tLinear method = 72\n",
      "13:\n",
      "\theights = [10, 3, 3, 4, 6, 9, 7, 8, 8, 4]\n",
      "\tN-squared method = 56\n",
      "\tLinear method = 56\n",
      "14:\n",
      "\theights = [4, 4, 5, 9, 8, 10, 5, 8, 2]\n",
      "\tN-squared method = 24\n",
      "\tLinear method = 24\n",
      "15:\n",
      "\theights = [6, 4, 10, 6, 8, 4, 9, 9, 7, 3, 5]\n",
      "\tN-squared method = 45\n",
      "\tLinear method = 45\n",
      "16:\n",
      "\theights = [4, 4, 6, 1, 2, 1, 3]\n",
      "\tN-squared method = 15\n",
      "\tLinear method = 15\n",
      "17:\n",
      "\theights = [10, 5, 5, 10, 10, 3, 10, 2, 9, 3, 6, 1, 1]\n",
      "\tN-squared method = 63\n",
      "\tLinear method = 63\n",
      "18:\n",
      "\theights = [8, 5, 8, 8, 6, 6, 5, 6, 3, 6, 3]\n",
      "\tN-squared method = 48\n",
      "\tLinear method = 48\n",
      "19:\n",
      "\theights = [7, 4, 10, 2, 9, 2, 3, 8, 4, 9, 10, 3, 1, 2, 5]\n",
      "\tN-squared method = 70\n",
      "\tLinear method = 70\n"
     ]
    }
   ],
   "source": [
    "num_tries = 20\n",
    "\n",
    "for t in range(num_tries):\n",
    "    print(f'{t}:')\n",
    "    N = random.randint(5, 15)\n",
    "    heights = [random.randint(1, 10) for _ in range(N)]\n",
    "    print(f'\\theights = {heights}')\n",
    "\n",
    "    candies, [i, j] = damOfCandies(heights)\n",
    "    print(f'\\tN-squared method = {candies}')\n",
    "\n",
    "    candiesLinear = damOfCandiesLinear(heights)\n",
    "    print(f'\\tLinear method = {candies}')"
   ]
  }
 ],
 "metadata": {
  "kernelspec": {
   "display_name": "Python 3",
   "language": "python",
   "name": "python3"
  },
  "language_info": {
   "codemirror_mode": {
    "name": "ipython",
    "version": 3
   },
   "file_extension": ".py",
   "mimetype": "text/x-python",
   "name": "python",
   "nbconvert_exporter": "python",
   "pygments_lexer": "ipython3",
   "version": "3.7.5"
  }
 },
 "nbformat": 4,
 "nbformat_minor": 4
}
