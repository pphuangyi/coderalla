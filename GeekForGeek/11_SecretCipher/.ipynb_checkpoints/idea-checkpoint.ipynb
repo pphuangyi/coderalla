{
 "cells": [
  {
   "cell_type": "markdown",
   "metadata": {},
   "source": [
    "# Secret Cipher\n",
    "Geek wants to send an encrypted message in the form of string $S$ to his friend Keeg along with instructions on how to decipher the message. To decipher the message, his friend needs to iterate over the message string from left to right, if he finds a '\\*', he must remove it and add all the letters read so far to the string. He must keep on doing this till he gets rid of all the '\\*'.\n",
    "Can you help Geek encrypt his message string $S$? \n",
    "\n",
    "Note: If the string can be encrypted in multiple ways, find the smallest encrypted string. "
   ]
  },
  {
   "cell_type": "code",
   "execution_count": 12,
   "metadata": {},
   "outputs": [],
   "source": [
    "def is_repeated(S, k):\n",
    "    if 2 * k > len(S):\n",
    "        return False\n",
    "    \n",
    "    i = 0\n",
    "    while i < k and S[i] == S[k + i]:\n",
    "        i += 1\n",
    "    return i == k\n",
    "\n",
    "def compress(S):\n",
    "    k, K = 1, None\n",
    "    while 2 * k < len(S):\n",
    "        if is_repeated(S, k):\n",
    "            K = k\n",
    "        k += 1\n",
    "\n",
    "    if K is not None:\n",
    "        return compress(S[:K]) + \"*\" + S[2 * K:]\n",
    "    else:\n",
    "        return S"
   ]
  },
  {
   "cell_type": "code",
   "execution_count": 13,
   "metadata": {},
   "outputs": [],
   "source": [
    "S = \"ababcababcd\"\n",
    "S = \"zzzzzzz\""
   ]
  },
  {
   "cell_type": "code",
   "execution_count": 14,
   "metadata": {},
   "outputs": [
    {
     "name": "stdout",
     "output_type": "stream",
     "text": [
      "0\n",
      "0\n",
      "1\n",
      "0\n",
      "1\n",
      "2\n",
      "0\n"
     ]
    },
    {
     "data": {
      "text/plain": [
       "'z*z*z'"
      ]
     },
     "execution_count": 14,
     "metadata": {},
     "output_type": "execute_result"
    }
   ],
   "source": [
    "compress(S)"
   ]
  },
  {
   "cell_type": "code",
   "execution_count": null,
   "metadata": {},
   "outputs": [],
   "source": []
  }
 ],
 "metadata": {
  "kernelspec": {
   "display_name": "Python 3",
   "language": "python",
   "name": "python3"
  },
  "language_info": {
   "codemirror_mode": {
    "name": "ipython",
    "version": 3
   },
   "file_extension": ".py",
   "mimetype": "text/x-python",
   "name": "python",
   "nbconvert_exporter": "python",
   "pygments_lexer": "ipython3",
   "version": "3.7.5"
  }
 },
 "nbformat": 4,
 "nbformat_minor": 4
}
