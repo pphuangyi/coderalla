{
 "cells": [
  {
   "cell_type": "markdown",
   "metadata": {},
   "source": [
    "# Secret Cipher\n",
    "Geek wants to send an encrypted message in the form of string $S$ to his friend Keeg along with instructions on how to decipher the message. To decipher the message, his friend needs to iterate over the message string from left to right, if he finds a '\\*', he must remove it and add all the letters read so far to the string. He must keep on doing this till he gets rid of all the '\\*'.\n",
    "Can you help Geek encrypt his message string $S$? \n",
    "\n",
    "Note: If the string can be encrypted in multiple ways, find the smallest encrypted string. "
   ]
  },
  {
   "cell_type": "code",
   "execution_count": 27,
   "metadata": {},
   "outputs": [],
   "source": [
    "def compress(S):\n",
    "    k, K = 1, None\n",
    "    while 2 * k <= len(S):\n",
    "        if S[:k] == S[k: 2 * k]:\n",
    "            K = k\n",
    "        k += 1\n",
    "\n",
    "    if K is None:\n",
    "        return S\n",
    "    else:\n",
    "        return compress(S[:K]) + \"*\" + S[2 * K:]"
   ]
  },
  {
   "cell_type": "code",
   "execution_count": 63,
   "metadata": {},
   "outputs": [],
   "source": [
    "def compress1(S):\n",
    "    k, K = len(S) // 2, []\n",
    "    \n",
    "    while k > 0:\n",
    "        if S[:k] == S[k: 2 * k]:\n",
    "            K.append(k)\n",
    "            k //= 2\n",
    "        else:\n",
    "            k -= 1\n",
    "            \n",
    "\n",
    "    K = K[::-1] + [len(S)]    \n",
    "    k, T = K[0], S[:K[0]]\n",
    "    for l in K[1:]:\n",
    "        T += '*' + S[2 * k: l]\n",
    "        k = l\n",
    "    return T"
   ]
  },
  {
   "cell_type": "code",
   "execution_count": 68,
   "metadata": {},
   "outputs": [],
   "source": [
    "S = \"ababcababcd\"\n",
    "# S = \"zzzzzzz\"\n",
    "S = \"aghaaghaghaaghaghaaghaghaagaghaaghaghaaghaghaaghaghaag\"\n",
    "T = \"aghaagh*aghaaghaghaag*\"\n",
    "\n",
    "S = 'b' * 10000"
   ]
  },
  {
   "cell_type": "code",
   "execution_count": 69,
   "metadata": {},
   "outputs": [
    {
     "data": {
      "text/plain": [
       "'b***b*b*b****b****'"
      ]
     },
     "execution_count": 69,
     "metadata": {},
     "output_type": "execute_result"
    }
   ],
   "source": [
    "compress1(S)"
   ]
  },
  {
   "cell_type": "code",
   "execution_count": null,
   "metadata": {},
   "outputs": [],
   "source": []
  }
 ],
 "metadata": {
  "kernelspec": {
   "display_name": "Python 3",
   "language": "python",
   "name": "python3"
  },
  "language_info": {
   "codemirror_mode": {
    "name": "ipython",
    "version": 3
   },
   "file_extension": ".py",
   "mimetype": "text/x-python",
   "name": "python",
   "nbconvert_exporter": "python",
   "pygments_lexer": "ipython3",
   "version": "3.7.5"
  }
 },
 "nbformat": 4,
 "nbformat_minor": 4
}
