{
 "cells": [
  {
   "cell_type": "markdown",
   "metadata": {},
   "source": [
    "# Bit Difference\n",
    "Given an integer array of size $N$. You have to find sum of bit differences in all pairs that can be formed from array elements. Bit difference of a pair $(x, y)$ is count of different bits at same positions in binary representations of $x$ and $y$.\n",
    "For example, bit difference for $2$ and $7$ is $2$ since the binary representation of $2$ is $010$ and $7$ is $111$."
   ]
  },
  {
   "cell_type": "code",
   "execution_count": null,
   "metadata": {},
   "outputs": [],
   "source": [
    "class Solution:\n",
    "\n",
    "    def update(self, memo, num):\n",
    "        i = 1\n",
    "        while num > 0:    \n",
    "            b = num % 2\n",
    "            if i > len(memo):\n",
    "                memo.append(b)\n",
    "            else:\n",
    "                memo[i - 1] += b\n",
    "            num, i = num // 2, i + 1\n",
    "        \n",
    "\n",
    "    def sumBitDiff(self, arr, n):\n",
    "        memo = []\n",
    "        for a in arr:\n",
    "            self.update(memo, a)\n",
    "        return  2 * sum([(n - m) * m for m in memo])"
   ]
  }
 ],
 "metadata": {
  "kernelspec": {
   "display_name": "Python 3",
   "language": "python",
   "name": "python3"
  },
  "language_info": {
   "codemirror_mode": {
    "name": "ipython",
    "version": 3
   },
   "file_extension": ".py",
   "mimetype": "text/x-python",
   "name": "python",
   "nbconvert_exporter": "python",
   "pygments_lexer": "ipython3",
   "version": "3.7.5"
  }
 },
 "nbformat": 4,
 "nbformat_minor": 4
}
