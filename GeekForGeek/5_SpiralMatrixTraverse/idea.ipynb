{
 "cells": [
  {
   "cell_type": "code",
   "execution_count": 1,
   "metadata": {},
   "outputs": [],
   "source": [
    "import random"
   ]
  },
  {
   "cell_type": "code",
   "execution_count": 2,
   "metadata": {},
   "outputs": [],
   "source": [
    "def getNumDigits(a):\n",
    "    numDigits = 0\n",
    "    while a > 0:\n",
    "        a //= 10\n",
    "        numDigits += 1\n",
    "    return numDigits"
   ]
  },
  {
   "cell_type": "code",
   "execution_count": 3,
   "metadata": {},
   "outputs": [],
   "source": [
    "def get_problem():\n",
    "\n",
    "    num_rows = random.randint(1, 7)\n",
    "    num_cols = random.randint(1, 7)\n",
    "    k = random.randint(1, num_rows * num_cols)\n",
    "\n",
    "    numDigits = getNumDigits(num_rows * num_cols)\n",
    "\n",
    "    matrix = [[i * num_cols + j + 1 for j in range(num_cols)] for i in range(num_rows)]\n",
    "    for row in matrix:\n",
    "        print(' '.join(map(lambda x: ' ' * (numDigits - getNumDigits(x)) + str(x), row)))\n",
    "    \n",
    "    print(f'\\nGet {k}-th of {num_rows} * {num_cols} matrix')\n",
    "    \n",
    "    return matrix, k"
   ]
  },
  {
   "cell_type": "code",
   "execution_count": 25,
   "metadata": {},
   "outputs": [],
   "source": [
    "def get_k(matrix, k):\n",
    "    num_rows, num_cols = len(matrix), len(matrix[0])\n",
    "    \n",
    "    \n",
    "    r, c = num_rows, num_cols\n",
    "    length, peel_layers = 0, 0\n",
    "    while True:\n",
    "        next_length = 2 * (c - 1 + r - 1)\n",
    "        if length + next_length >= k:\n",
    "            break\n",
    "        else:\n",
    "            r, c = r - 2, c - 2\n",
    "            length += next_length\n",
    "            peel_layers += 1\n",
    "\n",
    "    k -= length\n",
    "\n",
    "    print(f'{peel_layers} layers to peel')\n",
    "    print(f'remaining length = {k}')\n",
    "    print(f'r = {r}, c = {c}')\n",
    "\n",
    "    if k <= c:\n",
    "        print('case 1')\n",
    "        return matrix[peel_layers][peel_layers + k - 1]\n",
    "    elif k - c <= r - 1:\n",
    "        print('case 2')\n",
    "        return matrix[peel_layers + k - c][num_cols - peel_layers - 1]\n",
    "    elif k - c - (r - 1) <= c - 1:\n",
    "        print('case 3')\n",
    "        return matrix[num_rows - peel_layers - 1][num_cols - peel_layers - 1 - (k - c - (r - 1))]\n",
    "    else:\n",
    "        print('case 4')\n",
    "        return matrix[num_rows - peel_layers - 1 - (k - c - (r - 1) - (c - 1))][peel_layers]"
   ]
  },
  {
   "cell_type": "code",
   "execution_count": 43,
   "metadata": {},
   "outputs": [
    {
     "name": "stdout",
     "output_type": "stream",
     "text": [
      "================== Problem =================START\n",
      " 1  2  3  4  5\n",
      " 6  7  8  9 10\n",
      "11 12 13 14 15\n",
      "16 17 18 19 20\n",
      "21 22 23 24 25\n",
      "26 27 28 29 30\n",
      "31 32 33 34 35\n",
      "\n",
      "Get 25-th of 7 * 5 matrix\n",
      "================== Problem =================END\n",
      "\n",
      "1 layers to peel\n",
      "remaining length = 5\n",
      "r = 5, c = 3\n",
      "case 2\n",
      "19\n"
     ]
    }
   ],
   "source": [
    "print('================== Problem =================START')\n",
    "matrix, k = get_problem()\n",
    "print('================== Problem =================END\\n')\n",
    "\n",
    "result = get_k(matrix, k)\n",
    "print(result)"
   ]
  },
  {
   "cell_type": "code",
   "execution_count": null,
   "metadata": {},
   "outputs": [],
   "source": []
  }
 ],
 "metadata": {
  "kernelspec": {
   "display_name": "Python 3",
   "language": "python",
   "name": "python3"
  },
  "language_info": {
   "codemirror_mode": {
    "name": "ipython",
    "version": 3
   },
   "file_extension": ".py",
   "mimetype": "text/x-python",
   "name": "python",
   "nbconvert_exporter": "python",
   "pygments_lexer": "ipython3",
   "version": "3.7.5"
  }
 },
 "nbformat": 4,
 "nbformat_minor": 4
}
