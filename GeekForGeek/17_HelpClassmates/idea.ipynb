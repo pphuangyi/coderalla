{
 "cells": [
  {
   "cell_type": "code",
   "execution_count": 8,
   "metadata": {},
   "outputs": [],
   "source": [
    "import random\n",
    "from bisect import bisect_right"
   ]
  },
  {
   "cell_type": "code",
   "execution_count": 7,
   "metadata": {},
   "outputs": [
    {
     "name": "stdout",
     "output_type": "stream",
     "text": [
      "[13, 18, 9, 13, 5, 10, 17, 19, 9, 4]\n"
     ]
    }
   ],
   "source": [
    "arr = [random.randint(1, 20) for _ in range(10)]\n",
    "print(arr)"
   ]
  },
  {
   "cell_type": "code",
   "execution_count": 5,
   "metadata": {},
   "outputs": [],
   "source": [
    "arr = [(1, 1), (5, 2), (9, 3)]\n",
    "bl = bisect_left(arr, (3, 4))"
   ]
  },
  {
   "cell_type": "code",
   "execution_count": 11,
   "metadata": {},
   "outputs": [],
   "source": [
    "result = {i: -1 for i in range(len(arr))}\n",
    "memo = []\n",
    "for i, a in enumerate(arr):\n",
    "    if len(memo) == 0 or a > memo[-1][0]:\n",
    "        memo.append((a, i))\n",
    "    else:\n",
    "        bl = bisect_right(memo, (a, i))\n",
    "        for j in range(bl, len(memo)):\n",
    "            result[memo[j][1]] = a\n",
    "        memo = memo[: bl] + [(a, i)]\n",
    "\n",
    "result = [result[i] for i in range(len(arr))]"
   ]
  },
  {
   "cell_type": "code",
   "execution_count": 12,
   "metadata": {},
   "outputs": [
    {
     "data": {
      "text/plain": [
       "[9, 9, 5, 5, 4, 9, 9, 9, 4, -1]"
      ]
     },
     "execution_count": 12,
     "metadata": {},
     "output_type": "execute_result"
    }
   ],
   "source": [
    "result"
   ]
  },
  {
   "cell_type": "code",
   "execution_count": null,
   "metadata": {},
   "outputs": [],
   "source": []
  }
 ],
 "metadata": {
  "kernelspec": {
   "display_name": "Python 3",
   "language": "python",
   "name": "python3"
  },
  "language_info": {
   "codemirror_mode": {
    "name": "ipython",
    "version": 3
   },
   "file_extension": ".py",
   "mimetype": "text/x-python",
   "name": "python",
   "nbconvert_exporter": "python",
   "pygments_lexer": "ipython3",
   "version": "3.7.5"
  }
 },
 "nbformat": 4,
 "nbformat_minor": 4
}
