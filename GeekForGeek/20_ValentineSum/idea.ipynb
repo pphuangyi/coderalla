{
 "cells": [
  {
   "cell_type": "code",
   "execution_count": 80,
   "metadata": {},
   "outputs": [],
   "source": [
    "import sys\n",
    "sys.path.append('../')\n",
    "import utils"
   ]
  },
  {
   "cell_type": "code",
   "execution_count": 120,
   "metadata": {},
   "outputs": [],
   "source": [
    "class Node:\n",
    "    def __init__(self, val):\n",
    "        self.right = None\n",
    "        self.data = val\n",
    "        self.left = None\n",
    "\n",
    "\n",
    "def getTree(treeArr):\n",
    "    root = Node(treeArr[0])\n",
    "    nodes = [root]\n",
    "    i = 1\n",
    "    while len(nodes) > 0:\n",
    "        new_nodes = []\n",
    "        for node in nodes:\n",
    "            if i < len(treeArr):\n",
    "                if treeArr[i] != 'N':\n",
    "                    node.left = Node(treeArr[i])\n",
    "                    new_nodes.append(node.left)\n",
    "                i += 1\n",
    "            else:\n",
    "                break\n",
    "            if i < len(treeArr):\n",
    "                if treeArr[i] != 'N':\n",
    "                    node.right = Node(treeArr[i])\n",
    "                    new_nodes.append(node.right)\n",
    "                i += 1\n",
    "            else:\n",
    "                break\n",
    "        nodes = new_nodes\n",
    "    return root"
   ]
  },
  {
   "cell_type": "markdown",
   "metadata": {},
   "source": [
    "## Baseline solution"
   ]
  },
  {
   "cell_type": "code",
   "execution_count": 131,
   "metadata": {},
   "outputs": [],
   "source": [
    "def getAdj(root):\n",
    "    ancestors = [root]\n",
    "    adj = {root.data: []}\n",
    "    while len(ancestors) > 0:\n",
    "        descendants = []\n",
    "        for ancestor in ancestors:\n",
    "            d, l, r = ancestor.data, ancestor.left, ancestor.right\n",
    "            if l is not None:\n",
    "                descendants.append(l)\n",
    "                adj[d].append(l.data)\n",
    "                adj[l.data] = [d]\n",
    "            if r is not None:\n",
    "                descendants.append(r)\n",
    "                adj[d].append(r.data)\n",
    "                adj[r.data] = [d]\n",
    "        ancestors = descendants\n",
    "    return adj\n",
    "\n",
    "\n",
    "def sumAtDistK(adj, target, k):\n",
    "    root = target\n",
    "    visited, nodes = set([root]), [root]\n",
    "    dist, total = 0, target\n",
    "    while dist < k and len(nodes) > 0:\n",
    "        new_nodes = []\n",
    "        for node in nodes:\n",
    "            for neighbor in adj[node]:\n",
    "                if neighbor not in visited:\n",
    "                    visited.add(neighbor)\n",
    "                    new_nodes.append(neighbor)\n",
    "                    total += neighbor\n",
    "        nodes = new_nodes\n",
    "        dist += 1\n",
    "    return total"
   ]
  },
  {
   "cell_type": "markdown",
   "metadata": {},
   "source": [
    "## A more efficient solution"
   ]
  },
  {
   "cell_type": "code",
   "execution_count": 122,
   "metadata": {},
   "outputs": [],
   "source": [
    "def find(root, target, ancestorDict):\n",
    "    if root is None:\n",
    "        return None\n",
    "    if root.data == target:\n",
    "        return root\n",
    "\n",
    "    node = find(root.left, target, ancestorDict) \n",
    "    if node:\n",
    "        ancestorDict[root.left] = root\n",
    "        return node\n",
    "    node = find(root.right, target, ancestorDict) \n",
    "    if node:\n",
    "        ancestorDict[root.right] = root\n",
    "        return node\n",
    "\n",
    "    return None\n",
    "\n",
    "\n",
    "def sumDistK(root, k):\n",
    "    if k <= -1 or root is None:\n",
    "        return 0\n",
    "    else:\n",
    "        return sumDistK(root.left, k - 1) + sumDistK(root.right, k - 1) + root.data\n",
    "    \n",
    "\n",
    "def sumAtDistK_2(root, target, k):\n",
    "    if k < 0:\n",
    "        return 0\n",
    "    ancestorDict = {}\n",
    "    cur = find(root, target, ancestorDict)\n",
    "\n",
    "    total = sumDistK(cur, k)\n",
    "    while cur in ancestorDict and k >= 1:\n",
    "        anc = ancestorDict[cur]\n",
    "        if anc.left == cur:\n",
    "            print(f'root = {anc.right.data}, search distance = {k - 2}')\n",
    "            total += anc.data + sumDistK(anc.right, k - 2)\n",
    "        else:\n",
    "            print(f'root = {anc.left.data}, search distance = {k - 2}')\n",
    "            total += anc.data + sumDistK(anc.left, k - 2)\n",
    "        cur = anc\n",
    "        k = k - 1\n",
    "    return total"
   ]
  },
  {
   "cell_type": "markdown",
   "metadata": {},
   "source": [
    "## Tests"
   ]
  },
  {
   "cell_type": "code",
   "execution_count": 123,
   "metadata": {},
   "outputs": [],
   "source": [
    "treeArr = [39, 12, 56, 64, 73, 61, 45, 'N', 63, 3, 54, 81]\n",
    "treeArr = [98, 10, 27, 80, 2, 89, 65, 'N', 58, 81, 86, 90, 88, 26]\n",
    "root = getTree(treeArr)"
   ]
  },
  {
   "cell_type": "code",
   "execution_count": 130,
   "metadata": {},
   "outputs": [
    {
     "name": "stdout",
     "output_type": "stream",
     "text": [
      "Correct solution:\n",
      "total = 493\n",
      "===============================\n",
      "\n",
      "root = 88, search distance = 2\n",
      "root = 65, search distance = 1\n",
      "root = 10, search distance = 0\n",
      "\n",
      "total = 493\n"
     ]
    }
   ],
   "source": [
    "target, k = 90, 4\n",
    "adj = getAdj(root)\n",
    "total_1 = sumAtDistK(adj, target, k)\n",
    "print(f'Correct solution:\\ntotal = {total_1}\\n===============================\\n')\n",
    "\n",
    "total_2 = sumAtDistK_2(root, target, k)\n",
    "print(f'\\ntotal = {total_2}')"
   ]
  }
 ],
 "metadata": {
  "kernelspec": {
   "display_name": "Python 3",
   "language": "python",
   "name": "python3"
  },
  "language_info": {
   "codemirror_mode": {
    "name": "ipython",
    "version": 3
   },
   "file_extension": ".py",
   "mimetype": "text/x-python",
   "name": "python",
   "nbconvert_exporter": "python",
   "pygments_lexer": "ipython3",
   "version": "3.7.5"
  }
 },
 "nbformat": 4,
 "nbformat_minor": 4
}
