{
 "cells": [
  {
   "cell_type": "markdown",
   "metadata": {},
   "source": [
    "# Repeated String Match\n",
    "Given two strings $A$ and $B$, find the minimum number of times $A$ has to be repeated such that $B$ becomes a substring of the repeated $A$. If $B$ cannot be a substring of $A$ no matter how many times it is repeated, return $-1$."
   ]
  },
  {
   "cell_type": "markdown",
   "metadata": {},
   "source": [
    "## Solution\n",
    "\n",
    "**Terminology** substring v.s. subsequence: substring has to be contiguous while subsequence just has to be in order.\n",
    "> _example:_ \"kle little st\" is a substring of \"Twinkle twinkle little star\" while \"k lelit est\" is a subsequence, not a substring.\n",
    "\n",
    "We use the built-in mechanism of python to test whether string $S$ is a substring of string $T$. We denote $T$ repeated $n$ times as $nT$.\n",
    "\n",
    "**Observation:** A string $A$ repeated $k + 1$ times contains all possible substring pattern of length at most $k|A| + 1$. \n",
    "\n",
    "This implies that, in case $(k-1)|A| + 2 \\leq |B| \\leq k|A| + 1$, we only need to test whether $B$ is a substring of $(k + 1)A$. If $(k + 1)A$ doesn't contain $B$, no more repetitions would do. However, if it does, we also need test whether $kA$ already contains $B$ as a substring.\n",
    "\n",
    "The code is as follows."
   ]
  },
  {
   "cell_type": "code",
   "execution_count": 28,
   "metadata": {},
   "outputs": [],
   "source": [
    "# Solution with built-in substring test\n",
    "def repeatedStringMatch(A, B):\n",
    "    k = (len(B) - 1) // len(A) + int((len(B) - 1) % len(A) != 0)\n",
    "    if B in A * (k + 1):\n",
    "        if B in A * k:\n",
    "            return k\n",
    "        else:\n",
    "            return k + 1\n",
    "    else:\n",
    "        return -1"
   ]
  },
  {
   "cell_type": "code",
   "execution_count": 29,
   "metadata": {},
   "outputs": [
    {
     "data": {
      "text/plain": [
       "3"
      ]
     },
     "execution_count": 29,
     "metadata": {},
     "output_type": "execute_result"
    }
   ],
   "source": [
    "# Test\n",
    "A, B = \"abcd\", \"abcdabcdab\"\n",
    "repeatedStringMatch(A, B)"
   ]
  },
  {
   "cell_type": "markdown",
   "metadata": {},
   "source": [
    "## Note:\n",
    "The problem has the following expectations:\n",
    " - Expected time complexity: $O(|A||B|)$.\n",
    " - Expected auxiliary space: $O(1)$.\n",
    " \n",
    "However, the solution in cell \"Solution with built-in substring test\" runs in $O\\left(\\max(|A|, |B|)\\right)$ time but also use linear auxiliary space since it uses python build-in substring test (line 4). But if I can write my own substring test, I will use constant auxiliary space without increase time complexity. "
   ]
  },
  {
   "cell_type": "code",
   "execution_count": 34,
   "metadata": {},
   "outputs": [],
   "source": [
    "# Constant space solution with custom substring matching function\n",
    "def is_substring(A, B, k):\n",
    "    \"\"\"\n",
    "    Test whether A repeated k times contains B as a substring\n",
    "    In case B is a substring of kA, return the shortest length \n",
    "    such that kA[:length] contains B.\n",
    "    The length can be used to determine whether (k - 1)A suffices.\n",
    "    \"\"\"\n",
    "    i, j = 0, 0\n",
    "    while i < k * len(A) and j < len(B):\n",
    "        start = i\n",
    "        while i < k * len(A) and j < len(B) and A[i % len(A)] == B[j]:\n",
    "            i += 1\n",
    "            j += 1\n",
    "        if j == len(B):\n",
    "            return i\n",
    "        else:\n",
    "            j = 0\n",
    "            i = start + 1\n",
    "    return -1\n",
    "\n",
    "\n",
    "def repeatedStringMatch(A, B):\n",
    "    k = (len(B) - 1) // len(A) + int((len(B) - 1) % len(A) != 0)\n",
    "    \n",
    "    length = is_substring(A, B, k + 1)\n",
    "    if length > 0:\n",
    "        return k + int(length > k * len(A))\n",
    "    else:\n",
    "        return -1"
   ]
  },
  {
   "cell_type": "code",
   "execution_count": 33,
   "metadata": {},
   "outputs": [
    {
     "data": {
      "text/plain": [
       "-1"
      ]
     },
     "execution_count": 33,
     "metadata": {},
     "output_type": "execute_result"
    }
   ],
   "source": [
    "A = 'abcd'\n",
    "B = 'cdabcdabqcda'\n",
    "repeatedStringMatch(A, B)"
   ]
  }
 ],
 "metadata": {
  "kernelspec": {
   "display_name": "Python 3",
   "language": "python",
   "name": "python3"
  },
  "language_info": {
   "codemirror_mode": {
    "name": "ipython",
    "version": 3
   },
   "file_extension": ".py",
   "mimetype": "text/x-python",
   "name": "python",
   "nbconvert_exporter": "python",
   "pygments_lexer": "ipython3",
   "version": "3.7.5"
  }
 },
 "nbformat": 4,
 "nbformat_minor": 4
}
