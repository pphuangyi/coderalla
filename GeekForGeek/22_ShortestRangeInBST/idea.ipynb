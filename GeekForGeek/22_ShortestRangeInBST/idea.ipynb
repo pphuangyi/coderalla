{
 "cells": [
  {
   "cell_type": "code",
   "execution_count": 87,
   "metadata": {},
   "outputs": [],
   "source": [
    "import random\n",
    "import bisect\n",
    "from functools import reduce"
   ]
  },
  {
   "cell_type": "code",
   "execution_count": 88,
   "metadata": {},
   "outputs": [],
   "source": [
    "class Node:\n",
    "    def __init__(self, val):\n",
    "        self.right = None\n",
    "        self.data = val\n",
    "        self.left = None\n",
    "        \n",
    "class BST:\n",
    "    def __init__(self, arr):\n",
    "        \"\"\"\n",
    "        arr must have all distinct values\n",
    "        \"\"\"\n",
    "        self.root = None\n",
    "        for a in arr:\n",
    "            self.root = self.insert(self.root, a)\n",
    "        \n",
    "    def insert(self, root, val):\n",
    "        if root is None:\n",
    "            root = Node(val)\n",
    "            return root\n",
    "        \n",
    "        if val < root.data:\n",
    "            root.left = self.insert(root.left, val)\n",
    "        else:\n",
    "            root.right = self.insert(root.right, val)\n",
    "        return root"
   ]
  },
  {
   "cell_type": "code",
   "execution_count": 89,
   "metadata": {},
   "outputs": [],
   "source": [
    "# Random\n",
    "N, C = 20, 10\n",
    "arr = list(range(1, N + 1))\n",
    "random.shuffle(arr)\n",
    "arr = arr[:10]\n",
    "root = BST(arr).root\n",
    "\n",
    "# Fixed\n",
    "arr = [8, 3, 10, 2, 6, 14, 4, 7, 12, 11, 13]\n",
    "root = BST(arr).root"
   ]
  },
  {
   "cell_type": "code",
   "execution_count": 137,
   "metadata": {},
   "outputs": [],
   "source": [
    "class Solution:\n",
    "    def inOrder_(self, root, inorder, levels, l, stat):\n",
    "        if root is None:\n",
    "            return\n",
    "\n",
    "        self.inOrder_(root.left, inorder, levels, l + 1, stat)\n",
    "        # update stat\n",
    "        if l == 0:\n",
    "            stat[0] = len(inorder)\n",
    "        stat[1] = max(stat[1], l + 1)\n",
    "        # update inorder and levels\n",
    "        inorder.append(root.data)\n",
    "        levels.append(l)\n",
    "        self.inOrder_(root.right, inorder, levels, l + 1, stat)\n",
    "\n",
    "\n",
    "    def inOrder(self, root):\n",
    "        inorder, levels = [], []\n",
    "        stat = [0, 0] # stat[0] = index of root, stat[1] = depth of the tree\n",
    "        self.inOrder_(root, inorder, levels, 0, stat)\n",
    "        return inorder, levels, stat\n",
    "    \n",
    "    def shortestRange(self, root):\n",
    "    \n",
    "        inorder, levels, [rootIdx, depth] = self.inOrder(root)\n",
    "\n",
    "        best_interval = [None, None, float('inf')]\n",
    "\n",
    "        i, j = 0, rootIdx\n",
    "        \n",
    "        record = {l: 0 for l in range(depth)}\n",
    "        for l in levels[i: j + 1]:\n",
    "            record[l] += 1\n",
    "        missing = depth - sum([record[l] > 0 for l in record])\n",
    "        \n",
    "        \n",
    "        while i <= rootIdx and j < len(inorder):\n",
    "            while j < len(inorder):\n",
    "                if missing == 0:\n",
    "                    interval = [i, j, inorder[j] - inorder[i]]\n",
    "                    if best_interval[2] > interval[2]:\n",
    "                        best_interval = interval\n",
    "                    break\n",
    "                else:\n",
    "                    j += 1\n",
    "                    if j < len(inorder):\n",
    "                        if record[levels[j]] == 0:\n",
    "                            missing -= 1\n",
    "                        record[levels[j]] += 1\n",
    "                        \n",
    "            if record[levels[i]] == 1:\n",
    "                missing += 1\n",
    "            record[levels[i]] -= 1\n",
    "            \n",
    "            i += 1\n",
    "\n",
    "        l, h = best_interval[:2]\n",
    "        return inorder[l], inorder[h]"
   ]
  },
  {
   "cell_type": "code",
   "execution_count": 138,
   "metadata": {},
   "outputs": [
    {
     "data": {
      "text/plain": [
       "(6, 11)"
      ]
     },
     "execution_count": 138,
     "metadata": {},
     "output_type": "execute_result"
    }
   ],
   "source": [
    "Solution().shortestRange(root)"
   ]
  },
  {
   "cell_type": "code",
   "execution_count": 111,
   "metadata": {},
   "outputs": [
    {
     "name": "stdout",
     "output_type": "stream",
     "text": [
      "[3, 10]\n",
      "[[3, 8], [8, 10]]\n",
      "[2, 6, 14]\n",
      "[[3, 8], [6, 10], [8, 14]]\n",
      "[4, 7, 12]\n",
      "[[3, 8], [6, 10], [8, 14]]\n",
      "[11, 13]\n",
      "[[3, 11], [6, 11], [8, 14]]\n",
      "[6, 11]\n"
     ]
    }
   ],
   "source": [
    "def updateOne(interval, arr):\n",
    "    l, h = interval\n",
    "    li = bisect.bisect_left(arr, l)\n",
    "    hi = bisect.bisect_left(arr, h, lo=li)\n",
    "    if hi > li:\n",
    "        return [interval]\n",
    "    elif li == 0:\n",
    "        return [[l, arr[0]]]\n",
    "    elif li == len(arr):\n",
    "        return [[arr[-1], h]]\n",
    "    else:\n",
    "        return [[arr[li - 1], h], [l, arr[li]]]\n",
    "\n",
    "    \n",
    "def update(intervals, arr):\n",
    "    new_intervals = []\n",
    "    for interval in intervals:\n",
    "        new_intervals += updateOne(interval, arr)\n",
    "    \n",
    "    return new_intervals\n",
    "\n",
    "arr = [8, 3, 10, 2, 6, 14, 4, 7, 12, 11, 13]\n",
    "root = BST(arr).root\n",
    "\n",
    "nodes = [root]\n",
    "arrs = [[root.data]]\n",
    "intervals = [[root.data, root.data]]\n",
    "while len(nodes) > 0:\n",
    "    arr, new_nodes = [], []\n",
    "    for node in nodes:\n",
    "        l, r = node.left, node.right\n",
    "        if l is not None:\n",
    "            arr.append(l.data)\n",
    "            new_nodes.append(l)\n",
    "        if r is not None:\n",
    "            arr.append(r.data)\n",
    "            new_nodes.append(r)\n",
    "    nodes = new_nodes\n",
    "    if len(arr) > 0:\n",
    "        arrs.append(arr)\n",
    "        intervals = update(intervals, arr)\n",
    "        print(arr)\n",
    "        print(intervals)\n",
    "best_interval = None\n",
    "for interval in intervals:\n",
    "    if best_interval is None:\n",
    "        best_interval = interval\n",
    "        continue\n",
    "    l, h = best_interval\n",
    "    old_range, new_range = h - l, interval[1] - interval[0]\n",
    "    if old_range > new_range or (old_range == new_range and l > interval[0]):\n",
    "        best_interval = interval\n",
    "    \n",
    "print(best_interval)"
   ]
  },
  {
   "cell_type": "code",
   "execution_count": 45,
   "metadata": {},
   "outputs": [
    {
     "name": "stdout",
     "output_type": "stream",
     "text": [
      "[10, 12]\n",
      "[2, 4, 5, 7, 8, 14, 15, 18, 19, 20]\n",
      "5 5\n"
     ]
    }
   ],
   "source": [
    "arr = list(range(1, N + 1))\n",
    "random.shuffle(arr)\n",
    "arr = sorted(arr[:10])\n",
    "interval = sorted([random.randint(1, N), random.randint(1, N)])\n",
    "print(interval)\n",
    "print(arr)\n",
    "l, h = interval\n",
    "li = bisect.bisect_left(arr, l)\n",
    "hi = bisect.bisect_right(arr, h, lo=li)\n",
    "print(li, hi)"
   ]
  },
  {
   "cell_type": "code",
   "execution_count": null,
   "metadata": {},
   "outputs": [],
   "source": []
  },
  {
   "cell_type": "code",
   "execution_count": null,
   "metadata": {},
   "outputs": [],
   "source": []
  }
 ],
 "metadata": {
  "kernelspec": {
   "display_name": "Python 3",
   "language": "python",
   "name": "python3"
  },
  "language_info": {
   "codemirror_mode": {
    "name": "ipython",
    "version": 3
   },
   "file_extension": ".py",
   "mimetype": "text/x-python",
   "name": "python",
   "nbconvert_exporter": "python",
   "pygments_lexer": "ipython3",
   "version": "3.7.5"
  }
 },
 "nbformat": 4,
 "nbformat_minor": 4
}
