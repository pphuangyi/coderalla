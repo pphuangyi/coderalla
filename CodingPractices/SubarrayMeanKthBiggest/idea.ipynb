{
 "cells": [
  {
   "cell_type": "markdown",
   "metadata": {},
   "source": [
    "# Kth biggest of subarray mean "
   ]
  },
  {
   "cell_type": "markdown",
   "metadata": {},
   "source": [
    "## Description:\n",
    "\n",
    "Let $N, K$ be two positive integers with $K \\leq N$. \n",
    "Let $A$ be an array of length $N$. \n",
    "Order the means of all subarrays of $A$ in descending order and find its $k$-th ($1$-based) element.\n",
    "\n",
    "## Example:\n",
    "```\n",
    "sample input:\n",
    "3 3\n",
    "1 2 3\n",
    "\n",
    "sample output:\n",
    "2\n",
    "```\n",
    "## Scale and requirements:\n",
    "\n",
    " > $1 \\leq N \\leq 2\\cdot10^5$\n",
    "\n",
    " - time limit: $2$ seconds;\n",
    " - memory limit: $256$mb\n",
    " \n",
    "### Notes:\n",
    "1. from https://www.1point3acres.com/bbs/thread-717719-1-1.html;\n",
    "![title](SubarrayMeanKthBiggest_reference.png)"
   ]
  },
  {
   "cell_type": "markdown",
   "metadata": {},
   "source": [
    "## Solution\n",
    "From now on, we use $0$-based ordering.\n",
    "Let $S[i] = \\sum_{j = 0}^{j = i - 1}A[i]$, $i = 0, \\dots N$, then we have the summation from the $a$-th entry to $b-1$-th, $b > a$ entry can be written as $S[b] - S[a]$ and the mean is \n",
    "$\\frac{S[b] - S[a]}{b - a}$.\n",
    "Let $t$ be the value we guess to be the $k$-th entry ($1$-based) in the descending ordering of the means, if the guess is correct, then there must be at most $k - 1$ means that is strict bigger than $t$ and at least $k$ means that is bigger than or equal to $t$. \n",
    "Using the expression of mean above, we get the criterion is equivalent to having at most $k - 1$ pairs of indices $a$ and $b$ such that $S[b] - bt > S[a] - at$ and at least $k$ pairs $a$ and $b$ such that $S[b] - bt \\geq S[a] - at$. \n",
    "\n",
    "Let $B$ be the array defined by $B_t[i] = S[i] - it$, $i = 0, \\dots, N$, the problem becomes determining whether there are at most $k - 1$ pairs of indices $i < j$ such that $B_t[i] < B_t[j]$ and at least $k$ pairs with $B_t[i] \\leq B_t[j]$."
   ]
  },
  {
   "cell_type": "code",
   "execution_count": 65,
   "metadata": {},
   "outputs": [],
   "source": [
    "import random \n",
    "from time import time\n",
    "import numpy as np\n",
    "import matplotlib.pyplot as plt"
   ]
  },
  {
   "cell_type": "code",
   "execution_count": 64,
   "metadata": {},
   "outputs": [],
   "source": [
    "def getKth(arr, k):\n",
    "    lo, hi = min(arr), max(arr) + 1\n",
    "    while hi > lo:\n",
    "        m = (lo + hi) // 2\n",
    "        \n",
    "        b = sum([a > m for a in arr]) \n",
    "        e = sum([a == m for a in arr])\n",
    "        \n",
    "        if b < k and b + e >= k:\n",
    "            return m\n",
    "        elif b >= k:\n",
    "            lo = m + 1\n",
    "        else:\n",
    "            hi = m\n",
    "    return lo"
   ]
  },
  {
   "cell_type": "code",
   "execution_count": 78,
   "metadata": {},
   "outputs": [],
   "source": [
    "def merge(arr):\n",
    "    if len(arr) < 2:\n",
    "        return arr, 0, 0\n",
    "    \n",
    "    N = len(arr)\n",
    "    N_l, N_r = N // 2, (N + 1) // 2\n",
    "    arr_l, b_l, e_l = merge(arr[:N_l])\n",
    "    arr_r, b_r, e_r = merge(arr[N_l:])\n",
    "    \n",
    "    # Merge\n",
    "    b, e, i, j = 0, 0, 0, 0\n",
    "    arr_merged = []\n",
    "    while i < N_l and j < N_r:\n",
    "        l, r = arr_l[i], arr_r[j]\n",
    "        if l < r:\n",
    "            arr_merged.append(l)\n",
    "            b += N_r - j\n",
    "            i += 1\n",
    "        elif l == r:\n",
    "            u, v = i, j\n",
    "            while u < N_l and arr_l[u] == l:\n",
    "                u += 1\n",
    "            while v < N_r and arr_r[v] == l:\n",
    "                v += 1\n",
    "            e += (u - i) * (v - j)\n",
    "            b += (u - i) * (N_r - v)\n",
    "            arr_merged += [l] * (u - i + v - j)\n",
    "            i, j = u, v\n",
    "        else:\n",
    "            arr_merged.append(r)\n",
    "            j += 1\n",
    "    if i < N_l:\n",
    "        arr_merged += arr_l[i: ]\n",
    "    if j < N_r:\n",
    "        arr_merged += arr_r[j: ]\n",
    "\n",
    "    return arr_merged, b_l + b_r + b, e_l + e_r + e\n",
    "\n",
    "\n",
    "def getKth(arr, k):\n",
    "    \n",
    "    prefixSum = [0]\n",
    "    for a in arr:\n",
    "        prefixSum.append(prefixSum[-1] + a)\n",
    "    \n",
    "    \n",
    "    lo, hi = min(arr), max(arr) + 1\n",
    "    while hi > lo:\n",
    "        m = (lo + hi) // 2\n",
    "        \n",
    "        _, b, e = merge([ps - i * m for i, ps in enumerate(prefixSum)])\n",
    "        \n",
    "        if b < k and b + e >= k:\n",
    "            return m\n",
    "        elif b >= k:\n",
    "            lo = m + 1\n",
    "        else:\n",
    "            hi = m\n",
    "    return lo\n",
    "\n",
    "\n",
    "def bruteForce(arr, k):\n",
    "    means = arr.copy()\n",
    "    memo = arr.copy()\n",
    "    for n in range(1, len(arr)):\n",
    "        memo = [m + arr[i + n] for i, m in enumerate(memo[:-1])]\n",
    "        meams += [m / (n + 1)]\n",
    "        "
   ]
  },
  {
   "cell_type": "markdown",
   "metadata": {},
   "source": [
    "## Runtime comparison with brute-force solution"
   ]
  },
  {
   "cell_type": "code",
   "execution_count": null,
   "metadata": {},
   "outputs": [],
   "source": [
    "def bruteForce(arr):\n",
    "    b, e = 0, 0\n",
    "    for i in range(len(arr)):\n",
    "        for j in range(i + 1, len(arr)):\n",
    "            if arr[i] < arr[j]:\n",
    "                b += 1\n",
    "            elif arr[i] == arr[j]:\n",
    "                e += 1\n",
    "    return b, e"
   ]
  },
  {
   "cell_type": "code",
   "execution_count": 77,
   "metadata": {},
   "outputs": [
    {
     "data": {
      "image/png": "[encoded data removed]",
      "text/plain": [
       "<Figure size 432x288 with 1 Axes>"
      ]
     },
     "metadata": {
      "needs_background": "light"
     },
     "output_type": "display_data"
    }
   ],
   "source": [
    "num_reruns = 50\n",
    "\n",
    "TE, TBF = [], []\n",
    "for N in range(100, 1050, 50):\n",
    "    # print(N)\n",
    "    te, tbf = [], []\n",
    "    for _ in range(num_reruns):\n",
    "        arr = [random.randint(1, N) for _ in range(N)]\n",
    "\n",
    "        time0 = time()\n",
    "        arr_sorted, b, e = merge(arr)\n",
    "        time1 = time()\n",
    "        te.append(time1 - time0)\n",
    "\n",
    "        time0 = time()\n",
    "        b_bf, e_bf = bruteForce(arr)\n",
    "        time1 = time()\n",
    "        tbf.append(time1 - time0)\n",
    "\n",
    "        if b != b_bf or e != e_bf:\n",
    "            print(arr)\n",
    "\n",
    "    ae, abf = np.mean(te), np.mean(tbf)\n",
    "    # print(f'\\tmerge: {ae:.6f}, brute force: {abf:.6f}')\n",
    "    TE.append(ae)\n",
    "    TBF.append(abf)\n",
    "\n",
    "plt.plot(TE, color='blue', label='merge')\n",
    "plt.plot(TBF, color='orange', label='brute force')\n",
    "plt.legend()\n",
    "plt.show()"
   ]
  },
  {
   "cell_type": "code",
   "execution_count": null,
   "metadata": {},
   "outputs": [],
   "source": []
  }
 ],
 "metadata": {
  "kernelspec": {
   "display_name": "Python 3",
   "language": "python",
   "name": "python3"
  },
  "language_info": {
   "codemirror_mode": {
    "name": "ipython",
    "version": 3
   },
   "file_extension": ".py",
   "mimetype": "text/x-python",
   "name": "python",
   "nbconvert_exporter": "python",
   "pygments_lexer": "ipython3",
   "version": "3.7.5"
  }
 },
 "nbformat": 4,
 "nbformat_minor": 4
}
